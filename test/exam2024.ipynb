{
 "cells": [
  {
   "cell_type": "code",
   "execution_count": 1,
   "id": "ec510dee",
   "metadata": {},
   "outputs": [],
   "source": []
  },
  {
   "cell_type": "code",
   "execution_count": 2,
   "id": "44fbece2",
   "metadata": {},
   "outputs": [],
   "source": [
    "using Random, Distributions"
   ]
  },
  {
   "cell_type": "code",
   "execution_count": 3,
   "id": "84631ada",
   "metadata": {},
   "outputs": [
    {
     "data": {
      "text/plain": [
       "draw (generic function with 1 method)"
      ]
     },
     "metadata": {},
     "output_type": "display_data"
    }
   ],
   "source": [
    "function draw(a, b; N=100000)\n",
    "    \n",
    "    x = rand(Uniform(0,1), N)\n",
    "\n",
    "    ϵ = rand(Normal(0.0, 0.5), N)\n",
    "\n",
    "    cst = b*ones(N)\n",
    "    y = cst + a*x + ϵ\n",
    "\n",
    "    return (;x, y)\n",
    "end"
   ]
  },
  {
   "cell_type": "code",
   "execution_count": 4,
   "id": "c050f4c3",
   "metadata": {},
   "outputs": [
    {
     "data": {
      "text/plain": [
       "(x = [0.4350151469510595, 0.08755034603683709, 0.7899973864385258, 0.874088056801624, 0.5390167090357885, 0.05268300781460711, 0.6849597032810697, 0.5311955089564023, 0.9306257211897302, 0.32248421501998736  …  0.2588353894645916, 0.7417784023896656, 0.8092200504615876, 0.5190211606478282, 0.6000380119119957, 0.5648923596703321, 0.0015548807316835278, 0.4521861812769513, 0.4812921764078668, 0.6066125513888361], y = [1.2256866668714648, 0.2873909810504014, 2.634126516050436, 2.9683244531366575, 1.4618986157618603, 0.442396654137024, 2.062893880898062, 2.3547164496024235, 2.727925334162077, 1.2383591211327187  …  0.9671189696726858, 1.6844711756478992, 2.788742524047944, 2.548515550216168, 1.2136192348849302, 1.5791053251490803, -0.06762960681892466, 1.5619694453249342, 1.6916089126075584, 2.528741548802491])"
      ]
     },
     "metadata": {},
     "output_type": "display_data"
    }
   ],
   "source": [
    "d = draw(2.5, 0.4)"
   ]
  },
  {
   "cell_type": "code",
   "execution_count": 5,
   "id": "2f9c3f1f",
   "metadata": {},
   "outputs": [],
   "source": [
    "using ForwardDiff"
   ]
  },
  {
   "cell_type": "code",
   "execution_count": 6,
   "id": "8d7355bb",
   "metadata": {},
   "outputs": [
    {
     "data": {
      "text/plain": [
       "loss (generic function with 1 method)"
      ]
     },
     "metadata": {},
     "output_type": "display_data"
    }
   ],
   "source": [
    "function loss(d, θ)\n",
    "\n",
    "    N = length(d.x)\n",
    "    x = d.x\n",
    "    y = d.y\n",
    "    a = θ[1]\n",
    "    b = θ[2]\n",
    "    \n",
    "    ll = sum( (a*x[i] + b - y[i])^2 for i in 1:N) / N\n",
    "    return ll \n",
    "\n",
    "end"
   ]
  },
  {
   "cell_type": "code",
   "execution_count": 7,
   "id": "ad051164",
   "metadata": {},
   "outputs": [
    {
     "data": {
      "text/plain": [
       "#14 (generic function with 1 method)"
      ]
     },
     "metadata": {},
     "output_type": "display_data"
    }
   ],
   "source": [
    "loss2min = θ -> loss(d, θ)"
   ]
  },
  {
   "cell_type": "code",
   "execution_count": 8,
   "id": "212b14df",
   "metadata": {},
   "outputs": [
    {
     "data": {
      "text/plain": [
       "0.2507676879915558"
      ]
     },
     "metadata": {},
     "output_type": "display_data"
    }
   ],
   "source": [
    "θ0 = [2.5; 0.4]\n",
    "loss2min(θ0)\n",
    "abs(loss2min(θ0))"
   ]
  },
  {
   "cell_type": "code",
   "execution_count": 9,
   "id": "93ff2dad",
   "metadata": {},
   "outputs": [
    {
     "data": {
      "text/plain": [
       "gd (generic function with 1 method)"
      ]
     },
     "metadata": {},
     "output_type": "display_data"
    }
   ],
   "source": [
    "function gd(f, θ0, λ; N=1000, τ_η=1e-10, τ_ϵ=1e-10)\n",
    "    \n",
    "    θ1 = θ0\n",
    "    local θ1\n",
    "    \n",
    "    for n in 1:N\n",
    "        θ1 = θ0 - λ*ForwardDiff.gradient(f, θ0)\n",
    "\n",
    "        η = maximum(abs, θ1 - θ0)\n",
    "        ϵ = abs(f(θ0))\n",
    "\n",
    "        # @show(n, ϵ, η)\n",
    "        \n",
    "        if η < τ_η || ϵ < τ_ϵ\n",
    "            break\n",
    "        end\n",
    "\n",
    "        θ0 = θ1\n",
    "    end\n",
    "    return θ1\n",
    "end"
   ]
  },
  {
   "cell_type": "code",
   "execution_count": 10,
   "id": "d56b2955",
   "metadata": {},
   "outputs": [
    {
     "data": {
      "text/plain": [
       "2-element Vector{Float64}:\n",
       " 2.49663379758633\n",
       " 0.4012365762766747"
      ]
     },
     "metadata": {},
     "output_type": "display_data"
    }
   ],
   "source": [
    "θ0 = [2, 0.5]\n",
    "λ = 0.1\n",
    "gd(loss2min, θ0, λ)"
   ]
  },
  {
   "cell_type": "code",
   "execution_count": 11,
   "id": "67f3541b",
   "metadata": {},
   "outputs": [
    {
     "data": {
      "text/plain": [
       "bestL (generic function with 1 method)"
      ]
     },
     "metadata": {},
     "output_type": "display_data"
    }
   ],
   "source": [
    "function bestL(θstar, θ0)\n",
    "    λstar = 0.0  # Start with a default\n",
    "    for j in 0.1:0.05:1\n",
    "        θ = gd(loss2min, θ0, j)\n",
    "        η = maximum(abs, θstar - θ)\n",
    "        if η > 1e-1 \n",
    "            λstar = j \n",
    "            break\n",
    "        end\n",
    "    end\n",
    "    return λstar\n",
    "end\n"
   ]
  },
  {
   "cell_type": "code",
   "execution_count": 12,
   "id": "853a49d6",
   "metadata": {},
   "outputs": [
    {
     "data": {
      "text/plain": [
       "0.8"
      ]
     },
     "metadata": {},
     "output_type": "display_data"
    }
   ],
   "source": [
    "θstar = [2.5; 0.4]\n",
    "bestL(θstar, θ0)"
   ]
  },
  {
   "cell_type": "code",
   "execution_count": 13,
   "id": "65dac635",
   "metadata": {},
   "outputs": [
    {
     "data": {
      "text/plain": [
       "0.7432706835733192"
      ]
     },
     "metadata": {},
     "output_type": "display_data"
    }
   ],
   "source": [
    "rand(d.x) "
   ]
  },
  {
   "cell_type": "code",
   "execution_count": 14,
   "id": "227035fa",
   "metadata": {},
   "outputs": [],
   "source": [
    "import ForwardDiff: derivative"
   ]
  },
  {
   "cell_type": "code",
   "execution_count": 15,
   "id": "a7dc86a2",
   "metadata": {},
   "outputs": [
    {
     "data": {
      "text/plain": [
       "ξfun (generic function with 1 method)"
      ]
     },
     "metadata": {},
     "output_type": "display_data"
    }
   ],
   "source": [
    "function ξfun(d, a, b)\n",
    "\n",
    "    ii = rand(1:length(d.x))\n",
    "    x = d.x\n",
    "    y = d.y\n",
    "    emploss(a, b, x, y) = (a*x[ii] + b - y[ii])^2\n",
    "\n",
    "    ξ = emploss(a, b, x, y) \n",
    "    A = derivative(u->emploss(u, b, x, y), a)\n",
    "    B = derivative(u->emploss(a, u, x, y), b)\n",
    "\n",
    "    return ξ, A, B\n",
    "end"
   ]
  },
  {
   "cell_type": "code",
   "execution_count": 16,
   "id": "6989b2d5",
   "metadata": {},
   "outputs": [
    {
     "data": {
      "text/plain": [
       "(0.17158079780681698, 0.6597242955925863, 0.8284462512603143)"
      ]
     },
     "metadata": {},
     "output_type": "display_data"
    }
   ],
   "source": [
    "ξfun(d, 2.5, 0.4)"
   ]
  },
  {
   "cell_type": "code",
   "execution_count": 17,
   "id": "04a388a7",
   "metadata": {},
   "outputs": [
    {
     "data": {
      "text/plain": [
       "ξfun (generic function with 1 method)"
      ]
     },
     "metadata": {},
     "output_type": "display_data"
    }
   ],
   "source": [
    "ξfun"
   ]
  },
  {
   "cell_type": "code",
   "execution_count": 37,
   "id": "2ad64e6a",
   "metadata": {},
   "outputs": [
    {
     "data": {
      "text/plain": [
       "sgd (generic function with 1 method)"
      ]
     },
     "metadata": {},
     "output_type": "display_data"
    }
   ],
   "source": [
    "function sgd(d, a0, b0; λ=0.01, N=100000, τ_η=1e-10)\n",
    "\n",
    "    a1 = a0\n",
    "    b1 = b0\n",
    "    nend = 0\n",
    "\n",
    "    for n in 1:N\n",
    "            \n",
    "        ξ, A, B = ξfun(d, a0, b0)\n",
    "\n",
    "        a1 = a0 - λ*A\n",
    "        b1 = b0 - λ*B\n",
    "\n",
    "        ηa = maximum(abs, a1 - a0)\n",
    "        ηb = maximum(abs, b1 - b0)\n",
    "        η = max(ηa, ηb)\n",
    "\n",
    "        # @show n η\n",
    "        \n",
    "        if η < τ_η\n",
    "            break\n",
    "        end\n",
    "\n",
    "        a0 = a1\n",
    "        b0 = b1\n",
    "        nend = n\n",
    "\n",
    "    end\n",
    "    return a1, b1, nend\n",
    "end"
   ]
  },
  {
   "cell_type": "code",
   "execution_count": 38,
   "id": "55b45282",
   "metadata": {},
   "outputs": [
    {
     "data": {
      "text/plain": [
       "(2.417446929230463, 0.3974855172219214, 100000)"
      ]
     },
     "metadata": {},
     "output_type": "display_data"
    }
   ],
   "source": [
    "sgd(d, 0.0, 0.0)"
   ]
  },
  {
   "cell_type": "code",
   "execution_count": 20,
   "id": "d21f6316",
   "metadata": {},
   "outputs": [],
   "source": []
  }
 ],
 "metadata": {
  "kernelspec": {
   "display_name": "Julia 1.11.2",
   "language": "julia",
   "name": "julia-1.11"
  },
  "language_info": {
   "file_extension": ".jl",
   "mimetype": "application/julia",
   "name": "julia",
   "version": "1.11.2"
  }
 },
 "nbformat": 4,
 "nbformat_minor": 5
}
