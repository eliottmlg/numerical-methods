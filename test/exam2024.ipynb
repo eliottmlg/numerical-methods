{
 "cells": [
  {
   "cell_type": "code",
   "execution_count": 1,
   "id": "ec510dee",
   "metadata": {},
   "outputs": [],
   "source": []
  },
  {
   "cell_type": "code",
   "execution_count": 2,
   "id": "44fbece2",
   "metadata": {},
   "outputs": [],
   "source": [
    "using Random, Distributions"
   ]
  },
  {
   "cell_type": "code",
   "execution_count": 3,
   "id": "84631ada",
   "metadata": {},
   "outputs": [
    {
     "data": {
      "text/plain": [
       "draw (generic function with 1 method)"
      ]
     },
     "metadata": {},
     "output_type": "display_data"
    }
   ],
   "source": [
    "function draw(a, b; N=100000)\n",
    "    \n",
    "    x = rand(Uniform(0,1), N)\n",
    "\n",
    "    ϵ = rand(Normal(0.0, 0.5), N)\n",
    "\n",
    "    cst = b*ones(N)\n",
    "    y = cst + a*x + ϵ\n",
    "\n",
    "    return (;x, y)\n",
    "end"
   ]
  },
  {
   "cell_type": "code",
   "execution_count": 4,
   "id": "c050f4c3",
   "metadata": {},
   "outputs": [
    {
     "data": {
      "text/plain": [
       "(x = [0.4350151469510595, 0.08755034603683709, 0.7899973864385258, 0.874088056801624, 0.5390167090357885, 0.05268300781460711, 0.6849597032810697, 0.5311955089564023, 0.9306257211897302, 0.32248421501998736  …  0.2588353894645916, 0.7417784023896656, 0.8092200504615876, 0.5190211606478282, 0.6000380119119957, 0.5648923596703321, 0.0015548807316835278, 0.4521861812769513, 0.4812921764078668, 0.6066125513888361], y = [1.2256866668714648, 0.2873909810504014, 2.634126516050436, 2.9683244531366575, 1.4618986157618603, 0.442396654137024, 2.062893880898062, 2.3547164496024235, 2.727925334162077, 1.2383591211327187  …  0.9671189696726858, 1.6844711756478992, 2.788742524047944, 2.548515550216168, 1.2136192348849302, 1.5791053251490803, -0.06762960681892466, 1.5619694453249342, 1.6916089126075584, 2.528741548802491])"
      ]
     },
     "metadata": {},
     "output_type": "display_data"
    }
   ],
   "source": [
    "d = draw(2.5, 0.4)"
   ]
  },
  {
   "cell_type": "code",
   "execution_count": 5,
   "id": "2f9c3f1f",
   "metadata": {},
   "outputs": [],
   "source": [
    "using ForwardDiff"
   ]
  },
  {
   "cell_type": "code",
   "execution_count": 6,
   "id": "8d7355bb",
   "metadata": {},
   "outputs": [
    {
     "data": {
      "text/plain": [
       "loss (generic function with 1 method)"
      ]
     },
     "metadata": {},
     "output_type": "display_data"
    }
   ],
   "source": [
    "function loss(d, θ)\n",
    "\n",
    "    N = length(d.x)\n",
    "    x = d.x\n",
    "    y = d.y\n",
    "    a = θ[1]\n",
    "    b = θ[2]\n",
    "    \n",
    "    ll = sum( (a*x[i] + b - y[i])^2 for i in 1:N) / N\n",
    "    return ll \n",
    "\n",
    "end"
   ]
  },
  {
   "cell_type": "code",
   "execution_count": 7,
   "id": "ad051164",
   "metadata": {},
   "outputs": [
    {
     "data": {
      "text/plain": [
       "#14 (generic function with 1 method)"
      ]
     },
     "metadata": {},
     "output_type": "display_data"
    }
   ],
   "source": [
    "loss2min = θ -> loss(d, θ)"
   ]
  },
  {
   "cell_type": "code",
   "execution_count": 8,
   "id": "212b14df",
   "metadata": {},
   "outputs": [
    {
     "data": {
      "text/plain": [
       "0.2507676879915558"
      ]
     },
     "metadata": {},
     "output_type": "display_data"
    }
   ],
   "source": [
    "θ0 = [2.5; 0.4]\n",
    "loss2min(θ0)\n",
    "abs(loss2min(θ0))"
   ]
  },
  {
   "cell_type": "code",
   "execution_count": 9,
   "id": "93ff2dad",
   "metadata": {},
   "outputs": [
    {
     "data": {
      "text/plain": [
       "gd (generic function with 1 method)"
      ]
     },
     "metadata": {},
     "output_type": "display_data"
    }
   ],
   "source": [
    "function gd(f, θ0, λ; N=1000, τ_η=1e-10, τ_ϵ=1e-10)\n",
    "    \n",
    "    θ1 = θ0\n",
    "    local θ1\n",
    "    \n",
    "    for n in 1:N\n",
    "        θ1 = θ0 - λ*ForwardDiff.gradient(f, θ0)\n",
    "\n",
    "        η = maximum(abs, θ1 - θ0)\n",
    "        ϵ = abs(f(θ0))\n",
    "\n",
    "        # @show(n, ϵ, η)\n",
    "        \n",
    "        if η < τ_η || ϵ < τ_ϵ\n",
    "            break\n",
    "        end\n",
    "\n",
    "        θ0 = θ1\n",
    "    end\n",
    "    return θ1\n",
    "end"
   ]
  },
  {
   "cell_type": "code",
   "execution_count": 10,
   "id": "d56b2955",
   "metadata": {},
   "outputs": [
    {
     "data": {
      "text/plain": [
       "2-element Vector{Float64}:\n",
       " 2.49663379758633\n",
       " 0.4012365762766747"
      ]
     },
     "metadata": {},
     "output_type": "display_data"
    }
   ],
   "source": [
    "θ0 = [2, 0.5]\n",
    "λ = 0.1\n",
    "gd(loss2min, θ0, λ)"
   ]
  },
  {
   "cell_type": "code",
   "execution_count": 11,
   "id": "67f3541b",
   "metadata": {},
   "outputs": [
    {
     "data": {
      "text/plain": [
       "bestL (generic function with 1 method)"
      ]
     },
     "metadata": {},
     "output_type": "display_data"
    }
   ],
   "source": [
    "function bestL(θstar, θ0)\n",
    "    λstar = 0.0  # Start with a default\n",
    "    for j in 0.1:0.05:1\n",
    "        θ = gd(loss2min, θ0, j)\n",
    "        η = maximum(abs, θstar - θ)\n",
    "        if η > 1e-1 \n",
    "            λstar = j \n",
    "            break\n",
    "        end\n",
    "    end\n",
    "    return λstar\n",
    "end\n"
   ]
  },
  {
   "cell_type": "code",
   "execution_count": 12,
   "id": "853a49d6",
   "metadata": {},
   "outputs": [
    {
     "data": {
      "text/plain": [
       "0.8"
      ]
     },
     "metadata": {},
     "output_type": "display_data"
    }
   ],
   "source": [
    "θstar = [2.5; 0.4]\n",
    "bestL(θstar, θ0)"
   ]
  },
  {
   "cell_type": "code",
   "execution_count": 13,
   "id": "65dac635",
   "metadata": {},
   "outputs": [
    {
     "data": {
      "text/plain": [
       "0.7432706835733192"
      ]
     },
     "metadata": {},
     "output_type": "display_data"
    }
   ],
   "source": [
    "rand(d.x) "
   ]
  },
  {
   "cell_type": "code",
   "execution_count": 14,
   "id": "227035fa",
   "metadata": {},
   "outputs": [],
   "source": [
    "import ForwardDiff: derivative"
   ]
  },
  {
   "cell_type": "code",
   "execution_count": 15,
   "id": "a7dc86a2",
   "metadata": {},
   "outputs": [
    {
     "data": {
      "text/plain": [
       "ξfun (generic function with 1 method)"
      ]
     },
     "metadata": {},
     "output_type": "display_data"
    }
   ],
   "source": [
    "function ξfun(d, a, b)\n",
    "\n",
    "    ii = rand(1:length(d.x))\n",
    "    x = d.x\n",
    "    y = d.y\n",
    "    emploss(a, b, x, y) = (a*x[ii] + b - y[ii])^2\n",
    "\n",
    "    ξ = emploss(a, b, x, y) \n",
    "    A = derivative(u->emploss(u, b, x, y), a)\n",
    "    B = derivative(u->emploss(a, u, x, y), b)\n",
    "\n",
    "    return ξ, A, B\n",
    "end"
   ]
  },
  {
   "cell_type": "code",
   "execution_count": 16,
   "id": "6989b2d5",
   "metadata": {},
   "outputs": [
    {
     "data": {
      "text/plain": [
       "(0.17158079780681698, 0.6597242955925863, 0.8284462512603143)"
      ]
     },
     "metadata": {},
     "output_type": "display_data"
    }
   ],
   "source": [
    "ξfun(d, 2.5, 0.4)"
   ]
  },
  {
   "cell_type": "code",
   "execution_count": 17,
   "id": "04a388a7",
   "metadata": {},
   "outputs": [
    {
     "data": {
      "text/plain": [
       "ξfun (generic function with 1 method)"
      ]
     },
     "metadata": {},
     "output_type": "display_data"
    }
   ],
   "source": [
    "ξfun"
   ]
  },
  {
   "cell_type": "code",
   "execution_count": 37,
   "id": "2ad64e6a",
   "metadata": {},
   "outputs": [
    {
     "data": {
      "text/plain": [
       "sgd (generic function with 1 method)"
      ]
     },
     "metadata": {},
     "output_type": "display_data"
    }
   ],
   "source": [
    "function sgd(d, a0, b0; λ=0.01, N=100000, τ_η=1e-10)\n",
    "\n",
    "    a1 = a0\n",
    "    b1 = b0\n",
    "    nend = 0\n",
    "\n",
    "    for n in 1:N\n",
    "            \n",
    "        ξ, A, B = ξfun(d, a0, b0)\n",
    "\n",
    "        a1 = a0 - λ*A\n",
    "        b1 = b0 - λ*B\n",
    "\n",
    "        ηa = maximum(abs, a1 - a0)\n",
    "        ηb = maximum(abs, b1 - b0)\n",
    "        η = max(ηa, ηb)\n",
    "\n",
    "        # @show n η\n",
    "        \n",
    "        if η < τ_η\n",
    "            break\n",
    "        end\n",
    "\n",
    "        a0 = a1\n",
    "        b0 = b1\n",
    "        nend = n\n",
    "\n",
    "    end\n",
    "    return a1, b1, nend\n",
    "end"
   ]
  },
  {
   "cell_type": "code",
   "execution_count": 38,
   "id": "55b45282",
   "metadata": {},
   "outputs": [
    {
     "data": {
      "text/plain": [
       "(2.417446929230463, 0.3974855172219214, 100000)"
      ]
     },
     "metadata": {},
     "output_type": "display_data"
    }
   ],
   "source": [
    "sgd(d, 0.0, 0.0)"
   ]
  },
  {
   "cell_type": "code",
   "execution_count": 1,
   "id": "d21f6316",
   "metadata": {},
   "outputs": [
    {
     "name": "stderr",
     "output_type": "stream",
     "text": [
      "\u001b[32m\u001b[1m    Updating\u001b[22m\u001b[39m registry at `C:\\Users\\eliot\\.julia\\registries\\General.toml`\n",
      "\u001b[32m\u001b[1m   Resolving\u001b[22m\u001b[39m package versions...\n",
      "\u001b[32m\u001b[1m   Installed\u001b[22m\u001b[39m SpecialFunctions ─ v2.5.1\n",
      "\u001b[32m\u001b[1m    Updating\u001b[22m\u001b[39m `C:\\Users\\eliot\\.julia\\environments\\v1.11\\Project.toml`\n",
      "  \u001b[90m[276daf66] \u001b[39m\u001b[92m+ SpecialFunctions v2.5.1\u001b[39m\n",
      "\u001b[32m\u001b[1m    Updating\u001b[22m\u001b[39m `C:\\Users\\eliot\\.julia\\environments\\v1.11\\Manifest.toml`\n",
      "  \u001b[90m[276daf66] \u001b[39m\u001b[93m↑ SpecialFunctions v2.5.0 ⇒ v2.5.1\u001b[39m\n",
      "\u001b[92m\u001b[1mPrecompiling\u001b[22m\u001b[39m project...\n",
      "   4146.1 ms\u001b[32m  ✓ \u001b[39mSpecialFunctions\n",
      "   2033.8 ms\u001b[32m  ✓ \u001b[39m\u001b[90mHypergeometricFunctions\u001b[39m\n",
      "   2519.4 ms\u001b[32m  ✓ \u001b[39m\u001b[90mColorVectorSpace → SpecialFunctionsExt\u001b[39m\n",
      "   5743.5 ms\u001b[32m  ✓ \u001b[39mForwardDiff\n",
      "   4819.4 ms\u001b[32m  ✓ \u001b[39m\u001b[90mStatsFuns\u001b[39m\n",
      "   3467.7 ms\u001b[32m  ✓ \u001b[39m\u001b[90mDifferentiationInterface → DifferentiationInterfaceForwardDiffExt\u001b[39m\n",
      "   1518.2 ms\u001b[32m  ✓ \u001b[39m\u001b[90mNLSolversBase\u001b[39m\n",
      "   2357.8 ms\u001b[32m  ✓ \u001b[39m\u001b[90mLineSearches\u001b[39m\n",
      "   8333.2 ms\u001b[32m  ✓ \u001b[39mDistributions\n",
      "   3843.1 ms\u001b[32m  ✓ \u001b[39mOptim\n",
      "   1642.0 ms\u001b[32m  ✓ \u001b[39mDistributions → DistributionsTestExt\n",
      "  11 dependencies successfully precompiled in 43 seconds. 251 already precompiled.\n"
     ]
    }
   ],
   "source": [
    "import Pkg; Pkg.add(\"SpecialFunctions\")"
   ]
  },
  {
   "cell_type": "code",
   "execution_count": 2,
   "id": "05b961de",
   "metadata": {},
   "outputs": [
    {
     "data": {
      "text/plain": [
       "tauchen (generic function with 3 methods)"
      ]
     },
     "metadata": {},
     "output_type": "display_data"
    }
   ],
   "source": [
    "using SpecialFunctions: erfc\n",
    "\n",
    "std_norm_cdf(x::T) where {T <: Real} = 0.5 * erfc(-x/sqrt(2))\n",
    "std_norm_cdf(x::Array{T}) where {T <: Real} = 0.5 .* erfc(-x./sqrt(2))\n",
    "\n",
    "function tauchen(N::Integer, ρ::T1, σ::T2, μ=zero(promote_type(T1, T2)), n_std::T3=3) where {T1 <: Real, T2 <: Real, T3 <: Real}\n",
    "    # Get discretized space\n",
    "    a_bar = n_std * sqrt(σ^2 / (1 - ρ^2))\n",
    "    y = range(-a_bar, stop=a_bar, length=N)\n",
    "    d = y[2] - y[1]\n",
    "\n",
    "    # Get transition probabilities\n",
    "    Π = zeros(promote_type(T1, T2), N, N)\n",
    "    for row = 1:N\n",
    "        # Do end points first\n",
    "        Π[row, 1] = std_norm_cdf((y[1] - ρ*y[row] + d/2) / σ)\n",
    "        Π[row, N] = 1 - std_norm_cdf((y[N] - ρ*y[row] - d/2) / σ)\n",
    "\n",
    "        # fill in the middle columns\n",
    "        for col = 2:N-1\n",
    "            Π[row, col] = (std_norm_cdf((y[col] - ρ*y[row] + d/2) / σ) -\n",
    "                           std_norm_cdf((y[col] - ρ*y[row] - d/2) / σ))\n",
    "        end\n",
    "    end\n",
    "\n",
    "    yy = y .+ μ / (1 - ρ) # center process around its mean (wbar / (1 - rho)) in new variable\n",
    "\n",
    "    (;transitions=Π, values=yy)\n",
    "\n",
    "end"
   ]
  },
  {
   "cell_type": "code",
   "execution_count": 12,
   "id": "299874ed",
   "metadata": {},
   "outputs": [
    {
     "data": {
      "text/plain": [
       "(transitions = [0.33283268994867254 0.035774340757924517 … 0.0 0.0; 0.30019619386767143 0.03439273186444319 … 0.0 0.0; … ; 1.7641418264378537e-77 8.866118616048715e-77 … 0.03439273186444325 0.3001961938676714; 3.1752918163376773e-78 1.612793496199978e-77 … 0.035774340757924517 0.33283268994867254], values = 1.0392310771694757:0.009655969073673595:2.960768922830521)"
      ]
     },
     "metadata": {},
     "output_type": "display_data"
    }
   ],
   "source": [
    "ar1 = tauchen(200, 0.95, 0.1, 0.1, 3)"
   ]
  },
  {
   "cell_type": "code",
   "execution_count": 23,
   "id": "952139d5",
   "metadata": {},
   "outputs": [],
   "source": [
    "for j in 1:200\n",
    "    rowval = sum(ar1.transitions[j,i] for i in 1:200)\n",
    "    if rowval > 1.0 + 1e-3 || rowval < 1.0 - 1e-3 \n",
    "        print(\"not goood\")\n",
    "        break\n",
    "    end\n",
    "end\n"
   ]
  },
  {
   "cell_type": "code",
   "execution_count": 32,
   "id": "41957f2f",
   "metadata": {},
   "outputs": [
    {
     "data": {
      "text/plain": [
       "create_exit_model"
      ]
     },
     "metadata": {},
     "output_type": "display_data"
    }
   ],
   "source": [
    "\"Creates an instance of the firm exit model.\"\n",
    "function create_exit_model(;\n",
    "    n=200, # productivity grid size\n",
    "    ρ=0.95, μ=0.1, ν=0.1, # persistence, mean and volatility\n",
    "    β=0.98, s=100.0 # discount factor and scrap value\n",
    "    )\n",
    "    mc = tauchen(n, ρ, ν, μ)\n",
    "    z_vals, Q = mc.values, mc.transitions\n",
    "    return (; n, z_vals, Q, β, s)\n",
    "end"
   ]
  },
  {
   "cell_type": "code",
   "execution_count": 33,
   "id": "2441fafd",
   "metadata": {},
   "outputs": [
    {
     "data": {
      "text/plain": [
       "(n = 200, z_vals = 1.0392310771694757:0.009655969073673595:2.960768922830521, Q = [0.33283268994867254 0.035774340757924517 … 0.0 0.0; 0.30019619386767143 0.03439273186444319 … 0.0 0.0; … ; 1.7641418264378537e-77 8.866118616048715e-77 … 0.03439273186444325 0.3001961938676714; 3.1752918163376773e-78 1.612793496199978e-77 … 0.035774340757924517 0.33283268994867254], β = 0.98, s = 100.0)"
      ]
     },
     "metadata": {},
     "output_type": "display_data"
    }
   ],
   "source": [
    "(; n, z_vals, Q, β, s) = create_exit_model()  \n"
   ]
  },
  {
   "cell_type": "code",
   "execution_count": null,
   "id": "7fa26c56",
   "metadata": {},
   "outputs": [],
   "source": [
    "# state: current productivity (y)\n",
    "# control: operate OR exit \n",
    "# reward: profit\n",
    "\n",
    "# value function for the firm\n",
    "# V(y) = y + β*E[V(yprime)]\n",
    "# value function is the current profit + beta and the continuation value\n",
    "# where next value function is uncertain due to productivity being a random variable\n",
    "# we can use the markov chain transition matrix to compute the expected value of next period's VF\n",
    "# the decision rule is a 0 (exit) or 1 (operate) object"
   ]
  },
  {
   "cell_type": "code",
   "execution_count": 73,
   "id": "482a6e89",
   "metadata": {},
   "outputs": [
    {
     "data": {
      "text/plain": [
       "bellman_step (generic function with 1 method)"
      ]
     },
     "metadata": {},
     "output_type": "display_data"
    }
   ],
   "source": [
    "function bellman_step(V_O, V_E)\n",
    "\n",
    "    (; n, z_vals, Q, β, s) = create_exit_model()  \n",
    "\n",
    "    n_V_O = zeros(n)\n",
    "    n_V_E = zeros(n)\n",
    "    n_x = zeros(Bool, n)\n",
    "\n",
    "    # exit\n",
    "    for i in 1:n\n",
    "\n",
    "        cont_O = sum(Q[i,j]*V_O[j] for j in 1:n) # operate\n",
    "        n_V_O[i] = z_vals[i] + β*cont_O\n",
    "\n",
    "        cont_E = 0 # exit\n",
    "        n_V_E[i] = s\n",
    "\n",
    "        n_V = max(n_V_E[i], n_V_O[i])\n",
    "\n",
    "        if n_V == n_V_O[i]\n",
    "            n_x[i] = true\n",
    "        else\n",
    "            n_x[i] = false\n",
    "        end\n",
    "        \n",
    "    end\n",
    "\n",
    "    return (; n_V_O, n_V_E, n_x)\n",
    "end"
   ]
  },
  {
   "cell_type": "code",
   "execution_count": 75,
   "id": "6243709e",
   "metadata": {},
   "outputs": [
    {
     "data": {
      "text/plain": [
       "(n_V_O = [99.0392310771696, 99.04888704624324, 99.058543015317, 99.06819898439065, 99.07785495346431, 99.08751092253794, 99.0971668916117, 99.10682286068534, 99.11647882975902, 99.12613479883267  …  100.8738652011676, 100.88352117024127, 100.89317713931493, 100.90283310838859, 100.91248907746228, 100.92214504653595, 100.93180101560961, 100.94145698468331, 100.95111295375696, 100.96076892283062], n_V_E = [100.0, 100.0, 100.0, 100.0, 100.0, 100.0, 100.0, 100.0, 100.0, 100.0  …  100.0, 100.0, 100.0, 100.0, 100.0, 100.0, 100.0, 100.0, 100.0, 100.0], n_x = Bool[0, 0, 0, 0, 0, 0, 0, 0, 0, 0  …  1, 1, 1, 1, 1, 1, 1, 1, 1, 1])"
      ]
     },
     "metadata": {},
     "output_type": "display_data"
    }
   ],
   "source": [
    "V_O_0 = ones(200)*100\n",
    "V_E_0 = zeros(200)\n",
    "bellman_step(V_O_0, V_E_0)"
   ]
  },
  {
   "cell_type": "code",
   "execution_count": 76,
   "id": "5f596587",
   "metadata": {},
   "outputs": [
    {
     "data": {
      "text/plain": [
       "distance (generic function with 1 method)"
      ]
     },
     "metadata": {},
     "output_type": "display_data"
    }
   ],
   "source": [
    "distance(a::Tuple{Vector, Vector}, b::Tuple{Vector, Vector})  = max(\n",
    "    maximum(abs.(a[1]-b[1])),\n",
    "    maximum(abs.(a[2]-b[2])),\n",
    ")"
   ]
  },
  {
   "cell_type": "code",
   "execution_count": 77,
   "id": "ef7024c8",
   "metadata": {},
   "outputs": [
    {
     "data": {
      "text/plain": [
       "value_function_iteration (generic function with 1 method)"
      ]
     },
     "metadata": {},
     "output_type": "display_data"
    }
   ],
   "source": [
    "function value_function_iteration(V_O_0, V_E_0; N=1000, τ=1e-8)\n",
    "    \n",
    "    local  V_O_1, V_E_1, x_1\n",
    "\n",
    "    for i in 1:N \n",
    "\n",
    "        V_O_1, V_E_1, x_1 = bellman_step(V_O_0, V_E_0)\n",
    "\n",
    "        η = distance( (V_O_0, V_E_0), (V_O_1, V_E_1) )\n",
    "\n",
    "        @show (i, η)\n",
    "        \n",
    "        if η < τ\n",
    "            break\n",
    "        end\n",
    "\n",
    "        V_O_0 = V_O_1\n",
    "        V_E_0 = V_E_1 \n",
    "        \n",
    "    end\n",
    "\n",
    "    return (; V_O_1, V_E_1, x_1)\n",
    "end"
   ]
  },
  {
   "cell_type": "code",
   "execution_count": 78,
   "id": "a3703c30",
   "metadata": {},
   "outputs": [
    {
     "name": "stdout",
     "output_type": "stream",
     "text": [
      "(i, η) = (1, 100.0)\n",
      "(i, η) = (2, 0.8745055727127777)\n",
      "(i, η) = (3, 0.8039392154116598)\n",
      "(i, η) = (4, 0.7420196309352036)\n",
      "(i, η) = (5, 0.6863557675144136)\n",
      "(i, η) = (6, 0.6357303259703997)\n",
      "(i, η) = (7, 0.5893834611589739)\n",
      "(i, η) = (8, 0.5467788295507745)\n",
      "(i, η) = (9, 0.5075064367206039)\n",
      "(i, η) = (10, 0.47123561199263975)\n",
      "(i, η) = (11, 0.437689625121493)\n",
      "(i, η) = (12, 0.40663079574326844)\n",
      "(i, η) = (13, 0.37785115443597306)\n",
      "(i, η) = (14, 0.35116625055586326)\n",
      "(i, η) = (15, 0.3264108470714433)\n",
      "(i, η) = (16, 0.3034358018924195)\n",
      "(i, η) = (17, 0.28210572637031817)\n",
      "(i, η) = (18, 0.26229717151420573)\n",
      "(i, η) = (19, 0.24389718427180185)\n",
      "(i, η) = (20, 0.22680213103180336)\n",
      "(i, η) = (21, 0.21091671933263)\n",
      "(i, η) = (22, 0.1961531702695254)\n",
      "(i, η) = (23, 0.18243050812162664)\n",
      "(i, η) = (24, 0.1696739430832821)\n",
      "(i, η) = (25, 0.15781432936759643)\n",
      "(i, η) = (26, 0.1467876853816108)\n",
      "(i, η) = (27, 0.1365347658084488)\n",
      "(i, η) = (28, 0.12700067768642498)\n",
      "(i, η) = (29, 0.11813453422513476)\n",
      "(i, η) = (30, 0.10988914132451555)\n",
      "(i, η) = (31, 0.10222071268884747)\n",
      "(i, η) = (32, 0.09508861013856063)\n",
      "(i, η) = (33, 0.08845510627392628)\n",
      "(i, η) = (34, 0.08228516708270206)\n",
      "(i, η) = (35, 0.07654625243237945)\n",
      "(i, η) = (36, 0.07120813266934078)\n",
      "(i, η) = (37, 0.0662427197816271)\n",
      "(i, η) = (38, 0.06162391177082327)\n",
      "(i, η) = (39, 0.05732744904270248)\n",
      "(i, η) = (40, 0.05333078175934247)\n",
      "(i, η) = (41, 0.04961294721206855)\n",
      "(i, η) = (42, 0.0461544563734293)\n",
      "(i, η) = (43, 0.042937188873168)\n",
      "(i, η) = (44, 0.03994429571432079)\n",
      "(i, η) = (45, 0.0371601091156748)\n",
      "(i, η) = (46, 0.034570058918291124)\n",
      "(i, η) = (47, 0.032160595049376184)\n",
      "(i, η) = (48, 0.029919115578493916)\n",
      "(i, η) = (49, 0.027833899942251605)\n",
      "(i, η) = (50, 0.02589404694923303)\n",
      "(i, η) = (51, 0.02408941720909752)\n",
      "(i, η) = (52, 0.022410579658895813)\n",
      "(i, η) = (53, 0.020848761885616796)\n",
      "(i, η) = (54, 0.019395803967270808)\n",
      "(i, η) = (55, 0.018044115578533138)\n",
      "(i, η) = (56, 0.016786636122716914)\n",
      "(i, η) = (57, 0.015616797674539384)\n",
      "(i, η) = (58, 0.014528490530182125)\n",
      "(i, η) = (59, 0.01351603118014566)\n",
      "(i, η) = (60, 0.012574132530417614)\n",
      "(i, η) = (61, 0.011697876213418112)\n",
      "(i, η) = (62, 0.010882686840346878)\n",
      "(i, η) = (63, 0.010124308056859377)\n",
      "(i, η) = (64, 0.009418780275595395)\n",
      "(i, η) = (65, 0.008762419966444668)\n",
      "(i, η) = (66, 0.008151800395523878)\n",
      "(i, η) = (67, 0.007583733710731622)\n",
      "(i, η) = (68, 0.007055254279137557)\n",
      "(i, η) = (69, 0.006563603188098455)\n",
      "(i, η) = (70, 0.0061062138294118995)\n",
      "(i, η) = (71, 0.005680698489442193)\n",
      "(i, η) = (72, 0.00528483587577)\n",
      "(i, η) = (73, 0.004916559513858942)\n",
      "(i, η) = (74, 0.00457394695399671)\n",
      "(i, η) = (75, 0.004255209730544607)\n",
      "(i, η) = (76, 0.003958684022279613)\n",
      "(i, η) = (77, 0.003682821963565175)\n",
      "(i, η) = (78, 0.003426183561956009)\n",
      "(i, η) = (79, 0.0031874291792206577)\n",
      "(i, η) = (80, 0.002965312536460374)\n",
      "(i, η) = (81, 0.0027586742074419135)\n",
      "(i, η) = (82, 0.002566435565086067)\n",
      "(i, η) = (83, 0.002387593150160683)\n",
      "(i, η) = (84, 0.0022212134325343413)\n",
      "(i, η) = (85, 0.002066427937648996)\n",
      "(i, η) = (86, 0.0019224287128309925)\n",
      "(i, η) = (87, 0.0017884641089978004)\n",
      "(i, η) = (88, 0.0016638348573110306)\n",
      "(i, η) = (89, 0.001547890418606812)\n",
      "(i, η) = (90, 0.00144002558742784)\n",
      "(i, η) = (91, 0.0013396773328082645)\n",
      "(i, η) = (92, 0.0012463218592984049)\n",
      "(i, η) = (93, 0.0011594718725405073)\n",
      "(i, η) = (94, 0.0010786740358668112)\n",
      "(i, η) = (95, 0.0010035066035953832)\n",
      "(i, η) = (96, 0.0009335772196266134)\n",
      "(i, η) = (97, 0.0008685208696164182)\n",
      "(i, η) = (98, 0.0008079979752722011)\n",
      "(i, η) = (99, 0.0007516926220034748)\n",
      "(i, η) = (100, 0.0006993109099369121)\n",
      "(i, η) = (101, 0.0006505794195987846)\n",
      "(i, η) = (102, 0.0006052437849746184)\n",
      "(i, η) = (103, 0.000563067365433767)\n",
      "(i, η) = (104, 0.0005238300109198235)\n",
      "(i, η) = (105, 0.0004873269124345825)\n",
      "(i, η) = (106, 0.00045336753311175926)\n",
      "(i, η) = (107, 0.00042177461376979863)\n",
      "(i, η) = (108, 0.00039238324761470267)\n",
      "(i, η) = (109, 0.0003650400191332892)\n",
      "(i, η) = (110, 0.0003396022039368063)\n",
      "(i, η) = (111, 0.00031593702317422867)\n",
      "(i, η) = (112, 0.0002939209508241447)\n",
      "(i, η) = (113, 0.00027343906855037403)\n",
      "(i, η) = (114, 0.0002543844664586459)\n",
      "(i, η) = (115, 0.00023665768443947854)\n",
      "(i, η) = (116, 0.00022016619332987375)\n",
      "(i, η) = (117, 0.00020482391185794313)\n",
      "(i, η) = (118, 0.00019055075732410387)\n",
      "(i, η) = (119, 0.0001772722276314198)\n",
      "(i, η) = (120, 0.00016491901232029704)\n",
      "(i, η) = (121, 0.000153426630845388)\n",
      "(i, η) = (122, 0.00014273509599149747)\n",
      "(i, η) = (123, 0.00013278860076582077)\n",
      "(i, η) = (124, 0.00012353522711805454)\n",
      "(i, η) = (125, 0.0001149266747972888)\n",
      "(i, η) = (126, 0.00010691800946460717)\n",
      "(i, η) = (127, 9.946742795818864e-5)\n",
      "(i, η) = (128, 9.253604025616369e-5)\n",
      "(i, η) = (129, 8.608766631823528e-5)\n",
      "(i, η) = (130, 8.008864732289567e-5)\n",
      "(i, η) = (131, 7.450766992178615e-5)\n",
      "(i, η) = (132, 6.931560294276551e-5)\n",
      "(i, η) = (133, 6.448534522007776e-5)\n",
      "(i, η) = (134, 5.999168394055232e-5)\n",
      "(i, η) = (135, 5.5811163448993284e-5)\n",
      "(i, η) = (136, 5.192196262271409e-5)\n",
      "(i, η) = (137, 4.830378060205476e-5)\n",
      "(i, η) = (138, 4.4937731686900406e-5)\n",
      "(i, η) = (139, 4.1806245860698255e-5)\n",
      "(i, η) = (140, 3.8892977642035476e-5)\n",
      "(i, η) = (141, 3.618272053529381e-5)\n",
      "(i, η) = (142, 3.3661327691447696e-5)\n",
      "(i, η) = (143, 3.131563806846316e-5)\n",
      "(i, η) = (144, 2.9133407835502112e-5)\n",
      "(i, η) = (145, 2.710324632460015e-5)\n",
      "(i, η) = (146, 2.521455662929384e-5)\n",
      "(i, η) = (147, 2.345748022491989e-5)\n",
      "(i, η) = (148, 2.1822845752694775e-5)\n",
      "(i, η) = (149, 2.0302120759652098e-5)\n",
      "(i, η) = (150, 1.8887367531306154e-5)\n",
      "(i, η) = (151, 1.7571201269106496e-5)\n",
      "(i, η) = (152, 1.6346752147455845e-5)\n",
      "(i, η) = (153, 1.5207628763391767e-5)\n",
      "(i, η) = (154, 1.4147885167403729e-5)\n",
      "(i, η) = (155, 1.3161989770082982e-5)\n",
      "(i, η) = (156, 1.224479653672006e-5)\n",
      "(i, η) = (157, 1.1391517887204827e-5)\n",
      "(i, η) = (158, 1.059769995492843e-5)\n",
      "(i, η) = (159, 9.859199252559847e-6)\n",
      "(i, η) = (160, 9.172160957859887e-6)\n",
      "(i, η) = (161, 8.53299890479775e-6)\n",
      "(i, η) = (162, 7.938376953120496e-6)\n",
      "(i, η) = (163, 7.385191096886956e-6)\n",
      "(i, η) = (164, 6.870554059901224e-6)\n",
      "(i, η) = (165, 6.391779507453066e-6)\n",
      "(i, η) = (166, 5.946368432319105e-6)\n",
      "(i, η) = (167, 5.531995682872548e-6)\n",
      "(i, η) = (168, 5.1464985659777085e-6)\n",
      "(i, η) = (169, 4.787864824606913e-6)\n",
      "(i, η) = (170, 4.454222462868529e-6)\n",
      "(i, η) = (171, 4.143829954728062e-6)\n",
      "(i, η) = (172, 3.855067220115416e-6)\n",
      "(i, η) = (173, 3.58642682840582e-6)\n",
      "(i, η) = (174, 3.336506679829654e-6)\n",
      "(i, η) = (175, 3.104002232134917e-6)\n",
      "(i, η) = (176, 2.8876998072746574e-6)\n",
      "(i, η) = (177, 2.6864704381068805e-6)\n",
      "(i, η) = (178, 2.4992638003595857e-6)\n",
      "(i, η) = (179, 2.3251025851322993e-6)\n",
      "(i, η) = (180, 2.1630777951031632e-6)\n",
      "(i, η) = (181, 2.0123437565189306e-6)\n",
      "(i, η) = (182, 1.872113600143166e-6)\n",
      "(i, η) = (183, 1.7416553248494893e-6)\n",
      "(i, η) = (184, 1.6202880601667857e-6)\n",
      "(i, η) = (185, 1.507378314613561e-6)\n",
      "(i, η) = (186, 1.4023366361470835e-6)\n",
      "(i, η) = (187, 1.3046148978901329e-6)\n",
      "(i, η) = (188, 1.2137027312064674e-6)\n",
      "(i, η) = (189, 1.1291258772416768e-6)\n",
      "(i, η) = (190, 1.0504427621071954e-6)\n",
      "(i, η) = (191, 9.772426352583352e-7)\n",
      "(i, η) = (192, 9.091434662877873e-7)\n",
      "(i, η) = (193, 8.457897990865604e-7)\n",
      "(i, η) = (194, 7.868509612762864e-7)\n",
      "(i, η) = (195, 7.320192452198171e-7)\n",
      "(i, η) = (196, 6.81008557990026e-7)\n",
      "(i, η) = (197, 6.33552403428439e-7)\n",
      "(i, η) = (198, 5.894033137110455e-7)\n",
      "(i, η) = (199, 5.483307461418008e-7)\n",
      "(i, η) = (200, 5.101203015556166e-7)\n",
      "(i, η) = (201, 4.745726016608387e-7)\n",
      "(i, η) = (202, 4.4150198164061294e-7)\n",
      "(i, η) = (203, 4.107359359295515e-7)\n",
      "(i, η) = (204, 3.8211378239338956e-7)\n",
      "(i, η) = (205, 3.554861933707798e-7)\n",
      "(i, η) = (206, 3.3071417249175283e-7)\n",
      "(i, η) = (207, 3.0766834413498145e-7)\n",
      "(i, η) = (208, 2.862284560478656e-7)\n",
      "(i, η) = (209, 2.6628264038208727e-7)\n",
      "(i, η) = (210, 2.4772674578343867e-7)\n",
      "(i, η) = (211, 2.3046386843361688e-7)\n",
      "(i, η) = (212, 2.1440401098971051e-7)\n",
      "(i, η) = (213, 1.9946327256548102e-7)\n",
      "(i, η) = (214, 1.8556366399025137e-7)\n",
      "(i, η) = (215, 1.726326672724099e-7)\n",
      "(i, η) = (216, 1.6060279506291408e-7)\n",
      "(i, η) = (217, 1.4941116432964918e-7)\n",
      "(i, η) = (218, 1.38999453724864e-7)\n",
      "(i, η) = (219, 1.2931326409670874e-7)\n",
      "(i, η) = (220, 1.2030207585667085e-7)\n",
      "(i, η) = (221, 1.1191883686478832e-7)\n",
      "(i, η) = (222, 1.0411976347768359e-7)\n",
      "(i, η) = (223, 9.686419844001648e-8)\n",
      "(i, η) = (224, 9.01141987696974e-8)\n",
      "(i, η) = (225, 8.383460681216093e-8)\n",
      "(i, η) = (226, 7.799259549301496e-8)\n",
      "(i, η) = (227, 7.255766831804067e-8)\n",
      "(i, η) = (228, 6.750147463208123e-8)\n",
      "(i, η) = (229, 6.279766751049465e-8)\n",
      "(i, η) = (230, 5.842159112035006e-8)\n",
      "(i, η) = (231, 5.4350479672393703e-8)\n",
      "(i, η) = (232, 5.05631305713905e-8)\n",
      "(i, η) = (233, 4.703959177732031e-8)\n",
      "(i, η) = (234, 4.3761630763583526e-8)\n",
      "(i, η) = (235, 4.071208081768418e-8)\n",
      "(i, η) = (236, 3.7875082625760115e-8)\n",
      "(i, η) = (237, 3.523581426634337e-8)\n",
      "(i, η) = (238, 3.2780377523522475e-8)\n",
      "(i, η) = (239, 3.049601104976318e-8)\n",
      "(i, η) = (240, 2.837093404650659e-8)\n",
      "(i, η) = (241, 2.6393934149382403e-8)\n",
      "(i, η) = (242, 2.4554637434448523e-8)\n",
      "(i, η) = (243, 2.284353683990048e-8)\n",
      "(i, η) = (244, 2.1251736370686558e-8)\n",
      "(i, η) = (245, 1.9770794779105927e-8)\n",
      "(i, η) = (246, 1.8393080836176523e-8)\n",
      "(i, η) = (247, 1.7111347005993593e-8)\n",
      "(i, η) = (248, 1.591892839769571e-8)\n",
      "(i, η) = (249, 1.4809614867772325e-8)\n",
      "(i, η) = (250, 1.3777622598354355e-8)\n",
      "(i, η) = (251, 1.2817523042940593e-8)\n",
      "(i, η) = (252, 1.1924370824090147e-8)\n",
      "(i, η) = (253, 1.109339109461871e-8)\n",
      "(i, η) = (254, 1.0320334808966436e-8)\n",
      "(i, η) = (255, 9.601180295248923e-9)\n"
     ]
    },
    {
     "data": {
      "text/plain": [
       "(V_O_1 = [86.94196176607045, 87.02159767318138, 87.10498448391486, 87.19201959354565, 87.28258199104064, 87.37653506135277, 87.47372952826018, 87.57400643871564, 87.6772000962614, 87.7831408613774  …  112.21685913863661, 112.32279990375257, 112.42599356129821, 112.52627047175383, 112.62346493866123, 112.71741800897325, 112.80798040646829, 112.89501551609904, 112.9784023268325, 113.05803823394346], V_E_1 = [100.0, 100.0, 100.0, 100.0, 100.0, 100.0, 100.0, 100.0, 100.0, 100.0  …  100.0, 100.0, 100.0, 100.0, 100.0, 100.0, 100.0, 100.0, 100.0, 100.0], x_1 = Bool[0, 0, 0, 0, 0, 0, 0, 0, 0, 0  …  1, 1, 1, 1, 1, 1, 1, 1, 1, 1])"
      ]
     },
     "metadata": {},
     "output_type": "display_data"
    }
   ],
   "source": [
    "V_O, V_E, x = value_function_iteration(V_O_0, V_E_0)"
   ]
  },
  {
   "cell_type": "code",
   "execution_count": 79,
   "id": "2008bb37",
   "metadata": {},
   "outputs": [],
   "source": [
    "using Plots"
   ]
  },
  {
   "cell_type": "code",
   "execution_count": 80,
   "id": "f8102a1a",
   "metadata": {},
   "outputs": [
    {
     "data": {
      "image/png": "[encoded data removed]",
      "image/svg+xml": [
       "<?xml version=\"1.0\" encoding=\"utf-8\"?>\n",
       "<svg xmlns=\"http://www.w3.org/2000/svg\" xmlns:xlink=\"http://www.w3.org/1999/xlink\" width=\"600\" height=\"400\" viewBox=\"0 0 2400 1600\">\n",
       "<defs>\n",
       "  <clipPath id=\"clip660\">\n",
       "    <rect x=\"0\" y=\"0\" width=\"2400\" height=\"1600\"/>\n",
       "  </clipPath>\n",
       "</defs>\n",
       "<path clip-path=\"url(#clip660)\" d=\"M0 1600 L2400 1600 L2400 0 L0 0  Z\" fill=\"#ffffff\" fill-rule=\"evenodd\" fill-opacity=\"1\"/>\n",
       "<defs>\n",
       "  <clipPath id=\"clip661\">\n",
       "    <rect x=\"480\" y=\"0\" width=\"1681\" height=\"1600\"/>\n",
       "  </clipPath>\n",
       "</defs>\n",
       "<path clip-path=\"url(#clip660)\" d=\"M169.121 1486.45 L2352.76 1486.45 L2352.76 47.2441 L169.121 47.2441  Z\" fill=\"#ffffff\" fill-rule=\"evenodd\" fill-opacity=\"1\"/>\n",
       "<defs>\n",
       "  <clipPath id=\"clip662\">\n",
       "    <rect x=\"169\" y=\"47\" width=\"2185\" height=\"1440\"/>\n",
       "  </clipPath>\n",
       "</defs>\n",
       "<polyline clip-path=\"url(#clip662)\" style=\"stroke:#000000; stroke-linecap:round; stroke-linejoin:round; stroke-width:2; stroke-opacity:0.1; fill:none\" points=\"188.864,1486.45 188.864,47.2441 \"/>\n",
       "<polyline clip-path=\"url(#clip662)\" style=\"stroke:#000000; stroke-linecap:round; stroke-linejoin:round; stroke-width:2; stroke-opacity:0.1; fill:none\" points=\"724.901,1486.45 724.901,47.2441 \"/>\n",
       "<polyline clip-path=\"url(#clip662)\" style=\"stroke:#000000; stroke-linecap:round; stroke-linejoin:round; stroke-width:2; stroke-opacity:0.1; fill:none\" points=\"1260.94,1486.45 1260.94,47.2441 \"/>\n",
       "<polyline clip-path=\"url(#clip662)\" style=\"stroke:#000000; stroke-linecap:round; stroke-linejoin:round; stroke-width:2; stroke-opacity:0.1; fill:none\" points=\"1796.98,1486.45 1796.98,47.2441 \"/>\n",
       "<polyline clip-path=\"url(#clip662)\" style=\"stroke:#000000; stroke-linecap:round; stroke-linejoin:round; stroke-width:2; stroke-opacity:0.1; fill:none\" points=\"2333.01,1486.45 2333.01,47.2441 \"/>\n",
       "<polyline clip-path=\"url(#clip662)\" style=\"stroke:#000000; stroke-linecap:round; stroke-linejoin:round; stroke-width:2; stroke-opacity:0.1; fill:none\" points=\"169.121,1286.73 2352.76,1286.73 \"/>\n",
       "<polyline clip-path=\"url(#clip662)\" style=\"stroke:#000000; stroke-linecap:round; stroke-linejoin:round; stroke-width:2; stroke-opacity:0.1; fill:none\" points=\"169.121,1026.79 2352.76,1026.79 \"/>\n",
       "<polyline clip-path=\"url(#clip662)\" style=\"stroke:#000000; stroke-linecap:round; stroke-linejoin:round; stroke-width:2; stroke-opacity:0.1; fill:none\" points=\"169.121,766.846 2352.76,766.846 \"/>\n",
       "<polyline clip-path=\"url(#clip662)\" style=\"stroke:#000000; stroke-linecap:round; stroke-linejoin:round; stroke-width:2; stroke-opacity:0.1; fill:none\" points=\"169.121,506.903 2352.76,506.903 \"/>\n",
       "<polyline clip-path=\"url(#clip662)\" style=\"stroke:#000000; stroke-linecap:round; stroke-linejoin:round; stroke-width:2; stroke-opacity:0.1; fill:none\" points=\"169.121,246.96 2352.76,246.96 \"/>\n",
       "<polyline clip-path=\"url(#clip660)\" style=\"stroke:#000000; stroke-linecap:round; stroke-linejoin:round; stroke-width:4; stroke-opacity:1; fill:none\" points=\"169.121,1486.45 2352.76,1486.45 \"/>\n",
       "<polyline clip-path=\"url(#clip660)\" style=\"stroke:#000000; stroke-linecap:round; stroke-linejoin:round; stroke-width:4; stroke-opacity:1; fill:none\" points=\"188.864,1486.45 188.864,1467.55 \"/>\n",
       "<polyline clip-path=\"url(#clip660)\" style=\"stroke:#000000; stroke-linecap:round; stroke-linejoin:round; stroke-width:4; stroke-opacity:1; fill:none\" points=\"724.901,1486.45 724.901,1467.55 \"/>\n",
       "<polyline clip-path=\"url(#clip660)\" style=\"stroke:#000000; stroke-linecap:round; stroke-linejoin:round; stroke-width:4; stroke-opacity:1; fill:none\" points=\"1260.94,1486.45 1260.94,1467.55 \"/>\n",
       "<polyline clip-path=\"url(#clip660)\" style=\"stroke:#000000; stroke-linecap:round; stroke-linejoin:round; stroke-width:4; stroke-opacity:1; fill:none\" points=\"1796.98,1486.45 1796.98,1467.55 \"/>\n",
       "<polyline clip-path=\"url(#clip660)\" style=\"stroke:#000000; stroke-linecap:round; stroke-linejoin:round; stroke-width:4; stroke-opacity:1; fill:none\" points=\"2333.01,1486.45 2333.01,1467.55 \"/>\n",
       "<path clip-path=\"url(#clip660)\" d=\"M156.017 1544.91 L163.655 1544.91 L163.655 1518.55 L155.345 1520.21 L155.345 1515.95 L163.609 1514.29 L168.285 1514.29 L168.285 1544.91 L175.924 1544.91 L175.924 1548.85 L156.017 1548.85 L156.017 1544.91 Z\" fill=\"#000000\" fill-rule=\"nonzero\" fill-opacity=\"1\" /><path clip-path=\"url(#clip660)\" d=\"M185.368 1542.97 L190.253 1542.97 L190.253 1548.85 L185.368 1548.85 L185.368 1542.97 Z\" fill=\"#000000\" fill-rule=\"nonzero\" fill-opacity=\"1\" /><path clip-path=\"url(#clip660)\" d=\"M210.438 1517.37 Q206.827 1517.37 204.998 1520.93 Q203.192 1524.47 203.192 1531.6 Q203.192 1538.71 204.998 1542.27 Q206.827 1545.82 210.438 1545.82 Q214.072 1545.82 215.877 1542.27 Q217.706 1538.71 217.706 1531.6 Q217.706 1524.47 215.877 1520.93 Q214.072 1517.37 210.438 1517.37 M210.438 1513.66 Q216.248 1513.66 219.303 1518.27 Q222.382 1522.85 222.382 1531.6 Q222.382 1540.33 219.303 1544.94 Q216.248 1549.52 210.438 1549.52 Q204.627 1549.52 201.549 1544.94 Q198.493 1540.33 198.493 1531.6 Q198.493 1522.85 201.549 1518.27 Q204.627 1513.66 210.438 1513.66 Z\" fill=\"#000000\" fill-rule=\"nonzero\" fill-opacity=\"1\" /><path clip-path=\"url(#clip660)\" d=\"M692.552 1544.91 L700.191 1544.91 L700.191 1518.55 L691.88 1520.21 L691.88 1515.95 L700.144 1514.29 L704.82 1514.29 L704.82 1544.91 L712.459 1544.91 L712.459 1548.85 L692.552 1548.85 L692.552 1544.91 Z\" fill=\"#000000\" fill-rule=\"nonzero\" fill-opacity=\"1\" /><path clip-path=\"url(#clip660)\" d=\"M721.903 1542.97 L726.788 1542.97 L726.788 1548.85 L721.903 1548.85 L721.903 1542.97 Z\" fill=\"#000000\" fill-rule=\"nonzero\" fill-opacity=\"1\" /><path clip-path=\"url(#clip660)\" d=\"M737.019 1514.29 L755.375 1514.29 L755.375 1518.22 L741.301 1518.22 L741.301 1526.7 Q742.32 1526.35 743.339 1526.19 Q744.357 1526 745.376 1526 Q751.163 1526 754.542 1529.17 Q757.922 1532.34 757.922 1537.76 Q757.922 1543.34 754.45 1546.44 Q750.977 1549.52 744.658 1549.52 Q742.482 1549.52 740.214 1549.15 Q737.968 1548.78 735.561 1548.04 L735.561 1543.34 Q737.644 1544.47 739.866 1545.03 Q742.089 1545.58 744.565 1545.58 Q748.57 1545.58 750.908 1543.48 Q753.246 1541.37 753.246 1537.76 Q753.246 1534.15 750.908 1532.04 Q748.57 1529.94 744.565 1529.94 Q742.69 1529.94 740.815 1530.35 Q738.964 1530.77 737.019 1531.65 L737.019 1514.29 Z\" fill=\"#000000\" fill-rule=\"nonzero\" fill-opacity=\"1\" /><path clip-path=\"url(#clip660)\" d=\"M1232.18 1544.91 L1248.5 1544.91 L1248.5 1548.85 L1226.55 1548.85 L1226.55 1544.91 Q1229.21 1542.16 1233.8 1537.53 Q1238.4 1532.88 1239.58 1531.53 Q1241.83 1529.01 1242.71 1527.27 Q1243.61 1525.51 1243.61 1523.82 Q1243.61 1521.07 1241.67 1519.33 Q1239.75 1517.6 1236.64 1517.6 Q1234.45 1517.6 1231.99 1518.36 Q1229.56 1519.13 1226.78 1520.68 L1226.78 1515.95 Q1229.61 1514.82 1232.06 1514.24 Q1234.52 1513.66 1236.55 1513.66 Q1241.92 1513.66 1245.12 1516.35 Q1248.31 1519.03 1248.31 1523.52 Q1248.31 1525.65 1247.5 1527.57 Q1246.71 1529.47 1244.61 1532.07 Q1244.03 1532.74 1240.93 1535.95 Q1237.83 1539.15 1232.18 1544.91 Z\" fill=\"#000000\" fill-rule=\"nonzero\" fill-opacity=\"1\" /><path clip-path=\"url(#clip660)\" d=\"M1258.31 1542.97 L1263.2 1542.97 L1263.2 1548.85 L1258.31 1548.85 L1258.31 1542.97 Z\" fill=\"#000000\" fill-rule=\"nonzero\" fill-opacity=\"1\" /><path clip-path=\"url(#clip660)\" d=\"M1283.38 1517.37 Q1279.77 1517.37 1277.94 1520.93 Q1276.14 1524.47 1276.14 1531.6 Q1276.14 1538.71 1277.94 1542.27 Q1279.77 1545.82 1283.38 1545.82 Q1287.01 1545.82 1288.82 1542.27 Q1290.65 1538.71 1290.65 1531.6 Q1290.65 1524.47 1288.82 1520.93 Q1287.01 1517.37 1283.38 1517.37 M1283.38 1513.66 Q1289.19 1513.66 1292.25 1518.27 Q1295.33 1522.85 1295.33 1531.6 Q1295.33 1540.33 1292.25 1544.94 Q1289.19 1549.52 1283.38 1549.52 Q1277.57 1549.52 1274.49 1544.94 Q1271.44 1540.33 1271.44 1531.6 Q1271.44 1522.85 1274.49 1518.27 Q1277.57 1513.66 1283.38 1513.66 Z\" fill=\"#000000\" fill-rule=\"nonzero\" fill-opacity=\"1\" /><path clip-path=\"url(#clip660)\" d=\"M1768.71 1544.91 L1785.03 1544.91 L1785.03 1548.85 L1763.09 1548.85 L1763.09 1544.91 Q1765.75 1542.16 1770.33 1537.53 Q1774.94 1532.88 1776.12 1531.53 Q1778.37 1529.01 1779.24 1527.27 Q1780.15 1525.51 1780.15 1523.82 Q1780.15 1521.07 1778.2 1519.33 Q1776.28 1517.6 1773.18 1517.6 Q1770.98 1517.6 1768.53 1518.36 Q1766.1 1519.13 1763.32 1520.68 L1763.32 1515.95 Q1766.14 1514.82 1768.6 1514.24 Q1771.05 1513.66 1773.09 1513.66 Q1778.46 1513.66 1781.65 1516.35 Q1784.85 1519.03 1784.85 1523.52 Q1784.85 1525.65 1784.04 1527.57 Q1783.25 1529.47 1781.14 1532.07 Q1780.56 1532.74 1777.46 1535.95 Q1774.36 1539.15 1768.71 1544.91 Z\" fill=\"#000000\" fill-rule=\"nonzero\" fill-opacity=\"1\" /><path clip-path=\"url(#clip660)\" d=\"M1794.85 1542.97 L1799.73 1542.97 L1799.73 1548.85 L1794.85 1548.85 L1794.85 1542.97 Z\" fill=\"#000000\" fill-rule=\"nonzero\" fill-opacity=\"1\" /><path clip-path=\"url(#clip660)\" d=\"M1809.96 1514.29 L1828.32 1514.29 L1828.32 1518.22 L1814.24 1518.22 L1814.24 1526.7 Q1815.26 1526.35 1816.28 1526.19 Q1817.3 1526 1818.32 1526 Q1824.11 1526 1827.49 1529.17 Q1830.86 1532.34 1830.86 1537.76 Q1830.86 1543.34 1827.39 1546.44 Q1823.92 1549.52 1817.6 1549.52 Q1815.43 1549.52 1813.16 1549.15 Q1810.91 1548.78 1808.5 1548.04 L1808.5 1543.34 Q1810.59 1544.47 1812.81 1545.03 Q1815.03 1545.58 1817.51 1545.58 Q1821.51 1545.58 1823.85 1543.48 Q1826.19 1541.37 1826.19 1537.76 Q1826.19 1534.15 1823.85 1532.04 Q1821.51 1529.94 1817.51 1529.94 Q1815.63 1529.94 1813.76 1530.35 Q1811.91 1530.77 1809.96 1531.65 L1809.96 1514.29 Z\" fill=\"#000000\" fill-rule=\"nonzero\" fill-opacity=\"1\" /><path clip-path=\"url(#clip660)\" d=\"M2314.32 1530.21 Q2317.68 1530.93 2319.55 1533.2 Q2321.45 1535.47 2321.45 1538.8 Q2321.45 1543.92 2317.93 1546.72 Q2314.41 1549.52 2307.93 1549.52 Q2305.76 1549.52 2303.44 1549.08 Q2301.15 1548.66 2298.7 1547.81 L2298.7 1543.29 Q2300.64 1544.43 2302.96 1545.01 Q2305.27 1545.58 2307.79 1545.58 Q2312.19 1545.58 2314.48 1543.85 Q2316.8 1542.11 2316.8 1538.8 Q2316.8 1535.75 2314.65 1534.03 Q2312.52 1532.3 2308.7 1532.3 L2304.67 1532.3 L2304.67 1528.45 L2308.88 1528.45 Q2312.33 1528.45 2314.16 1527.09 Q2315.99 1525.7 2315.99 1523.11 Q2315.99 1520.45 2314.09 1519.03 Q2312.22 1517.6 2308.7 1517.6 Q2306.78 1517.6 2304.58 1518.01 Q2302.38 1518.43 2299.74 1519.31 L2299.74 1515.14 Q2302.4 1514.4 2304.72 1514.03 Q2307.05 1513.66 2309.11 1513.66 Q2314.44 1513.66 2317.54 1516.09 Q2320.64 1518.5 2320.64 1522.62 Q2320.64 1525.49 2319 1527.48 Q2317.35 1529.45 2314.32 1530.21 Z\" fill=\"#000000\" fill-rule=\"nonzero\" fill-opacity=\"1\" /><path clip-path=\"url(#clip660)\" d=\"M2330.32 1542.97 L2335.2 1542.97 L2335.2 1548.85 L2330.32 1548.85 L2330.32 1542.97 Z\" fill=\"#000000\" fill-rule=\"nonzero\" fill-opacity=\"1\" /><path clip-path=\"url(#clip660)\" d=\"M2355.39 1517.37 Q2351.78 1517.37 2349.95 1520.93 Q2348.14 1524.47 2348.14 1531.6 Q2348.14 1538.71 2349.95 1542.27 Q2351.78 1545.82 2355.39 1545.82 Q2359.02 1545.82 2360.83 1542.27 Q2362.65 1538.71 2362.65 1531.6 Q2362.65 1524.47 2360.83 1520.93 Q2359.02 1517.37 2355.39 1517.37 M2355.39 1513.66 Q2361.2 1513.66 2364.25 1518.27 Q2367.33 1522.85 2367.33 1531.6 Q2367.33 1540.33 2364.25 1544.94 Q2361.2 1549.52 2355.39 1549.52 Q2349.58 1549.52 2346.5 1544.94 Q2343.44 1540.33 2343.44 1531.6 Q2343.44 1522.85 2346.5 1518.27 Q2349.58 1513.66 2355.39 1513.66 Z\" fill=\"#000000\" fill-rule=\"nonzero\" fill-opacity=\"1\" /><polyline clip-path=\"url(#clip660)\" style=\"stroke:#000000; stroke-linecap:round; stroke-linejoin:round; stroke-width:4; stroke-opacity:1; fill:none\" points=\"169.121,1486.45 169.121,47.2441 \"/>\n",
       "<polyline clip-path=\"url(#clip660)\" style=\"stroke:#000000; stroke-linecap:round; stroke-linejoin:round; stroke-width:4; stroke-opacity:1; fill:none\" points=\"169.121,1286.73 188.019,1286.73 \"/>\n",
       "<polyline clip-path=\"url(#clip660)\" style=\"stroke:#000000; stroke-linecap:round; stroke-linejoin:round; stroke-width:4; stroke-opacity:1; fill:none\" points=\"169.121,1026.79 188.019,1026.79 \"/>\n",
       "<polyline clip-path=\"url(#clip660)\" style=\"stroke:#000000; stroke-linecap:round; stroke-linejoin:round; stroke-width:4; stroke-opacity:1; fill:none\" points=\"169.121,766.846 188.019,766.846 \"/>\n",
       "<polyline clip-path=\"url(#clip660)\" style=\"stroke:#000000; stroke-linecap:round; stroke-linejoin:round; stroke-width:4; stroke-opacity:1; fill:none\" points=\"169.121,506.903 188.019,506.903 \"/>\n",
       "<polyline clip-path=\"url(#clip660)\" style=\"stroke:#000000; stroke-linecap:round; stroke-linejoin:round; stroke-width:4; stroke-opacity:1; fill:none\" points=\"169.121,246.96 188.019,246.96 \"/>\n",
       "<path clip-path=\"url(#clip660)\" d=\"M81.154 1303.29 L81.154 1299.04 Q82.9133 1299.87 84.7188 1300.31 Q86.5243 1300.75 88.2604 1300.75 Q92.89 1300.75 95.3206 1297.65 Q97.7743 1294.52 98.1215 1288.18 Q96.7789 1290.17 94.7187 1291.23 Q92.6586 1292.3 90.1586 1292.3 Q84.9734 1292.3 81.941 1289.17 Q78.9318 1286.03 78.9318 1280.59 Q78.9318 1275.26 82.0799 1272.05 Q85.2281 1268.83 90.4595 1268.83 Q96.4548 1268.83 99.603 1273.43 Q102.774 1278.02 102.774 1286.77 Q102.774 1294.94 98.8854 1299.82 Q95.0197 1304.68 88.4688 1304.68 Q86.7095 1304.68 84.904 1304.34 Q83.0984 1303.99 81.154 1303.29 M90.4595 1288.64 Q93.6076 1288.64 95.4363 1286.49 Q97.2882 1284.34 97.2882 1280.59 Q97.2882 1276.86 95.4363 1274.71 Q93.6076 1272.53 90.4595 1272.53 Q87.3114 1272.53 85.4595 1274.71 Q83.6308 1276.86 83.6308 1280.59 Q83.6308 1284.34 85.4595 1286.49 Q87.3114 1288.64 90.4595 1288.64 Z\" fill=\"#000000\" fill-rule=\"nonzero\" fill-opacity=\"1\" /><path clip-path=\"url(#clip660)\" d=\"M121.177 1272.53 Q117.566 1272.53 115.737 1276.1 Q113.932 1279.64 113.932 1286.77 Q113.932 1293.87 115.737 1297.44 Q117.566 1300.98 121.177 1300.98 Q124.811 1300.98 126.617 1297.44 Q128.445 1293.87 128.445 1286.77 Q128.445 1279.64 126.617 1276.1 Q124.811 1272.53 121.177 1272.53 M121.177 1268.83 Q126.987 1268.83 130.043 1273.43 Q133.121 1278.02 133.121 1286.77 Q133.121 1295.49 130.043 1300.1 Q126.987 1304.68 121.177 1304.68 Q115.367 1304.68 112.288 1300.1 Q109.233 1295.49 109.233 1286.77 Q109.233 1278.02 112.288 1273.43 Q115.367 1268.83 121.177 1268.83 Z\" fill=\"#000000\" fill-rule=\"nonzero\" fill-opacity=\"1\" /><path clip-path=\"url(#clip660)\" d=\"M82.1494 1043.35 L82.1494 1039.09 Q83.9086 1039.93 85.7142 1040.37 Q87.5197 1040.81 89.2558 1040.81 Q93.8854 1040.81 96.316 1037.7 Q98.7696 1034.58 99.1169 1028.24 Q97.7743 1030.23 95.7141 1031.29 Q93.6539 1032.36 91.1539 1032.36 Q85.9688 1032.36 82.9364 1029.23 Q79.9272 1026.08 79.9272 1020.64 Q79.9272 1015.32 83.0753 1012.1 Q86.2234 1008.88 91.4549 1008.88 Q97.4502 1008.88 100.598 1013.49 Q103.77 1018.07 103.77 1026.82 Q103.77 1035 99.8808 1039.88 Q96.015 1044.74 89.4641 1044.74 Q87.7049 1044.74 85.8993 1044.39 Q84.0938 1044.05 82.1494 1043.35 M91.4549 1028.7 Q94.603 1028.7 96.4317 1026.55 Q98.2835 1024.39 98.2835 1020.64 Q98.2835 1016.92 96.4317 1014.76 Q94.603 1012.59 91.4549 1012.59 Q88.3067 1012.59 86.4549 1014.76 Q84.6262 1016.92 84.6262 1020.64 Q84.6262 1024.39 86.4549 1026.55 Q88.3067 1028.7 91.4549 1028.7 Z\" fill=\"#000000\" fill-rule=\"nonzero\" fill-opacity=\"1\" /><path clip-path=\"url(#clip660)\" d=\"M112.219 1009.51 L130.575 1009.51 L130.575 1013.44 L116.501 1013.44 L116.501 1021.92 Q117.52 1021.57 118.538 1021.41 Q119.557 1021.22 120.575 1021.22 Q126.362 1021.22 129.742 1024.39 Q133.121 1027.56 133.121 1032.98 Q133.121 1038.56 129.649 1041.66 Q126.177 1044.74 119.857 1044.74 Q117.682 1044.74 115.413 1044.37 Q113.168 1044 110.76 1043.26 L110.76 1038.56 Q112.844 1039.69 115.066 1040.25 Q117.288 1040.81 119.765 1040.81 Q123.77 1040.81 126.107 1038.7 Q128.445 1036.59 128.445 1032.98 Q128.445 1029.37 126.107 1027.26 Q123.77 1025.16 119.765 1025.16 Q117.89 1025.16 116.015 1025.57 Q114.163 1025.99 112.219 1026.87 L112.219 1009.51 Z\" fill=\"#000000\" fill-rule=\"nonzero\" fill-opacity=\"1\" /><path clip-path=\"url(#clip660)\" d=\"M51.6634 780.191 L59.3023 780.191 L59.3023 753.825 L50.9921 755.492 L50.9921 751.233 L59.256 749.566 L63.9319 749.566 L63.9319 780.191 L71.5707 780.191 L71.5707 784.126 L51.6634 784.126 L51.6634 780.191 Z\" fill=\"#000000\" fill-rule=\"nonzero\" fill-opacity=\"1\" /><path clip-path=\"url(#clip660)\" d=\"M91.0151 752.645 Q87.404 752.645 85.5753 756.209 Q83.7697 759.751 83.7697 766.881 Q83.7697 773.987 85.5753 777.552 Q87.404 781.094 91.0151 781.094 Q94.6493 781.094 96.4548 777.552 Q98.2835 773.987 98.2835 766.881 Q98.2835 759.751 96.4548 756.209 Q94.6493 752.645 91.0151 752.645 M91.0151 748.941 Q96.8252 748.941 99.8808 753.547 Q102.959 758.131 102.959 766.881 Q102.959 775.608 99.8808 780.214 Q96.8252 784.797 91.0151 784.797 Q85.2049 784.797 82.1262 780.214 Q79.0707 775.608 79.0707 766.881 Q79.0707 758.131 82.1262 753.547 Q85.2049 748.941 91.0151 748.941 Z\" fill=\"#000000\" fill-rule=\"nonzero\" fill-opacity=\"1\" /><path clip-path=\"url(#clip660)\" d=\"M121.177 752.645 Q117.566 752.645 115.737 756.209 Q113.932 759.751 113.932 766.881 Q113.932 773.987 115.737 777.552 Q117.566 781.094 121.177 781.094 Q124.811 781.094 126.617 777.552 Q128.445 773.987 128.445 766.881 Q128.445 759.751 126.617 756.209 Q124.811 752.645 121.177 752.645 M121.177 748.941 Q126.987 748.941 130.043 753.547 Q133.121 758.131 133.121 766.881 Q133.121 775.608 130.043 780.214 Q126.987 784.797 121.177 784.797 Q115.367 784.797 112.288 780.214 Q109.233 775.608 109.233 766.881 Q109.233 758.131 112.288 753.547 Q115.367 748.941 121.177 748.941 Z\" fill=\"#000000\" fill-rule=\"nonzero\" fill-opacity=\"1\" /><path clip-path=\"url(#clip660)\" d=\"M52.6588 520.248 L60.2976 520.248 L60.2976 493.882 L51.9875 495.549 L51.9875 491.289 L60.2513 489.623 L64.9272 489.623 L64.9272 520.248 L72.5661 520.248 L72.5661 524.183 L52.6588 524.183 L52.6588 520.248 Z\" fill=\"#000000\" fill-rule=\"nonzero\" fill-opacity=\"1\" /><path clip-path=\"url(#clip660)\" d=\"M92.0104 492.701 Q88.3993 492.701 86.5706 496.266 Q84.7651 499.808 84.7651 506.937 Q84.7651 514.044 86.5706 517.609 Q88.3993 521.15 92.0104 521.15 Q95.6447 521.15 97.4502 517.609 Q99.2789 514.044 99.2789 506.937 Q99.2789 499.808 97.4502 496.266 Q95.6447 492.701 92.0104 492.701 M92.0104 488.998 Q97.8206 488.998 100.876 493.604 Q103.955 498.188 103.955 506.937 Q103.955 515.664 100.876 520.271 Q97.8206 524.854 92.0104 524.854 Q86.2003 524.854 83.1216 520.271 Q80.066 515.664 80.066 506.937 Q80.066 498.188 83.1216 493.604 Q86.2003 488.998 92.0104 488.998 Z\" fill=\"#000000\" fill-rule=\"nonzero\" fill-opacity=\"1\" /><path clip-path=\"url(#clip660)\" d=\"M112.219 489.623 L130.575 489.623 L130.575 493.558 L116.501 493.558 L116.501 502.03 Q117.52 501.683 118.538 501.521 Q119.557 501.336 120.575 501.336 Q126.362 501.336 129.742 504.507 Q133.121 507.678 133.121 513.095 Q133.121 518.674 129.649 521.775 Q126.177 524.854 119.857 524.854 Q117.682 524.854 115.413 524.484 Q113.168 524.113 110.76 523.373 L110.76 518.674 Q112.844 519.808 115.066 520.363 Q117.288 520.919 119.765 520.919 Q123.77 520.919 126.107 518.812 Q128.445 516.706 128.445 513.095 Q128.445 509.484 126.107 507.377 Q123.77 505.271 119.765 505.271 Q117.89 505.271 116.015 505.687 Q114.163 506.104 112.219 506.984 L112.219 489.623 Z\" fill=\"#000000\" fill-rule=\"nonzero\" fill-opacity=\"1\" /><path clip-path=\"url(#clip660)\" d=\"M51.6634 260.304 L59.3023 260.304 L59.3023 233.939 L50.9921 235.605 L50.9921 231.346 L59.256 229.68 L63.9319 229.68 L63.9319 260.304 L71.5707 260.304 L71.5707 264.24 L51.6634 264.24 L51.6634 260.304 Z\" fill=\"#000000\" fill-rule=\"nonzero\" fill-opacity=\"1\" /><path clip-path=\"url(#clip660)\" d=\"M81.8253 260.304 L89.4641 260.304 L89.4641 233.939 L81.154 235.605 L81.154 231.346 L89.4178 229.68 L94.0937 229.68 L94.0937 260.304 L101.733 260.304 L101.733 264.24 L81.8253 264.24 L81.8253 260.304 Z\" fill=\"#000000\" fill-rule=\"nonzero\" fill-opacity=\"1\" /><path clip-path=\"url(#clip660)\" d=\"M121.177 232.758 Q117.566 232.758 115.737 236.323 Q113.932 239.865 113.932 246.994 Q113.932 254.101 115.737 257.666 Q117.566 261.207 121.177 261.207 Q124.811 261.207 126.617 257.666 Q128.445 254.101 128.445 246.994 Q128.445 239.865 126.617 236.323 Q124.811 232.758 121.177 232.758 M121.177 229.055 Q126.987 229.055 130.043 233.661 Q133.121 238.244 133.121 246.994 Q133.121 255.721 130.043 260.328 Q126.987 264.911 121.177 264.911 Q115.367 264.911 112.288 260.328 Q109.233 255.721 109.233 246.994 Q109.233 238.244 112.288 233.661 Q115.367 229.055 121.177 229.055 Z\" fill=\"#000000\" fill-rule=\"nonzero\" fill-opacity=\"1\" /><polyline clip-path=\"url(#clip662)\" style=\"stroke:#009af9; stroke-linecap:round; stroke-linejoin:round; stroke-width:4; stroke-opacity:1; fill:none\" points=\"230.922,1445.72 241.274,1441.58 251.626,1437.24 261.978,1432.72 272.33,1428.01 282.682,1423.12 293.034,1418.07 303.386,1412.86 313.738,1407.49 324.09,1401.98 334.442,1396.34 344.793,1390.58 355.145,1384.69 365.497,1378.7 375.849,1372.61 386.201,1366.43 396.553,1360.16 406.905,1353.81 417.257,1347.4 427.609,1340.91 437.961,1334.37 448.313,1327.77 458.665,1321.12 469.017,1314.43 479.368,1307.69 489.72,1300.91 500.072,1294.1 510.424,1287.26 520.776,1280.38 531.128,1273.48 541.48,1266.56 551.832,1259.61 562.184,1252.63 572.536,1245.64 582.888,1238.63 593.24,1231.6 603.592,1224.56 613.943,1217.5 624.295,1210.43 634.647,1203.35 644.999,1196.25 655.351,1189.15 665.703,1182.03 676.055,1174.91 686.407,1167.78 696.759,1160.63 707.111,1153.49 717.463,1146.33 727.815,1139.17 738.167,1132 748.518,1124.83 758.87,1117.65 769.222,1110.46 779.574,1103.28 789.926,1096.08 800.278,1088.89 810.63,1081.69 820.982,1074.48 831.334,1067.28 841.686,1060.06 852.038,1052.85 862.39,1045.64 872.742,1038.42 883.093,1031.2 893.445,1023.98 903.797,1016.75 914.149,1009.52 924.501,1002.29 934.853,995.065 945.205,987.833 955.557,980.599 965.909,973.365 976.261,966.128 986.613,958.891 996.965,951.652 1007.32,944.413 1017.67,937.172 1028.02,929.93 1038.37,922.688 1048.72,915.445 1059.08,908.2 1069.43,900.955 1079.78,893.71 1090.13,886.464 1100.48,879.217 1110.84,871.97 1121.19,864.722 1131.54,857.473 1141.89,850.225 1152.24,842.976 1162.6,835.726 1172.95,828.476 1183.3,821.226 1193.65,813.976 1204,806.726 1214.35,799.475 1224.71,792.224 1235.06,784.973 1245.41,777.722 1255.76,770.471 1266.11,763.22 1276.47,755.969 1286.82,748.719 1297.17,741.468 1307.52,734.217 1317.87,726.966 1328.23,719.716 1338.58,712.466 1348.93,705.216 1359.28,697.966 1369.63,690.716 1379.99,683.467 1390.34,676.219 1400.69,668.97 1411.04,661.722 1421.39,654.475 1431.75,647.228 1442.1,639.982 1452.45,632.737 1462.8,625.492 1473.15,618.247 1483.5,611.004 1493.86,603.762 1504.21,596.52 1514.56,589.279 1524.91,582.04 1535.26,574.801 1545.62,567.564 1555.97,560.327 1566.32,553.093 1576.67,545.859 1587.02,538.627 1597.38,531.397 1607.73,524.168 1618.08,516.942 1628.43,509.717 1638.78,502.494 1649.14,495.274 1659.49,488.056 1669.84,480.84 1680.19,473.627 1690.54,466.417 1700.9,459.21 1711.25,452.006 1721.6,444.806 1731.95,437.609 1742.3,430.417 1752.65,423.228 1763.01,416.045 1773.36,408.866 1783.71,401.692 1794.06,394.524 1804.41,387.362 1814.77,380.206 1825.12,373.058 1835.47,365.916 1845.82,358.783 1856.17,351.658 1866.53,344.543 1876.88,337.437 1887.23,330.342 1897.58,323.259 1907.93,316.188 1918.29,309.131 1928.64,302.088 1938.99,295.061 1949.34,288.05 1959.69,281.058 1970.05,274.086 1980.4,267.136 1990.75,260.209 2001.1,253.307 2011.45,246.433 2021.8,239.589 2032.16,232.777 2042.51,226.001 2052.86,219.264 2063.21,212.569 2073.56,205.921 2083.92,199.323 2094.27,192.779 2104.62,186.296 2114.97,179.879 2125.32,173.533 2135.68,167.265 2146.03,161.082 2156.38,154.991 2166.73,149 2177.08,143.116 2187.44,137.35 2197.79,131.708 2208.14,126.2 2218.49,120.835 2228.84,115.622 2239.2,110.569 2249.55,105.685 2259.9,100.976 2270.25,96.4516 2280.6,92.1164 2290.95,87.9763 \"/>\n",
       "<polyline clip-path=\"url(#clip662)\" style=\"stroke:#e26f46; stroke-linecap:round; stroke-linejoin:round; stroke-width:4; stroke-opacity:1; fill:none\" points=\"230.922,766.846 241.274,766.846 251.626,766.846 261.978,766.846 272.33,766.846 282.682,766.846 293.034,766.846 303.386,766.846 313.738,766.846 324.09,766.846 334.442,766.846 344.793,766.846 355.145,766.846 365.497,766.846 375.849,766.846 386.201,766.846 396.553,766.846 406.905,766.846 417.257,766.846 427.609,766.846 437.961,766.846 448.313,766.846 458.665,766.846 469.017,766.846 479.368,766.846 489.72,766.846 500.072,766.846 510.424,766.846 520.776,766.846 531.128,766.846 541.48,766.846 551.832,766.846 562.184,766.846 572.536,766.846 582.888,766.846 593.24,766.846 603.592,766.846 613.943,766.846 624.295,766.846 634.647,766.846 644.999,766.846 655.351,766.846 665.703,766.846 676.055,766.846 686.407,766.846 696.759,766.846 707.111,766.846 717.463,766.846 727.815,766.846 738.167,766.846 748.518,766.846 758.87,766.846 769.222,766.846 779.574,766.846 789.926,766.846 800.278,766.846 810.63,766.846 820.982,766.846 831.334,766.846 841.686,766.846 852.038,766.846 862.39,766.846 872.742,766.846 883.093,766.846 893.445,766.846 903.797,766.846 914.149,766.846 924.501,766.846 934.853,766.846 945.205,766.846 955.557,766.846 965.909,766.846 976.261,766.846 986.613,766.846 996.965,766.846 1007.32,766.846 1017.67,766.846 1028.02,766.846 1038.37,766.846 1048.72,766.846 1059.08,766.846 1069.43,766.846 1079.78,766.846 1090.13,766.846 1100.48,766.846 1110.84,766.846 1121.19,766.846 1131.54,766.846 1141.89,766.846 1152.24,766.846 1162.6,766.846 1172.95,766.846 1183.3,766.846 1193.65,766.846 1204,766.846 1214.35,766.846 1224.71,766.846 1235.06,766.846 1245.41,766.846 1255.76,766.846 1266.11,766.846 1276.47,766.846 1286.82,766.846 1297.17,766.846 1307.52,766.846 1317.87,766.846 1328.23,766.846 1338.58,766.846 1348.93,766.846 1359.28,766.846 1369.63,766.846 1379.99,766.846 1390.34,766.846 1400.69,766.846 1411.04,766.846 1421.39,766.846 1431.75,766.846 1442.1,766.846 1452.45,766.846 1462.8,766.846 1473.15,766.846 1483.5,766.846 1493.86,766.846 1504.21,766.846 1514.56,766.846 1524.91,766.846 1535.26,766.846 1545.62,766.846 1555.97,766.846 1566.32,766.846 1576.67,766.846 1587.02,766.846 1597.38,766.846 1607.73,766.846 1618.08,766.846 1628.43,766.846 1638.78,766.846 1649.14,766.846 1659.49,766.846 1669.84,766.846 1680.19,766.846 1690.54,766.846 1700.9,766.846 1711.25,766.846 1721.6,766.846 1731.95,766.846 1742.3,766.846 1752.65,766.846 1763.01,766.846 1773.36,766.846 1783.71,766.846 1794.06,766.846 1804.41,766.846 1814.77,766.846 1825.12,766.846 1835.47,766.846 1845.82,766.846 1856.17,766.846 1866.53,766.846 1876.88,766.846 1887.23,766.846 1897.58,766.846 1907.93,766.846 1918.29,766.846 1928.64,766.846 1938.99,766.846 1949.34,766.846 1959.69,766.846 1970.05,766.846 1980.4,766.846 1990.75,766.846 2001.1,766.846 2011.45,766.846 2021.8,766.846 2032.16,766.846 2042.51,766.846 2052.86,766.846 2063.21,766.846 2073.56,766.846 2083.92,766.846 2094.27,766.846 2104.62,766.846 2114.97,766.846 2125.32,766.846 2135.68,766.846 2146.03,766.846 2156.38,766.846 2166.73,766.846 2177.08,766.846 2187.44,766.846 2197.79,766.846 2208.14,766.846 2218.49,766.846 2228.84,766.846 2239.2,766.846 2249.55,766.846 2259.9,766.846 2270.25,766.846 2280.6,766.846 2290.95,766.846 \"/>\n",
       "<path clip-path=\"url(#clip660)\" d=\"M241.909 250.738 L512.703 250.738 L512.703 95.2176 L241.909 95.2176  Z\" fill=\"#ffffff\" fill-rule=\"evenodd\" fill-opacity=\"1\"/>\n",
       "<polyline clip-path=\"url(#clip660)\" style=\"stroke:#000000; stroke-linecap:round; stroke-linejoin:round; stroke-width:4; stroke-opacity:1; fill:none\" points=\"241.909,250.738 512.703,250.738 512.703,95.2176 241.909,95.2176 241.909,250.738 \"/>\n",
       "<polyline clip-path=\"url(#clip660)\" style=\"stroke:#009af9; stroke-linecap:round; stroke-linejoin:round; stroke-width:4; stroke-opacity:1; fill:none\" points=\"266.172,147.058 411.747,147.058 \"/>\n",
       "<path clip-path=\"url(#clip660)\" d=\"M449.853 166.745 Q448.047 171.375 446.334 172.787 Q444.621 174.199 441.751 174.199 L438.348 174.199 L438.348 170.634 L440.848 170.634 Q442.607 170.634 443.579 169.8 Q444.552 168.967 445.732 165.865 L446.496 163.921 L436.01 138.412 L440.524 138.412 L448.626 158.689 L456.727 138.412 L461.241 138.412 L449.853 166.745 Z\" fill=\"#000000\" fill-rule=\"nonzero\" fill-opacity=\"1\" /><path clip-path=\"url(#clip660)\" d=\"M468.533 160.402 L476.172 160.402 L476.172 134.037 L467.862 135.703 L467.862 131.444 L476.126 129.778 L480.801 129.778 L480.801 160.402 L488.44 160.402 L488.44 164.338 L468.533 164.338 L468.533 160.402 Z\" fill=\"#000000\" fill-rule=\"nonzero\" fill-opacity=\"1\" /><polyline clip-path=\"url(#clip660)\" style=\"stroke:#e26f46; stroke-linecap:round; stroke-linejoin:round; stroke-width:4; stroke-opacity:1; fill:none\" points=\"266.172,198.898 411.747,198.898 \"/>\n",
       "<path clip-path=\"url(#clip660)\" d=\"M449.853 218.585 Q448.047 223.215 446.334 224.627 Q444.621 226.039 441.751 226.039 L438.348 226.039 L438.348 222.474 L440.848 222.474 Q442.607 222.474 443.579 221.64 Q444.552 220.807 445.732 217.705 L446.496 215.761 L436.01 190.252 L440.524 190.252 L448.626 210.529 L456.727 190.252 L461.241 190.252 L449.853 218.585 Z\" fill=\"#000000\" fill-rule=\"nonzero\" fill-opacity=\"1\" /><path clip-path=\"url(#clip660)\" d=\"M471.751 212.242 L488.07 212.242 L488.07 216.178 L466.126 216.178 L466.126 212.242 Q468.788 209.488 473.371 204.858 Q477.977 200.205 479.158 198.863 Q481.403 196.34 482.283 194.604 Q483.186 192.844 483.186 191.155 Q483.186 188.4 481.241 186.664 Q479.32 184.928 476.218 184.928 Q474.019 184.928 471.565 185.692 Q469.135 186.455 466.357 188.006 L466.357 183.284 Q469.181 182.15 471.635 181.571 Q474.088 180.993 476.126 180.993 Q481.496 180.993 484.69 183.678 Q487.885 186.363 487.885 190.854 Q487.885 192.983 487.075 194.905 Q486.287 196.803 484.181 199.395 Q483.602 200.067 480.5 203.284 Q477.399 206.479 471.751 212.242 Z\" fill=\"#000000\" fill-rule=\"nonzero\" fill-opacity=\"1\" /></svg>\n"
      ],
      "text/html": [
       "<?xml version=\"1.0\" encoding=\"utf-8\"?>\n",
       "<svg xmlns=\"http://www.w3.org/2000/svg\" xmlns:xlink=\"http://www.w3.org/1999/xlink\" width=\"600\" height=\"400\" viewBox=\"0 0 2400 1600\">\n",
       "<defs>\n",
       "  <clipPath id=\"clip710\">\n",
       "    <rect x=\"0\" y=\"0\" width=\"2400\" height=\"1600\"/>\n",
       "  </clipPath>\n",
       "</defs>\n",
       "<path clip-path=\"url(#clip710)\" d=\"M0 1600 L2400 1600 L2400 0 L0 0  Z\" fill=\"#ffffff\" fill-rule=\"evenodd\" fill-opacity=\"1\"/>\n",
       "<defs>\n",
       "  <clipPath id=\"clip711\">\n",
       "    <rect x=\"480\" y=\"0\" width=\"1681\" height=\"1600\"/>\n",
       "  </clipPath>\n",
       "</defs>\n",
       "<path clip-path=\"url(#clip710)\" d=\"M169.121 1486.45 L2352.76 1486.45 L2352.76 47.2441 L169.121 47.2441  Z\" fill=\"#ffffff\" fill-rule=\"evenodd\" fill-opacity=\"1\"/>\n",
       "<defs>\n",
       "  <clipPath id=\"clip712\">\n",
       "    <rect x=\"169\" y=\"47\" width=\"2185\" height=\"1440\"/>\n",
       "  </clipPath>\n",
       "</defs>\n",
       "<polyline clip-path=\"url(#clip712)\" style=\"stroke:#000000; stroke-linecap:round; stroke-linejoin:round; stroke-width:2; stroke-opacity:0.1; fill:none\" points=\"188.864,1486.45 188.864,47.2441 \"/>\n",
       "<polyline clip-path=\"url(#clip712)\" style=\"stroke:#000000; stroke-linecap:round; stroke-linejoin:round; stroke-width:2; stroke-opacity:0.1; fill:none\" points=\"724.901,1486.45 724.901,47.2441 \"/>\n",
       "<polyline clip-path=\"url(#clip712)\" style=\"stroke:#000000; stroke-linecap:round; stroke-linejoin:round; stroke-width:2; stroke-opacity:0.1; fill:none\" points=\"1260.94,1486.45 1260.94,47.2441 \"/>\n",
       "<polyline clip-path=\"url(#clip712)\" style=\"stroke:#000000; stroke-linecap:round; stroke-linejoin:round; stroke-width:2; stroke-opacity:0.1; fill:none\" points=\"1796.98,1486.45 1796.98,47.2441 \"/>\n",
       "<polyline clip-path=\"url(#clip712)\" style=\"stroke:#000000; stroke-linecap:round; stroke-linejoin:round; stroke-width:2; stroke-opacity:0.1; fill:none\" points=\"2333.01,1486.45 2333.01,47.2441 \"/>\n",
       "<polyline clip-path=\"url(#clip712)\" style=\"stroke:#000000; stroke-linecap:round; stroke-linejoin:round; stroke-width:2; stroke-opacity:0.1; fill:none\" points=\"169.121,1286.73 2352.76,1286.73 \"/>\n",
       "<polyline clip-path=\"url(#clip712)\" style=\"stroke:#000000; stroke-linecap:round; stroke-linejoin:round; stroke-width:2; stroke-opacity:0.1; fill:none\" points=\"169.121,1026.79 2352.76,1026.79 \"/>\n",
       "<polyline clip-path=\"url(#clip712)\" style=\"stroke:#000000; stroke-linecap:round; stroke-linejoin:round; stroke-width:2; stroke-opacity:0.1; fill:none\" points=\"169.121,766.846 2352.76,766.846 \"/>\n",
       "<polyline clip-path=\"url(#clip712)\" style=\"stroke:#000000; stroke-linecap:round; stroke-linejoin:round; stroke-width:2; stroke-opacity:0.1; fill:none\" points=\"169.121,506.903 2352.76,506.903 \"/>\n",
       "<polyline clip-path=\"url(#clip712)\" style=\"stroke:#000000; stroke-linecap:round; stroke-linejoin:round; stroke-width:2; stroke-opacity:0.1; fill:none\" points=\"169.121,246.96 2352.76,246.96 \"/>\n",
       "<polyline clip-path=\"url(#clip710)\" style=\"stroke:#000000; stroke-linecap:round; stroke-linejoin:round; stroke-width:4; stroke-opacity:1; fill:none\" points=\"169.121,1486.45 2352.76,1486.45 \"/>\n",
       "<polyline clip-path=\"url(#clip710)\" style=\"stroke:#000000; stroke-linecap:round; stroke-linejoin:round; stroke-width:4; stroke-opacity:1; fill:none\" points=\"188.864,1486.45 188.864,1467.55 \"/>\n",
       "<polyline clip-path=\"url(#clip710)\" style=\"stroke:#000000; stroke-linecap:round; stroke-linejoin:round; stroke-width:4; stroke-opacity:1; fill:none\" points=\"724.901,1486.45 724.901,1467.55 \"/>\n",
       "<polyline clip-path=\"url(#clip710)\" style=\"stroke:#000000; stroke-linecap:round; stroke-linejoin:round; stroke-width:4; stroke-opacity:1; fill:none\" points=\"1260.94,1486.45 1260.94,1467.55 \"/>\n",
       "<polyline clip-path=\"url(#clip710)\" style=\"stroke:#000000; stroke-linecap:round; stroke-linejoin:round; stroke-width:4; stroke-opacity:1; fill:none\" points=\"1796.98,1486.45 1796.98,1467.55 \"/>\n",
       "<polyline clip-path=\"url(#clip710)\" style=\"stroke:#000000; stroke-linecap:round; stroke-linejoin:round; stroke-width:4; stroke-opacity:1; fill:none\" points=\"2333.01,1486.45 2333.01,1467.55 \"/>\n",
       "<path clip-path=\"url(#clip710)\" d=\"M156.017 1544.91 L163.655 1544.91 L163.655 1518.55 L155.345 1520.21 L155.345 1515.95 L163.609 1514.29 L168.285 1514.29 L168.285 1544.91 L175.924 1544.91 L175.924 1548.85 L156.017 1548.85 L156.017 1544.91 Z\" fill=\"#000000\" fill-rule=\"nonzero\" fill-opacity=\"1\" /><path clip-path=\"url(#clip710)\" d=\"M185.368 1542.97 L190.253 1542.97 L190.253 1548.85 L185.368 1548.85 L185.368 1542.97 Z\" fill=\"#000000\" fill-rule=\"nonzero\" fill-opacity=\"1\" /><path clip-path=\"url(#clip710)\" d=\"M210.438 1517.37 Q206.827 1517.37 204.998 1520.93 Q203.192 1524.47 203.192 1531.6 Q203.192 1538.71 204.998 1542.27 Q206.827 1545.82 210.438 1545.82 Q214.072 1545.82 215.877 1542.27 Q217.706 1538.71 217.706 1531.6 Q217.706 1524.47 215.877 1520.93 Q214.072 1517.37 210.438 1517.37 M210.438 1513.66 Q216.248 1513.66 219.303 1518.27 Q222.382 1522.85 222.382 1531.6 Q222.382 1540.33 219.303 1544.94 Q216.248 1549.52 210.438 1549.52 Q204.627 1549.52 201.549 1544.94 Q198.493 1540.33 198.493 1531.6 Q198.493 1522.85 201.549 1518.27 Q204.627 1513.66 210.438 1513.66 Z\" fill=\"#000000\" fill-rule=\"nonzero\" fill-opacity=\"1\" /><path clip-path=\"url(#clip710)\" d=\"M692.552 1544.91 L700.191 1544.91 L700.191 1518.55 L691.88 1520.21 L691.88 1515.95 L700.144 1514.29 L704.82 1514.29 L704.82 1544.91 L712.459 1544.91 L712.459 1548.85 L692.552 1548.85 L692.552 1544.91 Z\" fill=\"#000000\" fill-rule=\"nonzero\" fill-opacity=\"1\" /><path clip-path=\"url(#clip710)\" d=\"M721.903 1542.97 L726.788 1542.97 L726.788 1548.85 L721.903 1548.85 L721.903 1542.97 Z\" fill=\"#000000\" fill-rule=\"nonzero\" fill-opacity=\"1\" /><path clip-path=\"url(#clip710)\" d=\"M737.019 1514.29 L755.375 1514.29 L755.375 1518.22 L741.301 1518.22 L741.301 1526.7 Q742.32 1526.35 743.339 1526.19 Q744.357 1526 745.376 1526 Q751.163 1526 754.542 1529.17 Q757.922 1532.34 757.922 1537.76 Q757.922 1543.34 754.45 1546.44 Q750.977 1549.52 744.658 1549.52 Q742.482 1549.52 740.214 1549.15 Q737.968 1548.78 735.561 1548.04 L735.561 1543.34 Q737.644 1544.47 739.866 1545.03 Q742.089 1545.58 744.565 1545.58 Q748.57 1545.58 750.908 1543.48 Q753.246 1541.37 753.246 1537.76 Q753.246 1534.15 750.908 1532.04 Q748.57 1529.94 744.565 1529.94 Q742.69 1529.94 740.815 1530.35 Q738.964 1530.77 737.019 1531.65 L737.019 1514.29 Z\" fill=\"#000000\" fill-rule=\"nonzero\" fill-opacity=\"1\" /><path clip-path=\"url(#clip710)\" d=\"M1232.18 1544.91 L1248.5 1544.91 L1248.5 1548.85 L1226.55 1548.85 L1226.55 1544.91 Q1229.21 1542.16 1233.8 1537.53 Q1238.4 1532.88 1239.58 1531.53 Q1241.83 1529.01 1242.71 1527.27 Q1243.61 1525.51 1243.61 1523.82 Q1243.61 1521.07 1241.67 1519.33 Q1239.75 1517.6 1236.64 1517.6 Q1234.45 1517.6 1231.99 1518.36 Q1229.56 1519.13 1226.78 1520.68 L1226.78 1515.95 Q1229.61 1514.82 1232.06 1514.24 Q1234.52 1513.66 1236.55 1513.66 Q1241.92 1513.66 1245.12 1516.35 Q1248.31 1519.03 1248.31 1523.52 Q1248.31 1525.65 1247.5 1527.57 Q1246.71 1529.47 1244.61 1532.07 Q1244.03 1532.74 1240.93 1535.95 Q1237.83 1539.15 1232.18 1544.91 Z\" fill=\"#000000\" fill-rule=\"nonzero\" fill-opacity=\"1\" /><path clip-path=\"url(#clip710)\" d=\"M1258.31 1542.97 L1263.2 1542.97 L1263.2 1548.85 L1258.31 1548.85 L1258.31 1542.97 Z\" fill=\"#000000\" fill-rule=\"nonzero\" fill-opacity=\"1\" /><path clip-path=\"url(#clip710)\" d=\"M1283.38 1517.37 Q1279.77 1517.37 1277.94 1520.93 Q1276.14 1524.47 1276.14 1531.6 Q1276.14 1538.71 1277.94 1542.27 Q1279.77 1545.82 1283.38 1545.82 Q1287.01 1545.82 1288.82 1542.27 Q1290.65 1538.71 1290.65 1531.6 Q1290.65 1524.47 1288.82 1520.93 Q1287.01 1517.37 1283.38 1517.37 M1283.38 1513.66 Q1289.19 1513.66 1292.25 1518.27 Q1295.33 1522.85 1295.33 1531.6 Q1295.33 1540.33 1292.25 1544.94 Q1289.19 1549.52 1283.38 1549.52 Q1277.57 1549.52 1274.49 1544.94 Q1271.44 1540.33 1271.44 1531.6 Q1271.44 1522.85 1274.49 1518.27 Q1277.57 1513.66 1283.38 1513.66 Z\" fill=\"#000000\" fill-rule=\"nonzero\" fill-opacity=\"1\" /><path clip-path=\"url(#clip710)\" d=\"M1768.71 1544.91 L1785.03 1544.91 L1785.03 1548.85 L1763.09 1548.85 L1763.09 1544.91 Q1765.75 1542.16 1770.33 1537.53 Q1774.94 1532.88 1776.12 1531.53 Q1778.37 1529.01 1779.24 1527.27 Q1780.15 1525.51 1780.15 1523.82 Q1780.15 1521.07 1778.2 1519.33 Q1776.28 1517.6 1773.18 1517.6 Q1770.98 1517.6 1768.53 1518.36 Q1766.1 1519.13 1763.32 1520.68 L1763.32 1515.95 Q1766.14 1514.82 1768.6 1514.24 Q1771.05 1513.66 1773.09 1513.66 Q1778.46 1513.66 1781.65 1516.35 Q1784.85 1519.03 1784.85 1523.52 Q1784.85 1525.65 1784.04 1527.57 Q1783.25 1529.47 1781.14 1532.07 Q1780.56 1532.74 1777.46 1535.95 Q1774.36 1539.15 1768.71 1544.91 Z\" fill=\"#000000\" fill-rule=\"nonzero\" fill-opacity=\"1\" /><path clip-path=\"url(#clip710)\" d=\"M1794.85 1542.97 L1799.73 1542.97 L1799.73 1548.85 L1794.85 1548.85 L1794.85 1542.97 Z\" fill=\"#000000\" fill-rule=\"nonzero\" fill-opacity=\"1\" /><path clip-path=\"url(#clip710)\" d=\"M1809.96 1514.29 L1828.32 1514.29 L1828.32 1518.22 L1814.24 1518.22 L1814.24 1526.7 Q1815.26 1526.35 1816.28 1526.19 Q1817.3 1526 1818.32 1526 Q1824.11 1526 1827.49 1529.17 Q1830.86 1532.34 1830.86 1537.76 Q1830.86 1543.34 1827.39 1546.44 Q1823.92 1549.52 1817.6 1549.52 Q1815.43 1549.52 1813.16 1549.15 Q1810.91 1548.78 1808.5 1548.04 L1808.5 1543.34 Q1810.59 1544.47 1812.81 1545.03 Q1815.03 1545.58 1817.51 1545.58 Q1821.51 1545.58 1823.85 1543.48 Q1826.19 1541.37 1826.19 1537.76 Q1826.19 1534.15 1823.85 1532.04 Q1821.51 1529.94 1817.51 1529.94 Q1815.63 1529.94 1813.76 1530.35 Q1811.91 1530.77 1809.96 1531.65 L1809.96 1514.29 Z\" fill=\"#000000\" fill-rule=\"nonzero\" fill-opacity=\"1\" /><path clip-path=\"url(#clip710)\" d=\"M2314.32 1530.21 Q2317.68 1530.93 2319.55 1533.2 Q2321.45 1535.47 2321.45 1538.8 Q2321.45 1543.92 2317.93 1546.72 Q2314.41 1549.52 2307.93 1549.52 Q2305.76 1549.52 2303.44 1549.08 Q2301.15 1548.66 2298.7 1547.81 L2298.7 1543.29 Q2300.64 1544.43 2302.96 1545.01 Q2305.27 1545.58 2307.79 1545.58 Q2312.19 1545.58 2314.48 1543.85 Q2316.8 1542.11 2316.8 1538.8 Q2316.8 1535.75 2314.65 1534.03 Q2312.52 1532.3 2308.7 1532.3 L2304.67 1532.3 L2304.67 1528.45 L2308.88 1528.45 Q2312.33 1528.45 2314.16 1527.09 Q2315.99 1525.7 2315.99 1523.11 Q2315.99 1520.45 2314.09 1519.03 Q2312.22 1517.6 2308.7 1517.6 Q2306.78 1517.6 2304.58 1518.01 Q2302.38 1518.43 2299.74 1519.31 L2299.74 1515.14 Q2302.4 1514.4 2304.72 1514.03 Q2307.05 1513.66 2309.11 1513.66 Q2314.44 1513.66 2317.54 1516.09 Q2320.64 1518.5 2320.64 1522.62 Q2320.64 1525.49 2319 1527.48 Q2317.35 1529.45 2314.32 1530.21 Z\" fill=\"#000000\" fill-rule=\"nonzero\" fill-opacity=\"1\" /><path clip-path=\"url(#clip710)\" d=\"M2330.32 1542.97 L2335.2 1542.97 L2335.2 1548.85 L2330.32 1548.85 L2330.32 1542.97 Z\" fill=\"#000000\" fill-rule=\"nonzero\" fill-opacity=\"1\" /><path clip-path=\"url(#clip710)\" d=\"M2355.39 1517.37 Q2351.78 1517.37 2349.95 1520.93 Q2348.14 1524.47 2348.14 1531.6 Q2348.14 1538.71 2349.95 1542.27 Q2351.78 1545.82 2355.39 1545.82 Q2359.02 1545.82 2360.83 1542.27 Q2362.65 1538.71 2362.65 1531.6 Q2362.65 1524.47 2360.83 1520.93 Q2359.02 1517.37 2355.39 1517.37 M2355.39 1513.66 Q2361.2 1513.66 2364.25 1518.27 Q2367.33 1522.85 2367.33 1531.6 Q2367.33 1540.33 2364.25 1544.94 Q2361.2 1549.52 2355.39 1549.52 Q2349.58 1549.52 2346.5 1544.94 Q2343.44 1540.33 2343.44 1531.6 Q2343.44 1522.85 2346.5 1518.27 Q2349.58 1513.66 2355.39 1513.66 Z\" fill=\"#000000\" fill-rule=\"nonzero\" fill-opacity=\"1\" /><polyline clip-path=\"url(#clip710)\" style=\"stroke:#000000; stroke-linecap:round; stroke-linejoin:round; stroke-width:4; stroke-opacity:1; fill:none\" points=\"169.121,1486.45 169.121,47.2441 \"/>\n",
       "<polyline clip-path=\"url(#clip710)\" style=\"stroke:#000000; stroke-linecap:round; stroke-linejoin:round; stroke-width:4; stroke-opacity:1; fill:none\" points=\"169.121,1286.73 188.019,1286.73 \"/>\n",
       "<polyline clip-path=\"url(#clip710)\" style=\"stroke:#000000; stroke-linecap:round; stroke-linejoin:round; stroke-width:4; stroke-opacity:1; fill:none\" points=\"169.121,1026.79 188.019,1026.79 \"/>\n",
       "<polyline clip-path=\"url(#clip710)\" style=\"stroke:#000000; stroke-linecap:round; stroke-linejoin:round; stroke-width:4; stroke-opacity:1; fill:none\" points=\"169.121,766.846 188.019,766.846 \"/>\n",
       "<polyline clip-path=\"url(#clip710)\" style=\"stroke:#000000; stroke-linecap:round; stroke-linejoin:round; stroke-width:4; stroke-opacity:1; fill:none\" points=\"169.121,506.903 188.019,506.903 \"/>\n",
       "<polyline clip-path=\"url(#clip710)\" style=\"stroke:#000000; stroke-linecap:round; stroke-linejoin:round; stroke-width:4; stroke-opacity:1; fill:none\" points=\"169.121,246.96 188.019,246.96 \"/>\n",
       "<path clip-path=\"url(#clip710)\" d=\"M81.154 1303.29 L81.154 1299.04 Q82.9133 1299.87 84.7188 1300.31 Q86.5243 1300.75 88.2604 1300.75 Q92.89 1300.75 95.3206 1297.65 Q97.7743 1294.52 98.1215 1288.18 Q96.7789 1290.17 94.7187 1291.23 Q92.6586 1292.3 90.1586 1292.3 Q84.9734 1292.3 81.941 1289.17 Q78.9318 1286.03 78.9318 1280.59 Q78.9318 1275.26 82.0799 1272.05 Q85.2281 1268.83 90.4595 1268.83 Q96.4548 1268.83 99.603 1273.43 Q102.774 1278.02 102.774 1286.77 Q102.774 1294.94 98.8854 1299.82 Q95.0197 1304.68 88.4688 1304.68 Q86.7095 1304.68 84.904 1304.34 Q83.0984 1303.99 81.154 1303.29 M90.4595 1288.64 Q93.6076 1288.64 95.4363 1286.49 Q97.2882 1284.34 97.2882 1280.59 Q97.2882 1276.86 95.4363 1274.71 Q93.6076 1272.53 90.4595 1272.53 Q87.3114 1272.53 85.4595 1274.71 Q83.6308 1276.86 83.6308 1280.59 Q83.6308 1284.34 85.4595 1286.49 Q87.3114 1288.64 90.4595 1288.64 Z\" fill=\"#000000\" fill-rule=\"nonzero\" fill-opacity=\"1\" /><path clip-path=\"url(#clip710)\" d=\"M121.177 1272.53 Q117.566 1272.53 115.737 1276.1 Q113.932 1279.64 113.932 1286.77 Q113.932 1293.87 115.737 1297.44 Q117.566 1300.98 121.177 1300.98 Q124.811 1300.98 126.617 1297.44 Q128.445 1293.87 128.445 1286.77 Q128.445 1279.64 126.617 1276.1 Q124.811 1272.53 121.177 1272.53 M121.177 1268.83 Q126.987 1268.83 130.043 1273.43 Q133.121 1278.02 133.121 1286.77 Q133.121 1295.49 130.043 1300.1 Q126.987 1304.68 121.177 1304.68 Q115.367 1304.68 112.288 1300.1 Q109.233 1295.49 109.233 1286.77 Q109.233 1278.02 112.288 1273.43 Q115.367 1268.83 121.177 1268.83 Z\" fill=\"#000000\" fill-rule=\"nonzero\" fill-opacity=\"1\" /><path clip-path=\"url(#clip710)\" d=\"M82.1494 1043.35 L82.1494 1039.09 Q83.9086 1039.93 85.7142 1040.37 Q87.5197 1040.81 89.2558 1040.81 Q93.8854 1040.81 96.316 1037.7 Q98.7696 1034.58 99.1169 1028.24 Q97.7743 1030.23 95.7141 1031.29 Q93.6539 1032.36 91.1539 1032.36 Q85.9688 1032.36 82.9364 1029.23 Q79.9272 1026.08 79.9272 1020.64 Q79.9272 1015.32 83.0753 1012.1 Q86.2234 1008.88 91.4549 1008.88 Q97.4502 1008.88 100.598 1013.49 Q103.77 1018.07 103.77 1026.82 Q103.77 1035 99.8808 1039.88 Q96.015 1044.74 89.4641 1044.74 Q87.7049 1044.74 85.8993 1044.39 Q84.0938 1044.05 82.1494 1043.35 M91.4549 1028.7 Q94.603 1028.7 96.4317 1026.55 Q98.2835 1024.39 98.2835 1020.64 Q98.2835 1016.92 96.4317 1014.76 Q94.603 1012.59 91.4549 1012.59 Q88.3067 1012.59 86.4549 1014.76 Q84.6262 1016.92 84.6262 1020.64 Q84.6262 1024.39 86.4549 1026.55 Q88.3067 1028.7 91.4549 1028.7 Z\" fill=\"#000000\" fill-rule=\"nonzero\" fill-opacity=\"1\" /><path clip-path=\"url(#clip710)\" d=\"M112.219 1009.51 L130.575 1009.51 L130.575 1013.44 L116.501 1013.44 L116.501 1021.92 Q117.52 1021.57 118.538 1021.41 Q119.557 1021.22 120.575 1021.22 Q126.362 1021.22 129.742 1024.39 Q133.121 1027.56 133.121 1032.98 Q133.121 1038.56 129.649 1041.66 Q126.177 1044.74 119.857 1044.74 Q117.682 1044.74 115.413 1044.37 Q113.168 1044 110.76 1043.26 L110.76 1038.56 Q112.844 1039.69 115.066 1040.25 Q117.288 1040.81 119.765 1040.81 Q123.77 1040.81 126.107 1038.7 Q128.445 1036.59 128.445 1032.98 Q128.445 1029.37 126.107 1027.26 Q123.77 1025.16 119.765 1025.16 Q117.89 1025.16 116.015 1025.57 Q114.163 1025.99 112.219 1026.87 L112.219 1009.51 Z\" fill=\"#000000\" fill-rule=\"nonzero\" fill-opacity=\"1\" /><path clip-path=\"url(#clip710)\" d=\"M51.6634 780.191 L59.3023 780.191 L59.3023 753.825 L50.9921 755.492 L50.9921 751.233 L59.256 749.566 L63.9319 749.566 L63.9319 780.191 L71.5707 780.191 L71.5707 784.126 L51.6634 784.126 L51.6634 780.191 Z\" fill=\"#000000\" fill-rule=\"nonzero\" fill-opacity=\"1\" /><path clip-path=\"url(#clip710)\" d=\"M91.0151 752.645 Q87.404 752.645 85.5753 756.209 Q83.7697 759.751 83.7697 766.881 Q83.7697 773.987 85.5753 777.552 Q87.404 781.094 91.0151 781.094 Q94.6493 781.094 96.4548 777.552 Q98.2835 773.987 98.2835 766.881 Q98.2835 759.751 96.4548 756.209 Q94.6493 752.645 91.0151 752.645 M91.0151 748.941 Q96.8252 748.941 99.8808 753.547 Q102.959 758.131 102.959 766.881 Q102.959 775.608 99.8808 780.214 Q96.8252 784.797 91.0151 784.797 Q85.2049 784.797 82.1262 780.214 Q79.0707 775.608 79.0707 766.881 Q79.0707 758.131 82.1262 753.547 Q85.2049 748.941 91.0151 748.941 Z\" fill=\"#000000\" fill-rule=\"nonzero\" fill-opacity=\"1\" /><path clip-path=\"url(#clip710)\" d=\"M121.177 752.645 Q117.566 752.645 115.737 756.209 Q113.932 759.751 113.932 766.881 Q113.932 773.987 115.737 777.552 Q117.566 781.094 121.177 781.094 Q124.811 781.094 126.617 777.552 Q128.445 773.987 128.445 766.881 Q128.445 759.751 126.617 756.209 Q124.811 752.645 121.177 752.645 M121.177 748.941 Q126.987 748.941 130.043 753.547 Q133.121 758.131 133.121 766.881 Q133.121 775.608 130.043 780.214 Q126.987 784.797 121.177 784.797 Q115.367 784.797 112.288 780.214 Q109.233 775.608 109.233 766.881 Q109.233 758.131 112.288 753.547 Q115.367 748.941 121.177 748.941 Z\" fill=\"#000000\" fill-rule=\"nonzero\" fill-opacity=\"1\" /><path clip-path=\"url(#clip710)\" d=\"M52.6588 520.248 L60.2976 520.248 L60.2976 493.882 L51.9875 495.549 L51.9875 491.289 L60.2513 489.623 L64.9272 489.623 L64.9272 520.248 L72.5661 520.248 L72.5661 524.183 L52.6588 524.183 L52.6588 520.248 Z\" fill=\"#000000\" fill-rule=\"nonzero\" fill-opacity=\"1\" /><path clip-path=\"url(#clip710)\" d=\"M92.0104 492.701 Q88.3993 492.701 86.5706 496.266 Q84.7651 499.808 84.7651 506.937 Q84.7651 514.044 86.5706 517.609 Q88.3993 521.15 92.0104 521.15 Q95.6447 521.15 97.4502 517.609 Q99.2789 514.044 99.2789 506.937 Q99.2789 499.808 97.4502 496.266 Q95.6447 492.701 92.0104 492.701 M92.0104 488.998 Q97.8206 488.998 100.876 493.604 Q103.955 498.188 103.955 506.937 Q103.955 515.664 100.876 520.271 Q97.8206 524.854 92.0104 524.854 Q86.2003 524.854 83.1216 520.271 Q80.066 515.664 80.066 506.937 Q80.066 498.188 83.1216 493.604 Q86.2003 488.998 92.0104 488.998 Z\" fill=\"#000000\" fill-rule=\"nonzero\" fill-opacity=\"1\" /><path clip-path=\"url(#clip710)\" d=\"M112.219 489.623 L130.575 489.623 L130.575 493.558 L116.501 493.558 L116.501 502.03 Q117.52 501.683 118.538 501.521 Q119.557 501.336 120.575 501.336 Q126.362 501.336 129.742 504.507 Q133.121 507.678 133.121 513.095 Q133.121 518.674 129.649 521.775 Q126.177 524.854 119.857 524.854 Q117.682 524.854 115.413 524.484 Q113.168 524.113 110.76 523.373 L110.76 518.674 Q112.844 519.808 115.066 520.363 Q117.288 520.919 119.765 520.919 Q123.77 520.919 126.107 518.812 Q128.445 516.706 128.445 513.095 Q128.445 509.484 126.107 507.377 Q123.77 505.271 119.765 505.271 Q117.89 505.271 116.015 505.687 Q114.163 506.104 112.219 506.984 L112.219 489.623 Z\" fill=\"#000000\" fill-rule=\"nonzero\" fill-opacity=\"1\" /><path clip-path=\"url(#clip710)\" d=\"M51.6634 260.304 L59.3023 260.304 L59.3023 233.939 L50.9921 235.605 L50.9921 231.346 L59.256 229.68 L63.9319 229.68 L63.9319 260.304 L71.5707 260.304 L71.5707 264.24 L51.6634 264.24 L51.6634 260.304 Z\" fill=\"#000000\" fill-rule=\"nonzero\" fill-opacity=\"1\" /><path clip-path=\"url(#clip710)\" d=\"M81.8253 260.304 L89.4641 260.304 L89.4641 233.939 L81.154 235.605 L81.154 231.346 L89.4178 229.68 L94.0937 229.68 L94.0937 260.304 L101.733 260.304 L101.733 264.24 L81.8253 264.24 L81.8253 260.304 Z\" fill=\"#000000\" fill-rule=\"nonzero\" fill-opacity=\"1\" /><path clip-path=\"url(#clip710)\" d=\"M121.177 232.758 Q117.566 232.758 115.737 236.323 Q113.932 239.865 113.932 246.994 Q113.932 254.101 115.737 257.666 Q117.566 261.207 121.177 261.207 Q124.811 261.207 126.617 257.666 Q128.445 254.101 128.445 246.994 Q128.445 239.865 126.617 236.323 Q124.811 232.758 121.177 232.758 M121.177 229.055 Q126.987 229.055 130.043 233.661 Q133.121 238.244 133.121 246.994 Q133.121 255.721 130.043 260.328 Q126.987 264.911 121.177 264.911 Q115.367 264.911 112.288 260.328 Q109.233 255.721 109.233 246.994 Q109.233 238.244 112.288 233.661 Q115.367 229.055 121.177 229.055 Z\" fill=\"#000000\" fill-rule=\"nonzero\" fill-opacity=\"1\" /><polyline clip-path=\"url(#clip712)\" style=\"stroke:#009af9; stroke-linecap:round; stroke-linejoin:round; stroke-width:4; stroke-opacity:1; fill:none\" points=\"230.922,1445.72 241.274,1441.58 251.626,1437.24 261.978,1432.72 272.33,1428.01 282.682,1423.12 293.034,1418.07 303.386,1412.86 313.738,1407.49 324.09,1401.98 334.442,1396.34 344.793,1390.58 355.145,1384.69 365.497,1378.7 375.849,1372.61 386.201,1366.43 396.553,1360.16 406.905,1353.81 417.257,1347.4 427.609,1340.91 437.961,1334.37 448.313,1327.77 458.665,1321.12 469.017,1314.43 479.368,1307.69 489.72,1300.91 500.072,1294.1 510.424,1287.26 520.776,1280.38 531.128,1273.48 541.48,1266.56 551.832,1259.61 562.184,1252.63 572.536,1245.64 582.888,1238.63 593.24,1231.6 603.592,1224.56 613.943,1217.5 624.295,1210.43 634.647,1203.35 644.999,1196.25 655.351,1189.15 665.703,1182.03 676.055,1174.91 686.407,1167.78 696.759,1160.63 707.111,1153.49 717.463,1146.33 727.815,1139.17 738.167,1132 748.518,1124.83 758.87,1117.65 769.222,1110.46 779.574,1103.28 789.926,1096.08 800.278,1088.89 810.63,1081.69 820.982,1074.48 831.334,1067.28 841.686,1060.06 852.038,1052.85 862.39,1045.64 872.742,1038.42 883.093,1031.2 893.445,1023.98 903.797,1016.75 914.149,1009.52 924.501,1002.29 934.853,995.065 945.205,987.833 955.557,980.599 965.909,973.365 976.261,966.128 986.613,958.891 996.965,951.652 1007.32,944.413 1017.67,937.172 1028.02,929.93 1038.37,922.688 1048.72,915.445 1059.08,908.2 1069.43,900.955 1079.78,893.71 1090.13,886.464 1100.48,879.217 1110.84,871.97 1121.19,864.722 1131.54,857.473 1141.89,850.225 1152.24,842.976 1162.6,835.726 1172.95,828.476 1183.3,821.226 1193.65,813.976 1204,806.726 1214.35,799.475 1224.71,792.224 1235.06,784.973 1245.41,777.722 1255.76,770.471 1266.11,763.22 1276.47,755.969 1286.82,748.719 1297.17,741.468 1307.52,734.217 1317.87,726.966 1328.23,719.716 1338.58,712.466 1348.93,705.216 1359.28,697.966 1369.63,690.716 1379.99,683.467 1390.34,676.219 1400.69,668.97 1411.04,661.722 1421.39,654.475 1431.75,647.228 1442.1,639.982 1452.45,632.737 1462.8,625.492 1473.15,618.247 1483.5,611.004 1493.86,603.762 1504.21,596.52 1514.56,589.279 1524.91,582.04 1535.26,574.801 1545.62,567.564 1555.97,560.327 1566.32,553.093 1576.67,545.859 1587.02,538.627 1597.38,531.397 1607.73,524.168 1618.08,516.942 1628.43,509.717 1638.78,502.494 1649.14,495.274 1659.49,488.056 1669.84,480.84 1680.19,473.627 1690.54,466.417 1700.9,459.21 1711.25,452.006 1721.6,444.806 1731.95,437.609 1742.3,430.417 1752.65,423.228 1763.01,416.045 1773.36,408.866 1783.71,401.692 1794.06,394.524 1804.41,387.362 1814.77,380.206 1825.12,373.058 1835.47,365.916 1845.82,358.783 1856.17,351.658 1866.53,344.543 1876.88,337.437 1887.23,330.342 1897.58,323.259 1907.93,316.188 1918.29,309.131 1928.64,302.088 1938.99,295.061 1949.34,288.05 1959.69,281.058 1970.05,274.086 1980.4,267.136 1990.75,260.209 2001.1,253.307 2011.45,246.433 2021.8,239.589 2032.16,232.777 2042.51,226.001 2052.86,219.264 2063.21,212.569 2073.56,205.921 2083.92,199.323 2094.27,192.779 2104.62,186.296 2114.97,179.879 2125.32,173.533 2135.68,167.265 2146.03,161.082 2156.38,154.991 2166.73,149 2177.08,143.116 2187.44,137.35 2197.79,131.708 2208.14,126.2 2218.49,120.835 2228.84,115.622 2239.2,110.569 2249.55,105.685 2259.9,100.976 2270.25,96.4516 2280.6,92.1164 2290.95,87.9763 \"/>\n",
       "<polyline clip-path=\"url(#clip712)\" style=\"stroke:#e26f46; stroke-linecap:round; stroke-linejoin:round; stroke-width:4; stroke-opacity:1; fill:none\" points=\"230.922,766.846 241.274,766.846 251.626,766.846 261.978,766.846 272.33,766.846 282.682,766.846 293.034,766.846 303.386,766.846 313.738,766.846 324.09,766.846 334.442,766.846 344.793,766.846 355.145,766.846 365.497,766.846 375.849,766.846 386.201,766.846 396.553,766.846 406.905,766.846 417.257,766.846 427.609,766.846 437.961,766.846 448.313,766.846 458.665,766.846 469.017,766.846 479.368,766.846 489.72,766.846 500.072,766.846 510.424,766.846 520.776,766.846 531.128,766.846 541.48,766.846 551.832,766.846 562.184,766.846 572.536,766.846 582.888,766.846 593.24,766.846 603.592,766.846 613.943,766.846 624.295,766.846 634.647,766.846 644.999,766.846 655.351,766.846 665.703,766.846 676.055,766.846 686.407,766.846 696.759,766.846 707.111,766.846 717.463,766.846 727.815,766.846 738.167,766.846 748.518,766.846 758.87,766.846 769.222,766.846 779.574,766.846 789.926,766.846 800.278,766.846 810.63,766.846 820.982,766.846 831.334,766.846 841.686,766.846 852.038,766.846 862.39,766.846 872.742,766.846 883.093,766.846 893.445,766.846 903.797,766.846 914.149,766.846 924.501,766.846 934.853,766.846 945.205,766.846 955.557,766.846 965.909,766.846 976.261,766.846 986.613,766.846 996.965,766.846 1007.32,766.846 1017.67,766.846 1028.02,766.846 1038.37,766.846 1048.72,766.846 1059.08,766.846 1069.43,766.846 1079.78,766.846 1090.13,766.846 1100.48,766.846 1110.84,766.846 1121.19,766.846 1131.54,766.846 1141.89,766.846 1152.24,766.846 1162.6,766.846 1172.95,766.846 1183.3,766.846 1193.65,766.846 1204,766.846 1214.35,766.846 1224.71,766.846 1235.06,766.846 1245.41,766.846 1255.76,766.846 1266.11,766.846 1276.47,766.846 1286.82,766.846 1297.17,766.846 1307.52,766.846 1317.87,766.846 1328.23,766.846 1338.58,766.846 1348.93,766.846 1359.28,766.846 1369.63,766.846 1379.99,766.846 1390.34,766.846 1400.69,766.846 1411.04,766.846 1421.39,766.846 1431.75,766.846 1442.1,766.846 1452.45,766.846 1462.8,766.846 1473.15,766.846 1483.5,766.846 1493.86,766.846 1504.21,766.846 1514.56,766.846 1524.91,766.846 1535.26,766.846 1545.62,766.846 1555.97,766.846 1566.32,766.846 1576.67,766.846 1587.02,766.846 1597.38,766.846 1607.73,766.846 1618.08,766.846 1628.43,766.846 1638.78,766.846 1649.14,766.846 1659.49,766.846 1669.84,766.846 1680.19,766.846 1690.54,766.846 1700.9,766.846 1711.25,766.846 1721.6,766.846 1731.95,766.846 1742.3,766.846 1752.65,766.846 1763.01,766.846 1773.36,766.846 1783.71,766.846 1794.06,766.846 1804.41,766.846 1814.77,766.846 1825.12,766.846 1835.47,766.846 1845.82,766.846 1856.17,766.846 1866.53,766.846 1876.88,766.846 1887.23,766.846 1897.58,766.846 1907.93,766.846 1918.29,766.846 1928.64,766.846 1938.99,766.846 1949.34,766.846 1959.69,766.846 1970.05,766.846 1980.4,766.846 1990.75,766.846 2001.1,766.846 2011.45,766.846 2021.8,766.846 2032.16,766.846 2042.51,766.846 2052.86,766.846 2063.21,766.846 2073.56,766.846 2083.92,766.846 2094.27,766.846 2104.62,766.846 2114.97,766.846 2125.32,766.846 2135.68,766.846 2146.03,766.846 2156.38,766.846 2166.73,766.846 2177.08,766.846 2187.44,766.846 2197.79,766.846 2208.14,766.846 2218.49,766.846 2228.84,766.846 2239.2,766.846 2249.55,766.846 2259.9,766.846 2270.25,766.846 2280.6,766.846 2290.95,766.846 \"/>\n",
       "<path clip-path=\"url(#clip710)\" d=\"M241.909 250.738 L512.703 250.738 L512.703 95.2176 L241.909 95.2176  Z\" fill=\"#ffffff\" fill-rule=\"evenodd\" fill-opacity=\"1\"/>\n",
       "<polyline clip-path=\"url(#clip710)\" style=\"stroke:#000000; stroke-linecap:round; stroke-linejoin:round; stroke-width:4; stroke-opacity:1; fill:none\" points=\"241.909,250.738 512.703,250.738 512.703,95.2176 241.909,95.2176 241.909,250.738 \"/>\n",
       "<polyline clip-path=\"url(#clip710)\" style=\"stroke:#009af9; stroke-linecap:round; stroke-linejoin:round; stroke-width:4; stroke-opacity:1; fill:none\" points=\"266.172,147.058 411.747,147.058 \"/>\n",
       "<path clip-path=\"url(#clip710)\" d=\"M449.853 166.745 Q448.047 171.375 446.334 172.787 Q444.621 174.199 441.751 174.199 L438.348 174.199 L438.348 170.634 L440.848 170.634 Q442.607 170.634 443.579 169.8 Q444.552 168.967 445.732 165.865 L446.496 163.921 L436.01 138.412 L440.524 138.412 L448.626 158.689 L456.727 138.412 L461.241 138.412 L449.853 166.745 Z\" fill=\"#000000\" fill-rule=\"nonzero\" fill-opacity=\"1\" /><path clip-path=\"url(#clip710)\" d=\"M468.533 160.402 L476.172 160.402 L476.172 134.037 L467.862 135.703 L467.862 131.444 L476.126 129.778 L480.801 129.778 L480.801 160.402 L488.44 160.402 L488.44 164.338 L468.533 164.338 L468.533 160.402 Z\" fill=\"#000000\" fill-rule=\"nonzero\" fill-opacity=\"1\" /><polyline clip-path=\"url(#clip710)\" style=\"stroke:#e26f46; stroke-linecap:round; stroke-linejoin:round; stroke-width:4; stroke-opacity:1; fill:none\" points=\"266.172,198.898 411.747,198.898 \"/>\n",
       "<path clip-path=\"url(#clip710)\" d=\"M449.853 218.585 Q448.047 223.215 446.334 224.627 Q444.621 226.039 441.751 226.039 L438.348 226.039 L438.348 222.474 L440.848 222.474 Q442.607 222.474 443.579 221.64 Q444.552 220.807 445.732 217.705 L446.496 215.761 L436.01 190.252 L440.524 190.252 L448.626 210.529 L456.727 190.252 L461.241 190.252 L449.853 218.585 Z\" fill=\"#000000\" fill-rule=\"nonzero\" fill-opacity=\"1\" /><path clip-path=\"url(#clip710)\" d=\"M471.751 212.242 L488.07 212.242 L488.07 216.178 L466.126 216.178 L466.126 212.242 Q468.788 209.488 473.371 204.858 Q477.977 200.205 479.158 198.863 Q481.403 196.34 482.283 194.604 Q483.186 192.844 483.186 191.155 Q483.186 188.4 481.241 186.664 Q479.32 184.928 476.218 184.928 Q474.019 184.928 471.565 185.692 Q469.135 186.455 466.357 188.006 L466.357 183.284 Q469.181 182.15 471.635 181.571 Q474.088 180.993 476.126 180.993 Q481.496 180.993 484.69 183.678 Q487.885 186.363 487.885 190.854 Q487.885 192.983 487.075 194.905 Q486.287 196.803 484.181 199.395 Q483.602 200.067 480.5 203.284 Q477.399 206.479 471.751 212.242 Z\" fill=\"#000000\" fill-rule=\"nonzero\" fill-opacity=\"1\" /></svg>\n"
      ]
     },
     "metadata": {},
     "output_type": "display_data"
    }
   ],
   "source": [
    "plot(z_vals, V_O)\n",
    "plot!(z_vals, V_E)"
   ]
  },
  {
   "cell_type": "code",
   "execution_count": 81,
   "id": "2cc1bbb7",
   "metadata": {},
   "outputs": [
    {
     "data": {
      "image/png": "[encoded data removed]",
      "image/svg+xml": [
       "<?xml version=\"1.0\" encoding=\"utf-8\"?>\n",
       "<svg xmlns=\"http://www.w3.org/2000/svg\" xmlns:xlink=\"http://www.w3.org/1999/xlink\" width=\"600\" height=\"400\" viewBox=\"0 0 2400 1600\">\n",
       "<defs>\n",
       "  <clipPath id=\"clip750\">\n",
       "    <rect x=\"0\" y=\"0\" width=\"2400\" height=\"1600\"/>\n",
       "  </clipPath>\n",
       "</defs>\n",
       "<path clip-path=\"url(#clip750)\" d=\"M0 1600 L2400 1600 L2400 0 L0 0  Z\" fill=\"#ffffff\" fill-rule=\"evenodd\" fill-opacity=\"1\"/>\n",
       "<defs>\n",
       "  <clipPath id=\"clip751\">\n",
       "    <rect x=\"480\" y=\"0\" width=\"1681\" height=\"1600\"/>\n",
       "  </clipPath>\n",
       "</defs>\n",
       "<path clip-path=\"url(#clip750)\" d=\"M186.274 1486.45 L2352.76 1486.45 L2352.76 47.2441 L186.274 47.2441  Z\" fill=\"#ffffff\" fill-rule=\"evenodd\" fill-opacity=\"1\"/>\n",
       "<defs>\n",
       "  <clipPath id=\"clip752\">\n",
       "    <rect x=\"186\" y=\"47\" width=\"2167\" height=\"1440\"/>\n",
       "  </clipPath>\n",
       "</defs>\n",
       "<polyline clip-path=\"url(#clip752)\" style=\"stroke:#000000; stroke-linecap:round; stroke-linejoin:round; stroke-width:2; stroke-opacity:0.1; fill:none\" points=\"205.861,1486.45 205.861,47.2441 \"/>\n",
       "<polyline clip-path=\"url(#clip752)\" style=\"stroke:#000000; stroke-linecap:round; stroke-linejoin:round; stroke-width:2; stroke-opacity:0.1; fill:none\" points=\"737.688,1486.45 737.688,47.2441 \"/>\n",
       "<polyline clip-path=\"url(#clip752)\" style=\"stroke:#000000; stroke-linecap:round; stroke-linejoin:round; stroke-width:2; stroke-opacity:0.1; fill:none\" points=\"1269.51,1486.45 1269.51,47.2441 \"/>\n",
       "<polyline clip-path=\"url(#clip752)\" style=\"stroke:#000000; stroke-linecap:round; stroke-linejoin:round; stroke-width:2; stroke-opacity:0.1; fill:none\" points=\"1801.34,1486.45 1801.34,47.2441 \"/>\n",
       "<polyline clip-path=\"url(#clip752)\" style=\"stroke:#000000; stroke-linecap:round; stroke-linejoin:round; stroke-width:2; stroke-opacity:0.1; fill:none\" points=\"2333.17,1486.45 2333.17,47.2441 \"/>\n",
       "<polyline clip-path=\"url(#clip752)\" style=\"stroke:#000000; stroke-linecap:round; stroke-linejoin:round; stroke-width:2; stroke-opacity:0.1; fill:none\" points=\"186.274,1445.72 2352.76,1445.72 \"/>\n",
       "<polyline clip-path=\"url(#clip752)\" style=\"stroke:#000000; stroke-linecap:round; stroke-linejoin:round; stroke-width:2; stroke-opacity:0.1; fill:none\" points=\"186.274,1106.28 2352.76,1106.28 \"/>\n",
       "<polyline clip-path=\"url(#clip752)\" style=\"stroke:#000000; stroke-linecap:round; stroke-linejoin:round; stroke-width:2; stroke-opacity:0.1; fill:none\" points=\"186.274,766.846 2352.76,766.846 \"/>\n",
       "<polyline clip-path=\"url(#clip752)\" style=\"stroke:#000000; stroke-linecap:round; stroke-linejoin:round; stroke-width:2; stroke-opacity:0.1; fill:none\" points=\"186.274,427.411 2352.76,427.411 \"/>\n",
       "<polyline clip-path=\"url(#clip752)\" style=\"stroke:#000000; stroke-linecap:round; stroke-linejoin:round; stroke-width:2; stroke-opacity:0.1; fill:none\" points=\"186.274,87.9763 2352.76,87.9763 \"/>\n",
       "<polyline clip-path=\"url(#clip750)\" style=\"stroke:#000000; stroke-linecap:round; stroke-linejoin:round; stroke-width:4; stroke-opacity:1; fill:none\" points=\"186.274,1486.45 2352.76,1486.45 \"/>\n",
       "<polyline clip-path=\"url(#clip750)\" style=\"stroke:#000000; stroke-linecap:round; stroke-linejoin:round; stroke-width:4; stroke-opacity:1; fill:none\" points=\"205.861,1486.45 205.861,1467.55 \"/>\n",
       "<polyline clip-path=\"url(#clip750)\" style=\"stroke:#000000; stroke-linecap:round; stroke-linejoin:round; stroke-width:4; stroke-opacity:1; fill:none\" points=\"737.688,1486.45 737.688,1467.55 \"/>\n",
       "<polyline clip-path=\"url(#clip750)\" style=\"stroke:#000000; stroke-linecap:round; stroke-linejoin:round; stroke-width:4; stroke-opacity:1; fill:none\" points=\"1269.51,1486.45 1269.51,1467.55 \"/>\n",
       "<polyline clip-path=\"url(#clip750)\" style=\"stroke:#000000; stroke-linecap:round; stroke-linejoin:round; stroke-width:4; stroke-opacity:1; fill:none\" points=\"1801.34,1486.45 1801.34,1467.55 \"/>\n",
       "<polyline clip-path=\"url(#clip750)\" style=\"stroke:#000000; stroke-linecap:round; stroke-linejoin:round; stroke-width:4; stroke-opacity:1; fill:none\" points=\"2333.17,1486.45 2333.17,1467.55 \"/>\n",
       "<path clip-path=\"url(#clip750)\" d=\"M173.014 1544.91 L180.653 1544.91 L180.653 1518.55 L172.343 1520.21 L172.343 1515.95 L180.607 1514.29 L185.283 1514.29 L185.283 1544.91 L192.922 1544.91 L192.922 1548.85 L173.014 1548.85 L173.014 1544.91 Z\" fill=\"#000000\" fill-rule=\"nonzero\" fill-opacity=\"1\" /><path clip-path=\"url(#clip750)\" d=\"M202.366 1542.97 L207.25 1542.97 L207.25 1548.85 L202.366 1548.85 L202.366 1542.97 Z\" fill=\"#000000\" fill-rule=\"nonzero\" fill-opacity=\"1\" /><path clip-path=\"url(#clip750)\" d=\"M227.435 1517.37 Q223.824 1517.37 221.995 1520.93 Q220.19 1524.47 220.19 1531.6 Q220.19 1538.71 221.995 1542.27 Q223.824 1545.82 227.435 1545.82 Q231.069 1545.82 232.875 1542.27 Q234.704 1538.71 234.704 1531.6 Q234.704 1524.47 232.875 1520.93 Q231.069 1517.37 227.435 1517.37 M227.435 1513.66 Q233.245 1513.66 236.301 1518.27 Q239.38 1522.85 239.38 1531.6 Q239.38 1540.33 236.301 1544.94 Q233.245 1549.52 227.435 1549.52 Q221.625 1549.52 218.546 1544.94 Q215.491 1540.33 215.491 1531.6 Q215.491 1522.85 218.546 1518.27 Q221.625 1513.66 227.435 1513.66 Z\" fill=\"#000000\" fill-rule=\"nonzero\" fill-opacity=\"1\" /><path clip-path=\"url(#clip750)\" d=\"M705.339 1544.91 L712.978 1544.91 L712.978 1518.55 L704.667 1520.21 L704.667 1515.95 L712.931 1514.29 L717.607 1514.29 L717.607 1544.91 L725.246 1544.91 L725.246 1548.85 L705.339 1548.85 L705.339 1544.91 Z\" fill=\"#000000\" fill-rule=\"nonzero\" fill-opacity=\"1\" /><path clip-path=\"url(#clip750)\" d=\"M734.69 1542.97 L739.575 1542.97 L739.575 1548.85 L734.69 1548.85 L734.69 1542.97 Z\" fill=\"#000000\" fill-rule=\"nonzero\" fill-opacity=\"1\" /><path clip-path=\"url(#clip750)\" d=\"M749.806 1514.29 L768.162 1514.29 L768.162 1518.22 L754.088 1518.22 L754.088 1526.7 Q755.107 1526.35 756.126 1526.19 Q757.144 1526 758.163 1526 Q763.95 1526 767.329 1529.17 Q770.709 1532.34 770.709 1537.76 Q770.709 1543.34 767.237 1546.44 Q763.764 1549.52 757.445 1549.52 Q755.269 1549.52 753.001 1549.15 Q750.755 1548.78 748.348 1548.04 L748.348 1543.34 Q750.431 1544.47 752.653 1545.03 Q754.876 1545.58 757.352 1545.58 Q761.357 1545.58 763.695 1543.48 Q766.033 1541.37 766.033 1537.76 Q766.033 1534.15 763.695 1532.04 Q761.357 1529.94 757.352 1529.94 Q755.477 1529.94 753.602 1530.35 Q751.751 1530.77 749.806 1531.65 L749.806 1514.29 Z\" fill=\"#000000\" fill-rule=\"nonzero\" fill-opacity=\"1\" /><path clip-path=\"url(#clip750)\" d=\"M1240.75 1544.91 L1257.07 1544.91 L1257.07 1548.85 L1235.13 1548.85 L1235.13 1544.91 Q1237.79 1542.16 1242.37 1537.53 Q1246.98 1532.88 1248.16 1531.53 Q1250.41 1529.01 1251.29 1527.27 Q1252.19 1525.51 1252.19 1523.82 Q1252.19 1521.07 1250.24 1519.33 Q1248.32 1517.6 1245.22 1517.6 Q1243.02 1517.6 1240.57 1518.36 Q1238.14 1519.13 1235.36 1520.68 L1235.36 1515.95 Q1238.18 1514.82 1240.64 1514.24 Q1243.09 1513.66 1245.13 1513.66 Q1250.5 1513.66 1253.69 1516.35 Q1256.89 1519.03 1256.89 1523.52 Q1256.89 1525.65 1256.08 1527.57 Q1255.29 1529.47 1253.18 1532.07 Q1252.61 1532.74 1249.5 1535.95 Q1246.4 1539.15 1240.75 1544.91 Z\" fill=\"#000000\" fill-rule=\"nonzero\" fill-opacity=\"1\" /><path clip-path=\"url(#clip750)\" d=\"M1266.89 1542.97 L1271.77 1542.97 L1271.77 1548.85 L1266.89 1548.85 L1266.89 1542.97 Z\" fill=\"#000000\" fill-rule=\"nonzero\" fill-opacity=\"1\" /><path clip-path=\"url(#clip750)\" d=\"M1291.96 1517.37 Q1288.35 1517.37 1286.52 1520.93 Q1284.71 1524.47 1284.71 1531.6 Q1284.71 1538.71 1286.52 1542.27 Q1288.35 1545.82 1291.96 1545.82 Q1295.59 1545.82 1297.4 1542.27 Q1299.23 1538.71 1299.23 1531.6 Q1299.23 1524.47 1297.4 1520.93 Q1295.59 1517.37 1291.96 1517.37 M1291.96 1513.66 Q1297.77 1513.66 1300.82 1518.27 Q1303.9 1522.85 1303.9 1531.6 Q1303.9 1540.33 1300.82 1544.94 Q1297.77 1549.52 1291.96 1549.52 Q1286.15 1549.52 1283.07 1544.94 Q1280.01 1540.33 1280.01 1531.6 Q1280.01 1522.85 1283.07 1518.27 Q1286.15 1513.66 1291.96 1513.66 Z\" fill=\"#000000\" fill-rule=\"nonzero\" fill-opacity=\"1\" /><path clip-path=\"url(#clip750)\" d=\"M1773.08 1544.91 L1789.4 1544.91 L1789.4 1548.85 L1767.45 1548.85 L1767.45 1544.91 Q1770.12 1542.16 1774.7 1537.53 Q1779.3 1532.88 1780.49 1531.53 Q1782.73 1529.01 1783.61 1527.27 Q1784.51 1525.51 1784.51 1523.82 Q1784.51 1521.07 1782.57 1519.33 Q1780.65 1517.6 1777.55 1517.6 Q1775.35 1517.6 1772.89 1518.36 Q1770.46 1519.13 1767.68 1520.68 L1767.68 1515.95 Q1770.51 1514.82 1772.96 1514.24 Q1775.42 1513.66 1777.45 1513.66 Q1782.82 1513.66 1786.02 1516.35 Q1789.21 1519.03 1789.21 1523.52 Q1789.21 1525.65 1788.4 1527.57 Q1787.62 1529.47 1785.51 1532.07 Q1784.93 1532.74 1781.83 1535.95 Q1778.73 1539.15 1773.08 1544.91 Z\" fill=\"#000000\" fill-rule=\"nonzero\" fill-opacity=\"1\" /><path clip-path=\"url(#clip750)\" d=\"M1799.21 1542.97 L1804.1 1542.97 L1804.1 1548.85 L1799.21 1548.85 L1799.21 1542.97 Z\" fill=\"#000000\" fill-rule=\"nonzero\" fill-opacity=\"1\" /><path clip-path=\"url(#clip750)\" d=\"M1814.33 1514.29 L1832.68 1514.29 L1832.68 1518.22 L1818.61 1518.22 L1818.61 1526.7 Q1819.63 1526.35 1820.65 1526.19 Q1821.67 1526 1822.68 1526 Q1828.47 1526 1831.85 1529.17 Q1835.23 1532.34 1835.23 1537.76 Q1835.23 1543.34 1831.76 1546.44 Q1828.29 1549.52 1821.97 1549.52 Q1819.79 1549.52 1817.52 1549.15 Q1815.28 1548.78 1812.87 1548.04 L1812.87 1543.34 Q1814.95 1544.47 1817.18 1545.03 Q1819.4 1545.58 1821.87 1545.58 Q1825.88 1545.58 1828.22 1543.48 Q1830.55 1541.37 1830.55 1537.76 Q1830.55 1534.15 1828.22 1532.04 Q1825.88 1529.94 1821.87 1529.94 Q1820 1529.94 1818.12 1530.35 Q1816.27 1530.77 1814.33 1531.65 L1814.33 1514.29 Z\" fill=\"#000000\" fill-rule=\"nonzero\" fill-opacity=\"1\" /><path clip-path=\"url(#clip750)\" d=\"M2314.48 1530.21 Q2317.83 1530.93 2319.71 1533.2 Q2321.61 1535.47 2321.61 1538.8 Q2321.61 1543.92 2318.09 1546.72 Q2314.57 1549.52 2308.09 1549.52 Q2305.91 1549.52 2303.6 1549.08 Q2301.31 1548.66 2298.85 1547.81 L2298.85 1543.29 Q2300.8 1544.43 2303.11 1545.01 Q2305.43 1545.58 2307.95 1545.58 Q2312.35 1545.58 2314.64 1543.85 Q2316.95 1542.11 2316.95 1538.8 Q2316.95 1535.75 2314.8 1534.03 Q2312.67 1532.3 2308.85 1532.3 L2304.82 1532.3 L2304.82 1528.45 L2309.04 1528.45 Q2312.49 1528.45 2314.31 1527.09 Q2316.14 1525.7 2316.14 1523.11 Q2316.14 1520.45 2314.25 1519.03 Q2312.37 1517.6 2308.85 1517.6 Q2306.93 1517.6 2304.73 1518.01 Q2302.53 1518.43 2299.89 1519.31 L2299.89 1515.14 Q2302.56 1514.4 2304.87 1514.03 Q2307.21 1513.66 2309.27 1513.66 Q2314.59 1513.66 2317.69 1516.09 Q2320.8 1518.5 2320.8 1522.62 Q2320.8 1525.49 2319.15 1527.48 Q2317.51 1529.45 2314.48 1530.21 Z\" fill=\"#000000\" fill-rule=\"nonzero\" fill-opacity=\"1\" /><path clip-path=\"url(#clip750)\" d=\"M2330.47 1542.97 L2335.36 1542.97 L2335.36 1548.85 L2330.47 1548.85 L2330.47 1542.97 Z\" fill=\"#000000\" fill-rule=\"nonzero\" fill-opacity=\"1\" /><path clip-path=\"url(#clip750)\" d=\"M2355.54 1517.37 Q2351.93 1517.37 2350.1 1520.93 Q2348.3 1524.47 2348.3 1531.6 Q2348.3 1538.71 2350.1 1542.27 Q2351.93 1545.82 2355.54 1545.82 Q2359.18 1545.82 2360.98 1542.27 Q2362.81 1538.71 2362.81 1531.6 Q2362.81 1524.47 2360.98 1520.93 Q2359.18 1517.37 2355.54 1517.37 M2355.54 1513.66 Q2361.35 1513.66 2364.41 1518.27 Q2367.49 1522.85 2367.49 1531.6 Q2367.49 1540.33 2364.41 1544.94 Q2361.35 1549.52 2355.54 1549.52 Q2349.73 1549.52 2346.65 1544.94 Q2343.6 1540.33 2343.6 1531.6 Q2343.6 1522.85 2346.65 1518.27 Q2349.73 1513.66 2355.54 1513.66 Z\" fill=\"#000000\" fill-rule=\"nonzero\" fill-opacity=\"1\" /><polyline clip-path=\"url(#clip750)\" style=\"stroke:#000000; stroke-linecap:round; stroke-linejoin:round; stroke-width:4; stroke-opacity:1; fill:none\" points=\"186.274,1486.45 186.274,47.2441 \"/>\n",
       "<polyline clip-path=\"url(#clip750)\" style=\"stroke:#000000; stroke-linecap:round; stroke-linejoin:round; stroke-width:4; stroke-opacity:1; fill:none\" points=\"186.274,1445.72 205.172,1445.72 \"/>\n",
       "<polyline clip-path=\"url(#clip750)\" style=\"stroke:#000000; stroke-linecap:round; stroke-linejoin:round; stroke-width:4; stroke-opacity:1; fill:none\" points=\"186.274,1106.28 205.172,1106.28 \"/>\n",
       "<polyline clip-path=\"url(#clip750)\" style=\"stroke:#000000; stroke-linecap:round; stroke-linejoin:round; stroke-width:4; stroke-opacity:1; fill:none\" points=\"186.274,766.846 205.172,766.846 \"/>\n",
       "<polyline clip-path=\"url(#clip750)\" style=\"stroke:#000000; stroke-linecap:round; stroke-linejoin:round; stroke-width:4; stroke-opacity:1; fill:none\" points=\"186.274,427.411 205.172,427.411 \"/>\n",
       "<polyline clip-path=\"url(#clip750)\" style=\"stroke:#000000; stroke-linecap:round; stroke-linejoin:round; stroke-width:4; stroke-opacity:1; fill:none\" points=\"186.274,87.9763 205.172,87.9763 \"/>\n",
       "<path clip-path=\"url(#clip750)\" d=\"M62.9365 1431.51 Q59.3254 1431.51 57.4967 1435.08 Q55.6912 1438.62 55.6912 1445.75 Q55.6912 1452.86 57.4967 1456.42 Q59.3254 1459.96 62.9365 1459.96 Q66.5707 1459.96 68.3763 1456.42 Q70.205 1452.86 70.205 1445.75 Q70.205 1438.62 68.3763 1435.08 Q66.5707 1431.51 62.9365 1431.51 M62.9365 1427.81 Q68.7467 1427.81 71.8022 1432.42 Q74.8809 1437 74.8809 1445.75 Q74.8809 1454.48 71.8022 1459.08 Q68.7467 1463.67 62.9365 1463.67 Q57.1264 1463.67 54.0477 1459.08 Q50.9921 1454.48 50.9921 1445.75 Q50.9921 1437 54.0477 1432.42 Q57.1264 1427.81 62.9365 1427.81 Z\" fill=\"#000000\" fill-rule=\"nonzero\" fill-opacity=\"1\" /><path clip-path=\"url(#clip750)\" d=\"M83.0984 1457.12 L87.9827 1457.12 L87.9827 1463 L83.0984 1463 L83.0984 1457.12 Z\" fill=\"#000000\" fill-rule=\"nonzero\" fill-opacity=\"1\" /><path clip-path=\"url(#clip750)\" d=\"M108.168 1431.51 Q104.557 1431.51 102.728 1435.08 Q100.922 1438.62 100.922 1445.75 Q100.922 1452.86 102.728 1456.42 Q104.557 1459.96 108.168 1459.96 Q111.802 1459.96 113.608 1456.42 Q115.436 1452.86 115.436 1445.75 Q115.436 1438.62 113.608 1435.08 Q111.802 1431.51 108.168 1431.51 M108.168 1427.81 Q113.978 1427.81 117.033 1432.42 Q120.112 1437 120.112 1445.75 Q120.112 1454.48 117.033 1459.08 Q113.978 1463.67 108.168 1463.67 Q102.358 1463.67 99.2789 1459.08 Q96.2234 1454.48 96.2234 1445.75 Q96.2234 1437 99.2789 1432.42 Q102.358 1427.81 108.168 1427.81 Z\" fill=\"#000000\" fill-rule=\"nonzero\" fill-opacity=\"1\" /><path clip-path=\"url(#clip750)\" d=\"M138.33 1431.51 Q134.719 1431.51 132.89 1435.08 Q131.084 1438.62 131.084 1445.75 Q131.084 1452.86 132.89 1456.42 Q134.719 1459.96 138.33 1459.96 Q141.964 1459.96 143.769 1456.42 Q145.598 1452.86 145.598 1445.75 Q145.598 1438.62 143.769 1435.08 Q141.964 1431.51 138.33 1431.51 M138.33 1427.81 Q144.14 1427.81 147.195 1432.42 Q150.274 1437 150.274 1445.75 Q150.274 1454.48 147.195 1459.08 Q144.14 1463.67 138.33 1463.67 Q132.519 1463.67 129.441 1459.08 Q126.385 1454.48 126.385 1445.75 Q126.385 1437 129.441 1432.42 Q132.519 1427.81 138.33 1427.81 Z\" fill=\"#000000\" fill-rule=\"nonzero\" fill-opacity=\"1\" /><path clip-path=\"url(#clip750)\" d=\"M63.9319 1092.08 Q60.3208 1092.08 58.4921 1095.64 Q56.6865 1099.19 56.6865 1106.32 Q56.6865 1113.42 58.4921 1116.99 Q60.3208 1120.53 63.9319 1120.53 Q67.5661 1120.53 69.3717 1116.99 Q71.2004 1113.42 71.2004 1106.32 Q71.2004 1099.19 69.3717 1095.64 Q67.5661 1092.08 63.9319 1092.08 M63.9319 1088.38 Q69.742 1088.38 72.7976 1092.98 Q75.8763 1097.57 75.8763 1106.32 Q75.8763 1115.04 72.7976 1119.65 Q69.742 1124.23 63.9319 1124.23 Q58.1217 1124.23 55.043 1119.65 Q51.9875 1115.04 51.9875 1106.32 Q51.9875 1097.57 55.043 1092.98 Q58.1217 1088.38 63.9319 1088.38 Z\" fill=\"#000000\" fill-rule=\"nonzero\" fill-opacity=\"1\" /><path clip-path=\"url(#clip750)\" d=\"M84.0938 1117.68 L88.978 1117.68 L88.978 1123.56 L84.0938 1123.56 L84.0938 1117.68 Z\" fill=\"#000000\" fill-rule=\"nonzero\" fill-opacity=\"1\" /><path clip-path=\"url(#clip750)\" d=\"M103.191 1119.63 L119.51 1119.63 L119.51 1123.56 L97.566 1123.56 L97.566 1119.63 Q100.228 1116.87 104.811 1112.24 Q109.418 1107.59 110.598 1106.25 Q112.844 1103.72 113.723 1101.99 Q114.626 1100.23 114.626 1098.54 Q114.626 1095.78 112.682 1094.05 Q110.76 1092.31 107.658 1092.31 Q105.459 1092.31 103.006 1093.07 Q100.575 1093.84 97.7974 1095.39 L97.7974 1090.67 Q100.621 1089.53 103.075 1088.95 Q105.529 1088.38 107.566 1088.38 Q112.936 1088.38 116.131 1091.06 Q119.325 1093.75 119.325 1098.24 Q119.325 1100.37 118.515 1102.29 Q117.728 1104.19 115.621 1106.78 Q115.043 1107.45 111.941 1110.67 Q108.839 1113.86 103.191 1119.63 Z\" fill=\"#000000\" fill-rule=\"nonzero\" fill-opacity=\"1\" /><path clip-path=\"url(#clip750)\" d=\"M129.371 1089 L147.728 1089 L147.728 1092.94 L133.654 1092.94 L133.654 1101.41 Q134.672 1101.06 135.691 1100.9 Q136.709 1100.71 137.728 1100.71 Q143.515 1100.71 146.894 1103.89 Q150.274 1107.06 150.274 1112.47 Q150.274 1118.05 146.802 1121.15 Q143.33 1124.23 137.01 1124.23 Q134.834 1124.23 132.566 1123.86 Q130.32 1123.49 127.913 1122.75 L127.913 1118.05 Q129.996 1119.19 132.219 1119.74 Q134.441 1120.3 136.918 1120.3 Q140.922 1120.3 143.26 1118.19 Q145.598 1116.08 145.598 1112.47 Q145.598 1108.86 143.26 1106.76 Q140.922 1104.65 136.918 1104.65 Q135.043 1104.65 133.168 1105.07 Q131.316 1105.48 129.371 1106.36 L129.371 1089 Z\" fill=\"#000000\" fill-rule=\"nonzero\" fill-opacity=\"1\" /><path clip-path=\"url(#clip750)\" d=\"M62.9365 752.645 Q59.3254 752.645 57.4967 756.209 Q55.6912 759.751 55.6912 766.881 Q55.6912 773.987 57.4967 777.552 Q59.3254 781.094 62.9365 781.094 Q66.5707 781.094 68.3763 777.552 Q70.205 773.987 70.205 766.881 Q70.205 759.751 68.3763 756.209 Q66.5707 752.645 62.9365 752.645 M62.9365 748.941 Q68.7467 748.941 71.8022 753.547 Q74.8809 758.131 74.8809 766.881 Q74.8809 775.608 71.8022 780.214 Q68.7467 784.797 62.9365 784.797 Q57.1264 784.797 54.0477 780.214 Q50.9921 775.608 50.9921 766.881 Q50.9921 758.131 54.0477 753.547 Q57.1264 748.941 62.9365 748.941 Z\" fill=\"#000000\" fill-rule=\"nonzero\" fill-opacity=\"1\" /><path clip-path=\"url(#clip750)\" d=\"M83.0984 778.246 L87.9827 778.246 L87.9827 784.126 L83.0984 784.126 L83.0984 778.246 Z\" fill=\"#000000\" fill-rule=\"nonzero\" fill-opacity=\"1\" /><path clip-path=\"url(#clip750)\" d=\"M98.2141 749.566 L116.57 749.566 L116.57 753.501 L102.496 753.501 L102.496 761.973 Q103.515 761.626 104.534 761.464 Q105.552 761.279 106.571 761.279 Q112.358 761.279 115.737 764.45 Q119.117 767.621 119.117 773.038 Q119.117 778.617 115.645 781.719 Q112.172 784.797 105.853 784.797 Q103.677 784.797 101.409 784.427 Q99.1632 784.057 96.7558 783.316 L96.7558 778.617 Q98.8391 779.751 101.061 780.307 Q103.284 780.862 105.76 780.862 Q109.765 780.862 112.103 778.756 Q114.441 776.649 114.441 773.038 Q114.441 769.427 112.103 767.321 Q109.765 765.214 105.76 765.214 Q103.885 765.214 102.01 765.631 Q100.159 766.047 98.2141 766.927 L98.2141 749.566 Z\" fill=\"#000000\" fill-rule=\"nonzero\" fill-opacity=\"1\" /><path clip-path=\"url(#clip750)\" d=\"M138.33 752.645 Q134.719 752.645 132.89 756.209 Q131.084 759.751 131.084 766.881 Q131.084 773.987 132.89 777.552 Q134.719 781.094 138.33 781.094 Q141.964 781.094 143.769 777.552 Q145.598 773.987 145.598 766.881 Q145.598 759.751 143.769 756.209 Q141.964 752.645 138.33 752.645 M138.33 748.941 Q144.14 748.941 147.195 753.547 Q150.274 758.131 150.274 766.881 Q150.274 775.608 147.195 780.214 Q144.14 784.797 138.33 784.797 Q132.519 784.797 129.441 780.214 Q126.385 775.608 126.385 766.881 Q126.385 758.131 129.441 753.547 Q132.519 748.941 138.33 748.941 Z\" fill=\"#000000\" fill-rule=\"nonzero\" fill-opacity=\"1\" /><path clip-path=\"url(#clip750)\" d=\"M63.9319 413.21 Q60.3208 413.21 58.4921 416.775 Q56.6865 420.316 56.6865 427.446 Q56.6865 434.552 58.4921 438.117 Q60.3208 441.659 63.9319 441.659 Q67.5661 441.659 69.3717 438.117 Q71.2004 434.552 71.2004 427.446 Q71.2004 420.316 69.3717 416.775 Q67.5661 413.21 63.9319 413.21 M63.9319 409.506 Q69.742 409.506 72.7976 414.113 Q75.8763 418.696 75.8763 427.446 Q75.8763 436.173 72.7976 440.779 Q69.742 445.362 63.9319 445.362 Q58.1217 445.362 55.043 440.779 Q51.9875 436.173 51.9875 427.446 Q51.9875 418.696 55.043 414.113 Q58.1217 409.506 63.9319 409.506 Z\" fill=\"#000000\" fill-rule=\"nonzero\" fill-opacity=\"1\" /><path clip-path=\"url(#clip750)\" d=\"M84.0938 438.812 L88.978 438.812 L88.978 444.691 L84.0938 444.691 L84.0938 438.812 Z\" fill=\"#000000\" fill-rule=\"nonzero\" fill-opacity=\"1\" /><path clip-path=\"url(#clip750)\" d=\"M97.9826 410.131 L120.205 410.131 L120.205 412.122 L107.658 444.691 L102.774 444.691 L114.58 414.066 L97.9826 414.066 L97.9826 410.131 Z\" fill=\"#000000\" fill-rule=\"nonzero\" fill-opacity=\"1\" /><path clip-path=\"url(#clip750)\" d=\"M129.371 410.131 L147.728 410.131 L147.728 414.066 L133.654 414.066 L133.654 422.538 Q134.672 422.191 135.691 422.029 Q136.709 421.844 137.728 421.844 Q143.515 421.844 146.894 425.015 Q150.274 428.187 150.274 433.603 Q150.274 439.182 146.802 442.284 Q143.33 445.362 137.01 445.362 Q134.834 445.362 132.566 444.992 Q130.32 444.622 127.913 443.881 L127.913 439.182 Q129.996 440.316 132.219 440.872 Q134.441 441.427 136.918 441.427 Q140.922 441.427 143.26 439.321 Q145.598 437.214 145.598 433.603 Q145.598 429.992 143.26 427.886 Q140.922 425.779 136.918 425.779 Q135.043 425.779 133.168 426.196 Q131.316 426.613 129.371 427.492 L129.371 410.131 Z\" fill=\"#000000\" fill-rule=\"nonzero\" fill-opacity=\"1\" /><path clip-path=\"url(#clip750)\" d=\"M53.7467 101.321 L61.3856 101.321 L61.3856 74.9555 L53.0754 76.6222 L53.0754 72.3629 L61.3393 70.6963 L66.0152 70.6963 L66.0152 101.321 L73.654 101.321 L73.654 105.256 L53.7467 105.256 L53.7467 101.321 Z\" fill=\"#000000\" fill-rule=\"nonzero\" fill-opacity=\"1\" /><path clip-path=\"url(#clip750)\" d=\"M83.0984 99.3767 L87.9827 99.3767 L87.9827 105.256 L83.0984 105.256 L83.0984 99.3767 Z\" fill=\"#000000\" fill-rule=\"nonzero\" fill-opacity=\"1\" /><path clip-path=\"url(#clip750)\" d=\"M108.168 73.775 Q104.557 73.775 102.728 77.3398 Q100.922 80.8814 100.922 88.011 Q100.922 95.1174 102.728 98.6822 Q104.557 102.224 108.168 102.224 Q111.802 102.224 113.608 98.6822 Q115.436 95.1174 115.436 88.011 Q115.436 80.8814 113.608 77.3398 Q111.802 73.775 108.168 73.775 M108.168 70.0713 Q113.978 70.0713 117.033 74.6777 Q120.112 79.261 120.112 88.011 Q120.112 96.7378 117.033 101.344 Q113.978 105.928 108.168 105.928 Q102.358 105.928 99.2789 101.344 Q96.2234 96.7378 96.2234 88.011 Q96.2234 79.261 99.2789 74.6777 Q102.358 70.0713 108.168 70.0713 Z\" fill=\"#000000\" fill-rule=\"nonzero\" fill-opacity=\"1\" /><path clip-path=\"url(#clip750)\" d=\"M138.33 73.775 Q134.719 73.775 132.89 77.3398 Q131.084 80.8814 131.084 88.011 Q131.084 95.1174 132.89 98.6822 Q134.719 102.224 138.33 102.224 Q141.964 102.224 143.769 98.6822 Q145.598 95.1174 145.598 88.011 Q145.598 80.8814 143.769 77.3398 Q141.964 73.775 138.33 73.775 M138.33 70.0713 Q144.14 70.0713 147.195 74.6777 Q150.274 79.261 150.274 88.011 Q150.274 96.7378 147.195 101.344 Q144.14 105.928 138.33 105.928 Q132.519 105.928 129.441 101.344 Q126.385 96.7378 126.385 88.011 Q126.385 79.261 129.441 74.6777 Q132.519 70.0713 138.33 70.0713 Z\" fill=\"#000000\" fill-rule=\"nonzero\" fill-opacity=\"1\" /><polyline clip-path=\"url(#clip752)\" style=\"stroke:#009af9; stroke-linecap:round; stroke-linejoin:round; stroke-width:4; stroke-opacity:1; fill:none\" points=\"247.59,1445.72 257.86,1445.72 268.131,1445.72 278.401,1445.72 288.672,1445.72 298.943,1445.72 309.213,1445.72 319.484,1445.72 329.754,1445.72 340.025,1445.72 350.296,1445.72 360.566,1445.72 370.837,1445.72 381.107,1445.72 391.378,1445.72 401.649,1445.72 411.919,1445.72 422.19,1445.72 432.46,1445.72 442.731,1445.72 453.002,1445.72 463.272,1445.72 473.543,1445.72 483.813,1445.72 494.084,1445.72 504.355,1445.72 514.625,1445.72 524.896,1445.72 535.167,1445.72 545.437,1445.72 555.708,1445.72 565.978,1445.72 576.249,1445.72 586.52,1445.72 596.79,1445.72 607.061,1445.72 617.331,1445.72 627.602,1445.72 637.873,1445.72 648.143,1445.72 658.414,1445.72 668.684,1445.72 678.955,1445.72 689.226,1445.72 699.496,1445.72 709.767,1445.72 720.037,1445.72 730.308,1445.72 740.579,1445.72 750.849,1445.72 761.12,1445.72 771.39,1445.72 781.661,1445.72 791.932,1445.72 802.202,1445.72 812.473,1445.72 822.744,1445.72 833.014,1445.72 843.285,1445.72 853.555,1445.72 863.826,1445.72 874.097,1445.72 884.367,1445.72 894.638,1445.72 904.908,1445.72 915.179,1445.72 925.45,1445.72 935.72,1445.72 945.991,1445.72 956.261,1445.72 966.532,1445.72 976.803,1445.72 987.073,1445.72 997.344,1445.72 1007.61,1445.72 1017.89,1445.72 1028.16,1445.72 1038.43,1445.72 1048.7,1445.72 1058.97,1445.72 1069.24,1445.72 1079.51,1445.72 1089.78,1445.72 1100.05,1445.72 1110.32,1445.72 1120.59,1445.72 1130.86,1445.72 1141.13,1445.72 1151.4,1445.72 1161.67,1445.72 1171.94,1445.72 1182.21,1445.72 1192.49,1445.72 1202.76,1445.72 1213.03,1445.72 1223.3,1445.72 1233.57,1445.72 1243.84,1445.72 1254.11,1445.72 1264.38,1445.72 1274.65,87.9763 1284.92,87.9763 1295.19,87.9763 1305.46,87.9763 1315.73,87.9763 1326,87.9763 1336.27,87.9763 1346.54,87.9763 1356.82,87.9763 1367.09,87.9763 1377.36,87.9763 1387.63,87.9763 1397.9,87.9763 1408.17,87.9763 1418.44,87.9763 1428.71,87.9763 1438.98,87.9763 1449.25,87.9763 1459.52,87.9763 1469.79,87.9763 1480.06,87.9763 1490.33,87.9763 1500.6,87.9763 1510.87,87.9763 1521.14,87.9763 1531.42,87.9763 1541.69,87.9763 1551.96,87.9763 1562.23,87.9763 1572.5,87.9763 1582.77,87.9763 1593.04,87.9763 1603.31,87.9763 1613.58,87.9763 1623.85,87.9763 1634.12,87.9763 1644.39,87.9763 1654.66,87.9763 1664.93,87.9763 1675.2,87.9763 1685.47,87.9763 1695.75,87.9763 1706.02,87.9763 1716.29,87.9763 1726.56,87.9763 1736.83,87.9763 1747.1,87.9763 1757.37,87.9763 1767.64,87.9763 1777.91,87.9763 1788.18,87.9763 1798.45,87.9763 1808.72,87.9763 1818.99,87.9763 1829.26,87.9763 1839.53,87.9763 1849.8,87.9763 1860.07,87.9763 1870.35,87.9763 1880.62,87.9763 1890.89,87.9763 1901.16,87.9763 1911.43,87.9763 1921.7,87.9763 1931.97,87.9763 1942.24,87.9763 1952.51,87.9763 1962.78,87.9763 1973.05,87.9763 1983.32,87.9763 1993.59,87.9763 2003.86,87.9763 2014.13,87.9763 2024.4,87.9763 2034.68,87.9763 2044.95,87.9763 2055.22,87.9763 2065.49,87.9763 2075.76,87.9763 2086.03,87.9763 2096.3,87.9763 2106.57,87.9763 2116.84,87.9763 2127.11,87.9763 2137.38,87.9763 2147.65,87.9763 2157.92,87.9763 2168.19,87.9763 2178.46,87.9763 2188.73,87.9763 2199,87.9763 2209.28,87.9763 2219.55,87.9763 2229.82,87.9763 2240.09,87.9763 2250.36,87.9763 2260.63,87.9763 2270.9,87.9763 2281.17,87.9763 2291.44,87.9763 \"/>\n",
       "<path clip-path=\"url(#clip750)\" d=\"M258.49 198.898 L527.569 198.898 L527.569 95.2176 L258.49 95.2176  Z\" fill=\"#ffffff\" fill-rule=\"evenodd\" fill-opacity=\"1\"/>\n",
       "<polyline clip-path=\"url(#clip750)\" style=\"stroke:#000000; stroke-linecap:round; stroke-linejoin:round; stroke-width:4; stroke-opacity:1; fill:none\" points=\"258.49,198.898 527.569,198.898 527.569,95.2176 258.49,95.2176 258.49,198.898 \"/>\n",
       "<polyline clip-path=\"url(#clip750)\" style=\"stroke:#009af9; stroke-linecap:round; stroke-linejoin:round; stroke-width:4; stroke-opacity:1; fill:none\" points=\"282.562,147.058 426.994,147.058 \"/>\n",
       "<path clip-path=\"url(#clip750)\" d=\"M464.909 166.745 Q463.103 171.375 461.39 172.787 Q459.677 174.199 456.807 174.199 L453.404 174.199 L453.404 170.634 L455.904 170.634 Q457.663 170.634 458.636 169.8 Q459.608 168.967 460.788 165.865 L461.552 163.921 L451.066 138.412 L455.58 138.412 L463.682 158.689 L471.784 138.412 L476.298 138.412 L464.909 166.745 Z\" fill=\"#000000\" fill-rule=\"nonzero\" fill-opacity=\"1\" /><path clip-path=\"url(#clip750)\" d=\"M483.589 160.402 L491.228 160.402 L491.228 134.037 L482.918 135.703 L482.918 131.444 L491.182 129.778 L495.858 129.778 L495.858 160.402 L503.497 160.402 L503.497 164.338 L483.589 164.338 L483.589 160.402 Z\" fill=\"#000000\" fill-rule=\"nonzero\" fill-opacity=\"1\" /></svg>\n"
      ],
      "text/html": [
       "<?xml version=\"1.0\" encoding=\"utf-8\"?>\n",
       "<svg xmlns=\"http://www.w3.org/2000/svg\" xmlns:xlink=\"http://www.w3.org/1999/xlink\" width=\"600\" height=\"400\" viewBox=\"0 0 2400 1600\">\n",
       "<defs>\n",
       "  <clipPath id=\"clip800\">\n",
       "    <rect x=\"0\" y=\"0\" width=\"2400\" height=\"1600\"/>\n",
       "  </clipPath>\n",
       "</defs>\n",
       "<path clip-path=\"url(#clip800)\" d=\"M0 1600 L2400 1600 L2400 0 L0 0  Z\" fill=\"#ffffff\" fill-rule=\"evenodd\" fill-opacity=\"1\"/>\n",
       "<defs>\n",
       "  <clipPath id=\"clip801\">\n",
       "    <rect x=\"480\" y=\"0\" width=\"1681\" height=\"1600\"/>\n",
       "  </clipPath>\n",
       "</defs>\n",
       "<path clip-path=\"url(#clip800)\" d=\"M186.274 1486.45 L2352.76 1486.45 L2352.76 47.2441 L186.274 47.2441  Z\" fill=\"#ffffff\" fill-rule=\"evenodd\" fill-opacity=\"1\"/>\n",
       "<defs>\n",
       "  <clipPath id=\"clip802\">\n",
       "    <rect x=\"186\" y=\"47\" width=\"2167\" height=\"1440\"/>\n",
       "  </clipPath>\n",
       "</defs>\n",
       "<polyline clip-path=\"url(#clip802)\" style=\"stroke:#000000; stroke-linecap:round; stroke-linejoin:round; stroke-width:2; stroke-opacity:0.1; fill:none\" points=\"205.861,1486.45 205.861,47.2441 \"/>\n",
       "<polyline clip-path=\"url(#clip802)\" style=\"stroke:#000000; stroke-linecap:round; stroke-linejoin:round; stroke-width:2; stroke-opacity:0.1; fill:none\" points=\"737.688,1486.45 737.688,47.2441 \"/>\n",
       "<polyline clip-path=\"url(#clip802)\" style=\"stroke:#000000; stroke-linecap:round; stroke-linejoin:round; stroke-width:2; stroke-opacity:0.1; fill:none\" points=\"1269.51,1486.45 1269.51,47.2441 \"/>\n",
       "<polyline clip-path=\"url(#clip802)\" style=\"stroke:#000000; stroke-linecap:round; stroke-linejoin:round; stroke-width:2; stroke-opacity:0.1; fill:none\" points=\"1801.34,1486.45 1801.34,47.2441 \"/>\n",
       "<polyline clip-path=\"url(#clip802)\" style=\"stroke:#000000; stroke-linecap:round; stroke-linejoin:round; stroke-width:2; stroke-opacity:0.1; fill:none\" points=\"2333.17,1486.45 2333.17,47.2441 \"/>\n",
       "<polyline clip-path=\"url(#clip802)\" style=\"stroke:#000000; stroke-linecap:round; stroke-linejoin:round; stroke-width:2; stroke-opacity:0.1; fill:none\" points=\"186.274,1445.72 2352.76,1445.72 \"/>\n",
       "<polyline clip-path=\"url(#clip802)\" style=\"stroke:#000000; stroke-linecap:round; stroke-linejoin:round; stroke-width:2; stroke-opacity:0.1; fill:none\" points=\"186.274,1106.28 2352.76,1106.28 \"/>\n",
       "<polyline clip-path=\"url(#clip802)\" style=\"stroke:#000000; stroke-linecap:round; stroke-linejoin:round; stroke-width:2; stroke-opacity:0.1; fill:none\" points=\"186.274,766.846 2352.76,766.846 \"/>\n",
       "<polyline clip-path=\"url(#clip802)\" style=\"stroke:#000000; stroke-linecap:round; stroke-linejoin:round; stroke-width:2; stroke-opacity:0.1; fill:none\" points=\"186.274,427.411 2352.76,427.411 \"/>\n",
       "<polyline clip-path=\"url(#clip802)\" style=\"stroke:#000000; stroke-linecap:round; stroke-linejoin:round; stroke-width:2; stroke-opacity:0.1; fill:none\" points=\"186.274,87.9763 2352.76,87.9763 \"/>\n",
       "<polyline clip-path=\"url(#clip800)\" style=\"stroke:#000000; stroke-linecap:round; stroke-linejoin:round; stroke-width:4; stroke-opacity:1; fill:none\" points=\"186.274,1486.45 2352.76,1486.45 \"/>\n",
       "<polyline clip-path=\"url(#clip800)\" style=\"stroke:#000000; stroke-linecap:round; stroke-linejoin:round; stroke-width:4; stroke-opacity:1; fill:none\" points=\"205.861,1486.45 205.861,1467.55 \"/>\n",
       "<polyline clip-path=\"url(#clip800)\" style=\"stroke:#000000; stroke-linecap:round; stroke-linejoin:round; stroke-width:4; stroke-opacity:1; fill:none\" points=\"737.688,1486.45 737.688,1467.55 \"/>\n",
       "<polyline clip-path=\"url(#clip800)\" style=\"stroke:#000000; stroke-linecap:round; stroke-linejoin:round; stroke-width:4; stroke-opacity:1; fill:none\" points=\"1269.51,1486.45 1269.51,1467.55 \"/>\n",
       "<polyline clip-path=\"url(#clip800)\" style=\"stroke:#000000; stroke-linecap:round; stroke-linejoin:round; stroke-width:4; stroke-opacity:1; fill:none\" points=\"1801.34,1486.45 1801.34,1467.55 \"/>\n",
       "<polyline clip-path=\"url(#clip800)\" style=\"stroke:#000000; stroke-linecap:round; stroke-linejoin:round; stroke-width:4; stroke-opacity:1; fill:none\" points=\"2333.17,1486.45 2333.17,1467.55 \"/>\n",
       "<path clip-path=\"url(#clip800)\" d=\"M173.014 1544.91 L180.653 1544.91 L180.653 1518.55 L172.343 1520.21 L172.343 1515.95 L180.607 1514.29 L185.283 1514.29 L185.283 1544.91 L192.922 1544.91 L192.922 1548.85 L173.014 1548.85 L173.014 1544.91 Z\" fill=\"#000000\" fill-rule=\"nonzero\" fill-opacity=\"1\" /><path clip-path=\"url(#clip800)\" d=\"M202.366 1542.97 L207.25 1542.97 L207.25 1548.85 L202.366 1548.85 L202.366 1542.97 Z\" fill=\"#000000\" fill-rule=\"nonzero\" fill-opacity=\"1\" /><path clip-path=\"url(#clip800)\" d=\"M227.435 1517.37 Q223.824 1517.37 221.995 1520.93 Q220.19 1524.47 220.19 1531.6 Q220.19 1538.71 221.995 1542.27 Q223.824 1545.82 227.435 1545.82 Q231.069 1545.82 232.875 1542.27 Q234.704 1538.71 234.704 1531.6 Q234.704 1524.47 232.875 1520.93 Q231.069 1517.37 227.435 1517.37 M227.435 1513.66 Q233.245 1513.66 236.301 1518.27 Q239.38 1522.85 239.38 1531.6 Q239.38 1540.33 236.301 1544.94 Q233.245 1549.52 227.435 1549.52 Q221.625 1549.52 218.546 1544.94 Q215.491 1540.33 215.491 1531.6 Q215.491 1522.85 218.546 1518.27 Q221.625 1513.66 227.435 1513.66 Z\" fill=\"#000000\" fill-rule=\"nonzero\" fill-opacity=\"1\" /><path clip-path=\"url(#clip800)\" d=\"M705.339 1544.91 L712.978 1544.91 L712.978 1518.55 L704.667 1520.21 L704.667 1515.95 L712.931 1514.29 L717.607 1514.29 L717.607 1544.91 L725.246 1544.91 L725.246 1548.85 L705.339 1548.85 L705.339 1544.91 Z\" fill=\"#000000\" fill-rule=\"nonzero\" fill-opacity=\"1\" /><path clip-path=\"url(#clip800)\" d=\"M734.69 1542.97 L739.575 1542.97 L739.575 1548.85 L734.69 1548.85 L734.69 1542.97 Z\" fill=\"#000000\" fill-rule=\"nonzero\" fill-opacity=\"1\" /><path clip-path=\"url(#clip800)\" d=\"M749.806 1514.29 L768.162 1514.29 L768.162 1518.22 L754.088 1518.22 L754.088 1526.7 Q755.107 1526.35 756.126 1526.19 Q757.144 1526 758.163 1526 Q763.95 1526 767.329 1529.17 Q770.709 1532.34 770.709 1537.76 Q770.709 1543.34 767.237 1546.44 Q763.764 1549.52 757.445 1549.52 Q755.269 1549.52 753.001 1549.15 Q750.755 1548.78 748.348 1548.04 L748.348 1543.34 Q750.431 1544.47 752.653 1545.03 Q754.876 1545.58 757.352 1545.58 Q761.357 1545.58 763.695 1543.48 Q766.033 1541.37 766.033 1537.76 Q766.033 1534.15 763.695 1532.04 Q761.357 1529.94 757.352 1529.94 Q755.477 1529.94 753.602 1530.35 Q751.751 1530.77 749.806 1531.65 L749.806 1514.29 Z\" fill=\"#000000\" fill-rule=\"nonzero\" fill-opacity=\"1\" /><path clip-path=\"url(#clip800)\" d=\"M1240.75 1544.91 L1257.07 1544.91 L1257.07 1548.85 L1235.13 1548.85 L1235.13 1544.91 Q1237.79 1542.16 1242.37 1537.53 Q1246.98 1532.88 1248.16 1531.53 Q1250.41 1529.01 1251.29 1527.27 Q1252.19 1525.51 1252.19 1523.82 Q1252.19 1521.07 1250.24 1519.33 Q1248.32 1517.6 1245.22 1517.6 Q1243.02 1517.6 1240.57 1518.36 Q1238.14 1519.13 1235.36 1520.68 L1235.36 1515.95 Q1238.18 1514.82 1240.64 1514.24 Q1243.09 1513.66 1245.13 1513.66 Q1250.5 1513.66 1253.69 1516.35 Q1256.89 1519.03 1256.89 1523.52 Q1256.89 1525.65 1256.08 1527.57 Q1255.29 1529.47 1253.18 1532.07 Q1252.61 1532.74 1249.5 1535.95 Q1246.4 1539.15 1240.75 1544.91 Z\" fill=\"#000000\" fill-rule=\"nonzero\" fill-opacity=\"1\" /><path clip-path=\"url(#clip800)\" d=\"M1266.89 1542.97 L1271.77 1542.97 L1271.77 1548.85 L1266.89 1548.85 L1266.89 1542.97 Z\" fill=\"#000000\" fill-rule=\"nonzero\" fill-opacity=\"1\" /><path clip-path=\"url(#clip800)\" d=\"M1291.96 1517.37 Q1288.35 1517.37 1286.52 1520.93 Q1284.71 1524.47 1284.71 1531.6 Q1284.71 1538.71 1286.52 1542.27 Q1288.35 1545.82 1291.96 1545.82 Q1295.59 1545.82 1297.4 1542.27 Q1299.23 1538.71 1299.23 1531.6 Q1299.23 1524.47 1297.4 1520.93 Q1295.59 1517.37 1291.96 1517.37 M1291.96 1513.66 Q1297.77 1513.66 1300.82 1518.27 Q1303.9 1522.85 1303.9 1531.6 Q1303.9 1540.33 1300.82 1544.94 Q1297.77 1549.52 1291.96 1549.52 Q1286.15 1549.52 1283.07 1544.94 Q1280.01 1540.33 1280.01 1531.6 Q1280.01 1522.85 1283.07 1518.27 Q1286.15 1513.66 1291.96 1513.66 Z\" fill=\"#000000\" fill-rule=\"nonzero\" fill-opacity=\"1\" /><path clip-path=\"url(#clip800)\" d=\"M1773.08 1544.91 L1789.4 1544.91 L1789.4 1548.85 L1767.45 1548.85 L1767.45 1544.91 Q1770.12 1542.16 1774.7 1537.53 Q1779.3 1532.88 1780.49 1531.53 Q1782.73 1529.01 1783.61 1527.27 Q1784.51 1525.51 1784.51 1523.82 Q1784.51 1521.07 1782.57 1519.33 Q1780.65 1517.6 1777.55 1517.6 Q1775.35 1517.6 1772.89 1518.36 Q1770.46 1519.13 1767.68 1520.68 L1767.68 1515.95 Q1770.51 1514.82 1772.96 1514.24 Q1775.42 1513.66 1777.45 1513.66 Q1782.82 1513.66 1786.02 1516.35 Q1789.21 1519.03 1789.21 1523.52 Q1789.21 1525.65 1788.4 1527.57 Q1787.62 1529.47 1785.51 1532.07 Q1784.93 1532.74 1781.83 1535.95 Q1778.73 1539.15 1773.08 1544.91 Z\" fill=\"#000000\" fill-rule=\"nonzero\" fill-opacity=\"1\" /><path clip-path=\"url(#clip800)\" d=\"M1799.21 1542.97 L1804.1 1542.97 L1804.1 1548.85 L1799.21 1548.85 L1799.21 1542.97 Z\" fill=\"#000000\" fill-rule=\"nonzero\" fill-opacity=\"1\" /><path clip-path=\"url(#clip800)\" d=\"M1814.33 1514.29 L1832.68 1514.29 L1832.68 1518.22 L1818.61 1518.22 L1818.61 1526.7 Q1819.63 1526.35 1820.65 1526.19 Q1821.67 1526 1822.68 1526 Q1828.47 1526 1831.85 1529.17 Q1835.23 1532.34 1835.23 1537.76 Q1835.23 1543.34 1831.76 1546.44 Q1828.29 1549.52 1821.97 1549.52 Q1819.79 1549.52 1817.52 1549.15 Q1815.28 1548.78 1812.87 1548.04 L1812.87 1543.34 Q1814.95 1544.47 1817.18 1545.03 Q1819.4 1545.58 1821.87 1545.58 Q1825.88 1545.58 1828.22 1543.48 Q1830.55 1541.37 1830.55 1537.76 Q1830.55 1534.15 1828.22 1532.04 Q1825.88 1529.94 1821.87 1529.94 Q1820 1529.94 1818.12 1530.35 Q1816.27 1530.77 1814.33 1531.65 L1814.33 1514.29 Z\" fill=\"#000000\" fill-rule=\"nonzero\" fill-opacity=\"1\" /><path clip-path=\"url(#clip800)\" d=\"M2314.48 1530.21 Q2317.83 1530.93 2319.71 1533.2 Q2321.61 1535.47 2321.61 1538.8 Q2321.61 1543.92 2318.09 1546.72 Q2314.57 1549.52 2308.09 1549.52 Q2305.91 1549.52 2303.6 1549.08 Q2301.31 1548.66 2298.85 1547.81 L2298.85 1543.29 Q2300.8 1544.43 2303.11 1545.01 Q2305.43 1545.58 2307.95 1545.58 Q2312.35 1545.58 2314.64 1543.85 Q2316.95 1542.11 2316.95 1538.8 Q2316.95 1535.75 2314.8 1534.03 Q2312.67 1532.3 2308.85 1532.3 L2304.82 1532.3 L2304.82 1528.45 L2309.04 1528.45 Q2312.49 1528.45 2314.31 1527.09 Q2316.14 1525.7 2316.14 1523.11 Q2316.14 1520.45 2314.25 1519.03 Q2312.37 1517.6 2308.85 1517.6 Q2306.93 1517.6 2304.73 1518.01 Q2302.53 1518.43 2299.89 1519.31 L2299.89 1515.14 Q2302.56 1514.4 2304.87 1514.03 Q2307.21 1513.66 2309.27 1513.66 Q2314.59 1513.66 2317.69 1516.09 Q2320.8 1518.5 2320.8 1522.62 Q2320.8 1525.49 2319.15 1527.48 Q2317.51 1529.45 2314.48 1530.21 Z\" fill=\"#000000\" fill-rule=\"nonzero\" fill-opacity=\"1\" /><path clip-path=\"url(#clip800)\" d=\"M2330.47 1542.97 L2335.36 1542.97 L2335.36 1548.85 L2330.47 1548.85 L2330.47 1542.97 Z\" fill=\"#000000\" fill-rule=\"nonzero\" fill-opacity=\"1\" /><path clip-path=\"url(#clip800)\" d=\"M2355.54 1517.37 Q2351.93 1517.37 2350.1 1520.93 Q2348.3 1524.47 2348.3 1531.6 Q2348.3 1538.71 2350.1 1542.27 Q2351.93 1545.82 2355.54 1545.82 Q2359.18 1545.82 2360.98 1542.27 Q2362.81 1538.71 2362.81 1531.6 Q2362.81 1524.47 2360.98 1520.93 Q2359.18 1517.37 2355.54 1517.37 M2355.54 1513.66 Q2361.35 1513.66 2364.41 1518.27 Q2367.49 1522.85 2367.49 1531.6 Q2367.49 1540.33 2364.41 1544.94 Q2361.35 1549.52 2355.54 1549.52 Q2349.73 1549.52 2346.65 1544.94 Q2343.6 1540.33 2343.6 1531.6 Q2343.6 1522.85 2346.65 1518.27 Q2349.73 1513.66 2355.54 1513.66 Z\" fill=\"#000000\" fill-rule=\"nonzero\" fill-opacity=\"1\" /><polyline clip-path=\"url(#clip800)\" style=\"stroke:#000000; stroke-linecap:round; stroke-linejoin:round; stroke-width:4; stroke-opacity:1; fill:none\" points=\"186.274,1486.45 186.274,47.2441 \"/>\n",
       "<polyline clip-path=\"url(#clip800)\" style=\"stroke:#000000; stroke-linecap:round; stroke-linejoin:round; stroke-width:4; stroke-opacity:1; fill:none\" points=\"186.274,1445.72 205.172,1445.72 \"/>\n",
       "<polyline clip-path=\"url(#clip800)\" style=\"stroke:#000000; stroke-linecap:round; stroke-linejoin:round; stroke-width:4; stroke-opacity:1; fill:none\" points=\"186.274,1106.28 205.172,1106.28 \"/>\n",
       "<polyline clip-path=\"url(#clip800)\" style=\"stroke:#000000; stroke-linecap:round; stroke-linejoin:round; stroke-width:4; stroke-opacity:1; fill:none\" points=\"186.274,766.846 205.172,766.846 \"/>\n",
       "<polyline clip-path=\"url(#clip800)\" style=\"stroke:#000000; stroke-linecap:round; stroke-linejoin:round; stroke-width:4; stroke-opacity:1; fill:none\" points=\"186.274,427.411 205.172,427.411 \"/>\n",
       "<polyline clip-path=\"url(#clip800)\" style=\"stroke:#000000; stroke-linecap:round; stroke-linejoin:round; stroke-width:4; stroke-opacity:1; fill:none\" points=\"186.274,87.9763 205.172,87.9763 \"/>\n",
       "<path clip-path=\"url(#clip800)\" d=\"M62.9365 1431.51 Q59.3254 1431.51 57.4967 1435.08 Q55.6912 1438.62 55.6912 1445.75 Q55.6912 1452.86 57.4967 1456.42 Q59.3254 1459.96 62.9365 1459.96 Q66.5707 1459.96 68.3763 1456.42 Q70.205 1452.86 70.205 1445.75 Q70.205 1438.62 68.3763 1435.08 Q66.5707 1431.51 62.9365 1431.51 M62.9365 1427.81 Q68.7467 1427.81 71.8022 1432.42 Q74.8809 1437 74.8809 1445.75 Q74.8809 1454.48 71.8022 1459.08 Q68.7467 1463.67 62.9365 1463.67 Q57.1264 1463.67 54.0477 1459.08 Q50.9921 1454.48 50.9921 1445.75 Q50.9921 1437 54.0477 1432.42 Q57.1264 1427.81 62.9365 1427.81 Z\" fill=\"#000000\" fill-rule=\"nonzero\" fill-opacity=\"1\" /><path clip-path=\"url(#clip800)\" d=\"M83.0984 1457.12 L87.9827 1457.12 L87.9827 1463 L83.0984 1463 L83.0984 1457.12 Z\" fill=\"#000000\" fill-rule=\"nonzero\" fill-opacity=\"1\" /><path clip-path=\"url(#clip800)\" d=\"M108.168 1431.51 Q104.557 1431.51 102.728 1435.08 Q100.922 1438.62 100.922 1445.75 Q100.922 1452.86 102.728 1456.42 Q104.557 1459.96 108.168 1459.96 Q111.802 1459.96 113.608 1456.42 Q115.436 1452.86 115.436 1445.75 Q115.436 1438.62 113.608 1435.08 Q111.802 1431.51 108.168 1431.51 M108.168 1427.81 Q113.978 1427.81 117.033 1432.42 Q120.112 1437 120.112 1445.75 Q120.112 1454.48 117.033 1459.08 Q113.978 1463.67 108.168 1463.67 Q102.358 1463.67 99.2789 1459.08 Q96.2234 1454.48 96.2234 1445.75 Q96.2234 1437 99.2789 1432.42 Q102.358 1427.81 108.168 1427.81 Z\" fill=\"#000000\" fill-rule=\"nonzero\" fill-opacity=\"1\" /><path clip-path=\"url(#clip800)\" d=\"M138.33 1431.51 Q134.719 1431.51 132.89 1435.08 Q131.084 1438.62 131.084 1445.75 Q131.084 1452.86 132.89 1456.42 Q134.719 1459.96 138.33 1459.96 Q141.964 1459.96 143.769 1456.42 Q145.598 1452.86 145.598 1445.75 Q145.598 1438.62 143.769 1435.08 Q141.964 1431.51 138.33 1431.51 M138.33 1427.81 Q144.14 1427.81 147.195 1432.42 Q150.274 1437 150.274 1445.75 Q150.274 1454.48 147.195 1459.08 Q144.14 1463.67 138.33 1463.67 Q132.519 1463.67 129.441 1459.08 Q126.385 1454.48 126.385 1445.75 Q126.385 1437 129.441 1432.42 Q132.519 1427.81 138.33 1427.81 Z\" fill=\"#000000\" fill-rule=\"nonzero\" fill-opacity=\"1\" /><path clip-path=\"url(#clip800)\" d=\"M63.9319 1092.08 Q60.3208 1092.08 58.4921 1095.64 Q56.6865 1099.19 56.6865 1106.32 Q56.6865 1113.42 58.4921 1116.99 Q60.3208 1120.53 63.9319 1120.53 Q67.5661 1120.53 69.3717 1116.99 Q71.2004 1113.42 71.2004 1106.32 Q71.2004 1099.19 69.3717 1095.64 Q67.5661 1092.08 63.9319 1092.08 M63.9319 1088.38 Q69.742 1088.38 72.7976 1092.98 Q75.8763 1097.57 75.8763 1106.32 Q75.8763 1115.04 72.7976 1119.65 Q69.742 1124.23 63.9319 1124.23 Q58.1217 1124.23 55.043 1119.65 Q51.9875 1115.04 51.9875 1106.32 Q51.9875 1097.57 55.043 1092.98 Q58.1217 1088.38 63.9319 1088.38 Z\" fill=\"#000000\" fill-rule=\"nonzero\" fill-opacity=\"1\" /><path clip-path=\"url(#clip800)\" d=\"M84.0938 1117.68 L88.978 1117.68 L88.978 1123.56 L84.0938 1123.56 L84.0938 1117.68 Z\" fill=\"#000000\" fill-rule=\"nonzero\" fill-opacity=\"1\" /><path clip-path=\"url(#clip800)\" d=\"M103.191 1119.63 L119.51 1119.63 L119.51 1123.56 L97.566 1123.56 L97.566 1119.63 Q100.228 1116.87 104.811 1112.24 Q109.418 1107.59 110.598 1106.25 Q112.844 1103.72 113.723 1101.99 Q114.626 1100.23 114.626 1098.54 Q114.626 1095.78 112.682 1094.05 Q110.76 1092.31 107.658 1092.31 Q105.459 1092.31 103.006 1093.07 Q100.575 1093.84 97.7974 1095.39 L97.7974 1090.67 Q100.621 1089.53 103.075 1088.95 Q105.529 1088.38 107.566 1088.38 Q112.936 1088.38 116.131 1091.06 Q119.325 1093.75 119.325 1098.24 Q119.325 1100.37 118.515 1102.29 Q117.728 1104.19 115.621 1106.78 Q115.043 1107.45 111.941 1110.67 Q108.839 1113.86 103.191 1119.63 Z\" fill=\"#000000\" fill-rule=\"nonzero\" fill-opacity=\"1\" /><path clip-path=\"url(#clip800)\" d=\"M129.371 1089 L147.728 1089 L147.728 1092.94 L133.654 1092.94 L133.654 1101.41 Q134.672 1101.06 135.691 1100.9 Q136.709 1100.71 137.728 1100.71 Q143.515 1100.71 146.894 1103.89 Q150.274 1107.06 150.274 1112.47 Q150.274 1118.05 146.802 1121.15 Q143.33 1124.23 137.01 1124.23 Q134.834 1124.23 132.566 1123.86 Q130.32 1123.49 127.913 1122.75 L127.913 1118.05 Q129.996 1119.19 132.219 1119.74 Q134.441 1120.3 136.918 1120.3 Q140.922 1120.3 143.26 1118.19 Q145.598 1116.08 145.598 1112.47 Q145.598 1108.86 143.26 1106.76 Q140.922 1104.65 136.918 1104.65 Q135.043 1104.65 133.168 1105.07 Q131.316 1105.48 129.371 1106.36 L129.371 1089 Z\" fill=\"#000000\" fill-rule=\"nonzero\" fill-opacity=\"1\" /><path clip-path=\"url(#clip800)\" d=\"M62.9365 752.645 Q59.3254 752.645 57.4967 756.209 Q55.6912 759.751 55.6912 766.881 Q55.6912 773.987 57.4967 777.552 Q59.3254 781.094 62.9365 781.094 Q66.5707 781.094 68.3763 777.552 Q70.205 773.987 70.205 766.881 Q70.205 759.751 68.3763 756.209 Q66.5707 752.645 62.9365 752.645 M62.9365 748.941 Q68.7467 748.941 71.8022 753.547 Q74.8809 758.131 74.8809 766.881 Q74.8809 775.608 71.8022 780.214 Q68.7467 784.797 62.9365 784.797 Q57.1264 784.797 54.0477 780.214 Q50.9921 775.608 50.9921 766.881 Q50.9921 758.131 54.0477 753.547 Q57.1264 748.941 62.9365 748.941 Z\" fill=\"#000000\" fill-rule=\"nonzero\" fill-opacity=\"1\" /><path clip-path=\"url(#clip800)\" d=\"M83.0984 778.246 L87.9827 778.246 L87.9827 784.126 L83.0984 784.126 L83.0984 778.246 Z\" fill=\"#000000\" fill-rule=\"nonzero\" fill-opacity=\"1\" /><path clip-path=\"url(#clip800)\" d=\"M98.2141 749.566 L116.57 749.566 L116.57 753.501 L102.496 753.501 L102.496 761.973 Q103.515 761.626 104.534 761.464 Q105.552 761.279 106.571 761.279 Q112.358 761.279 115.737 764.45 Q119.117 767.621 119.117 773.038 Q119.117 778.617 115.645 781.719 Q112.172 784.797 105.853 784.797 Q103.677 784.797 101.409 784.427 Q99.1632 784.057 96.7558 783.316 L96.7558 778.617 Q98.8391 779.751 101.061 780.307 Q103.284 780.862 105.76 780.862 Q109.765 780.862 112.103 778.756 Q114.441 776.649 114.441 773.038 Q114.441 769.427 112.103 767.321 Q109.765 765.214 105.76 765.214 Q103.885 765.214 102.01 765.631 Q100.159 766.047 98.2141 766.927 L98.2141 749.566 Z\" fill=\"#000000\" fill-rule=\"nonzero\" fill-opacity=\"1\" /><path clip-path=\"url(#clip800)\" d=\"M138.33 752.645 Q134.719 752.645 132.89 756.209 Q131.084 759.751 131.084 766.881 Q131.084 773.987 132.89 777.552 Q134.719 781.094 138.33 781.094 Q141.964 781.094 143.769 777.552 Q145.598 773.987 145.598 766.881 Q145.598 759.751 143.769 756.209 Q141.964 752.645 138.33 752.645 M138.33 748.941 Q144.14 748.941 147.195 753.547 Q150.274 758.131 150.274 766.881 Q150.274 775.608 147.195 780.214 Q144.14 784.797 138.33 784.797 Q132.519 784.797 129.441 780.214 Q126.385 775.608 126.385 766.881 Q126.385 758.131 129.441 753.547 Q132.519 748.941 138.33 748.941 Z\" fill=\"#000000\" fill-rule=\"nonzero\" fill-opacity=\"1\" /><path clip-path=\"url(#clip800)\" d=\"M63.9319 413.21 Q60.3208 413.21 58.4921 416.775 Q56.6865 420.316 56.6865 427.446 Q56.6865 434.552 58.4921 438.117 Q60.3208 441.659 63.9319 441.659 Q67.5661 441.659 69.3717 438.117 Q71.2004 434.552 71.2004 427.446 Q71.2004 420.316 69.3717 416.775 Q67.5661 413.21 63.9319 413.21 M63.9319 409.506 Q69.742 409.506 72.7976 414.113 Q75.8763 418.696 75.8763 427.446 Q75.8763 436.173 72.7976 440.779 Q69.742 445.362 63.9319 445.362 Q58.1217 445.362 55.043 440.779 Q51.9875 436.173 51.9875 427.446 Q51.9875 418.696 55.043 414.113 Q58.1217 409.506 63.9319 409.506 Z\" fill=\"#000000\" fill-rule=\"nonzero\" fill-opacity=\"1\" /><path clip-path=\"url(#clip800)\" d=\"M84.0938 438.812 L88.978 438.812 L88.978 444.691 L84.0938 444.691 L84.0938 438.812 Z\" fill=\"#000000\" fill-rule=\"nonzero\" fill-opacity=\"1\" /><path clip-path=\"url(#clip800)\" d=\"M97.9826 410.131 L120.205 410.131 L120.205 412.122 L107.658 444.691 L102.774 444.691 L114.58 414.066 L97.9826 414.066 L97.9826 410.131 Z\" fill=\"#000000\" fill-rule=\"nonzero\" fill-opacity=\"1\" /><path clip-path=\"url(#clip800)\" d=\"M129.371 410.131 L147.728 410.131 L147.728 414.066 L133.654 414.066 L133.654 422.538 Q134.672 422.191 135.691 422.029 Q136.709 421.844 137.728 421.844 Q143.515 421.844 146.894 425.015 Q150.274 428.187 150.274 433.603 Q150.274 439.182 146.802 442.284 Q143.33 445.362 137.01 445.362 Q134.834 445.362 132.566 444.992 Q130.32 444.622 127.913 443.881 L127.913 439.182 Q129.996 440.316 132.219 440.872 Q134.441 441.427 136.918 441.427 Q140.922 441.427 143.26 439.321 Q145.598 437.214 145.598 433.603 Q145.598 429.992 143.26 427.886 Q140.922 425.779 136.918 425.779 Q135.043 425.779 133.168 426.196 Q131.316 426.613 129.371 427.492 L129.371 410.131 Z\" fill=\"#000000\" fill-rule=\"nonzero\" fill-opacity=\"1\" /><path clip-path=\"url(#clip800)\" d=\"M53.7467 101.321 L61.3856 101.321 L61.3856 74.9555 L53.0754 76.6222 L53.0754 72.3629 L61.3393 70.6963 L66.0152 70.6963 L66.0152 101.321 L73.654 101.321 L73.654 105.256 L53.7467 105.256 L53.7467 101.321 Z\" fill=\"#000000\" fill-rule=\"nonzero\" fill-opacity=\"1\" /><path clip-path=\"url(#clip800)\" d=\"M83.0984 99.3767 L87.9827 99.3767 L87.9827 105.256 L83.0984 105.256 L83.0984 99.3767 Z\" fill=\"#000000\" fill-rule=\"nonzero\" fill-opacity=\"1\" /><path clip-path=\"url(#clip800)\" d=\"M108.168 73.775 Q104.557 73.775 102.728 77.3398 Q100.922 80.8814 100.922 88.011 Q100.922 95.1174 102.728 98.6822 Q104.557 102.224 108.168 102.224 Q111.802 102.224 113.608 98.6822 Q115.436 95.1174 115.436 88.011 Q115.436 80.8814 113.608 77.3398 Q111.802 73.775 108.168 73.775 M108.168 70.0713 Q113.978 70.0713 117.033 74.6777 Q120.112 79.261 120.112 88.011 Q120.112 96.7378 117.033 101.344 Q113.978 105.928 108.168 105.928 Q102.358 105.928 99.2789 101.344 Q96.2234 96.7378 96.2234 88.011 Q96.2234 79.261 99.2789 74.6777 Q102.358 70.0713 108.168 70.0713 Z\" fill=\"#000000\" fill-rule=\"nonzero\" fill-opacity=\"1\" /><path clip-path=\"url(#clip800)\" d=\"M138.33 73.775 Q134.719 73.775 132.89 77.3398 Q131.084 80.8814 131.084 88.011 Q131.084 95.1174 132.89 98.6822 Q134.719 102.224 138.33 102.224 Q141.964 102.224 143.769 98.6822 Q145.598 95.1174 145.598 88.011 Q145.598 80.8814 143.769 77.3398 Q141.964 73.775 138.33 73.775 M138.33 70.0713 Q144.14 70.0713 147.195 74.6777 Q150.274 79.261 150.274 88.011 Q150.274 96.7378 147.195 101.344 Q144.14 105.928 138.33 105.928 Q132.519 105.928 129.441 101.344 Q126.385 96.7378 126.385 88.011 Q126.385 79.261 129.441 74.6777 Q132.519 70.0713 138.33 70.0713 Z\" fill=\"#000000\" fill-rule=\"nonzero\" fill-opacity=\"1\" /><polyline clip-path=\"url(#clip802)\" style=\"stroke:#009af9; stroke-linecap:round; stroke-linejoin:round; stroke-width:4; stroke-opacity:1; fill:none\" points=\"247.59,1445.72 257.86,1445.72 268.131,1445.72 278.401,1445.72 288.672,1445.72 298.943,1445.72 309.213,1445.72 319.484,1445.72 329.754,1445.72 340.025,1445.72 350.296,1445.72 360.566,1445.72 370.837,1445.72 381.107,1445.72 391.378,1445.72 401.649,1445.72 411.919,1445.72 422.19,1445.72 432.46,1445.72 442.731,1445.72 453.002,1445.72 463.272,1445.72 473.543,1445.72 483.813,1445.72 494.084,1445.72 504.355,1445.72 514.625,1445.72 524.896,1445.72 535.167,1445.72 545.437,1445.72 555.708,1445.72 565.978,1445.72 576.249,1445.72 586.52,1445.72 596.79,1445.72 607.061,1445.72 617.331,1445.72 627.602,1445.72 637.873,1445.72 648.143,1445.72 658.414,1445.72 668.684,1445.72 678.955,1445.72 689.226,1445.72 699.496,1445.72 709.767,1445.72 720.037,1445.72 730.308,1445.72 740.579,1445.72 750.849,1445.72 761.12,1445.72 771.39,1445.72 781.661,1445.72 791.932,1445.72 802.202,1445.72 812.473,1445.72 822.744,1445.72 833.014,1445.72 843.285,1445.72 853.555,1445.72 863.826,1445.72 874.097,1445.72 884.367,1445.72 894.638,1445.72 904.908,1445.72 915.179,1445.72 925.45,1445.72 935.72,1445.72 945.991,1445.72 956.261,1445.72 966.532,1445.72 976.803,1445.72 987.073,1445.72 997.344,1445.72 1007.61,1445.72 1017.89,1445.72 1028.16,1445.72 1038.43,1445.72 1048.7,1445.72 1058.97,1445.72 1069.24,1445.72 1079.51,1445.72 1089.78,1445.72 1100.05,1445.72 1110.32,1445.72 1120.59,1445.72 1130.86,1445.72 1141.13,1445.72 1151.4,1445.72 1161.67,1445.72 1171.94,1445.72 1182.21,1445.72 1192.49,1445.72 1202.76,1445.72 1213.03,1445.72 1223.3,1445.72 1233.57,1445.72 1243.84,1445.72 1254.11,1445.72 1264.38,1445.72 1274.65,87.9763 1284.92,87.9763 1295.19,87.9763 1305.46,87.9763 1315.73,87.9763 1326,87.9763 1336.27,87.9763 1346.54,87.9763 1356.82,87.9763 1367.09,87.9763 1377.36,87.9763 1387.63,87.9763 1397.9,87.9763 1408.17,87.9763 1418.44,87.9763 1428.71,87.9763 1438.98,87.9763 1449.25,87.9763 1459.52,87.9763 1469.79,87.9763 1480.06,87.9763 1490.33,87.9763 1500.6,87.9763 1510.87,87.9763 1521.14,87.9763 1531.42,87.9763 1541.69,87.9763 1551.96,87.9763 1562.23,87.9763 1572.5,87.9763 1582.77,87.9763 1593.04,87.9763 1603.31,87.9763 1613.58,87.9763 1623.85,87.9763 1634.12,87.9763 1644.39,87.9763 1654.66,87.9763 1664.93,87.9763 1675.2,87.9763 1685.47,87.9763 1695.75,87.9763 1706.02,87.9763 1716.29,87.9763 1726.56,87.9763 1736.83,87.9763 1747.1,87.9763 1757.37,87.9763 1767.64,87.9763 1777.91,87.9763 1788.18,87.9763 1798.45,87.9763 1808.72,87.9763 1818.99,87.9763 1829.26,87.9763 1839.53,87.9763 1849.8,87.9763 1860.07,87.9763 1870.35,87.9763 1880.62,87.9763 1890.89,87.9763 1901.16,87.9763 1911.43,87.9763 1921.7,87.9763 1931.97,87.9763 1942.24,87.9763 1952.51,87.9763 1962.78,87.9763 1973.05,87.9763 1983.32,87.9763 1993.59,87.9763 2003.86,87.9763 2014.13,87.9763 2024.4,87.9763 2034.68,87.9763 2044.95,87.9763 2055.22,87.9763 2065.49,87.9763 2075.76,87.9763 2086.03,87.9763 2096.3,87.9763 2106.57,87.9763 2116.84,87.9763 2127.11,87.9763 2137.38,87.9763 2147.65,87.9763 2157.92,87.9763 2168.19,87.9763 2178.46,87.9763 2188.73,87.9763 2199,87.9763 2209.28,87.9763 2219.55,87.9763 2229.82,87.9763 2240.09,87.9763 2250.36,87.9763 2260.63,87.9763 2270.9,87.9763 2281.17,87.9763 2291.44,87.9763 \"/>\n",
       "<path clip-path=\"url(#clip800)\" d=\"M258.49 198.898 L527.569 198.898 L527.569 95.2176 L258.49 95.2176  Z\" fill=\"#ffffff\" fill-rule=\"evenodd\" fill-opacity=\"1\"/>\n",
       "<polyline clip-path=\"url(#clip800)\" style=\"stroke:#000000; stroke-linecap:round; stroke-linejoin:round; stroke-width:4; stroke-opacity:1; fill:none\" points=\"258.49,198.898 527.569,198.898 527.569,95.2176 258.49,95.2176 258.49,198.898 \"/>\n",
       "<polyline clip-path=\"url(#clip800)\" style=\"stroke:#009af9; stroke-linecap:round; stroke-linejoin:round; stroke-width:4; stroke-opacity:1; fill:none\" points=\"282.562,147.058 426.994,147.058 \"/>\n",
       "<path clip-path=\"url(#clip800)\" d=\"M464.909 166.745 Q463.103 171.375 461.39 172.787 Q459.677 174.199 456.807 174.199 L453.404 174.199 L453.404 170.634 L455.904 170.634 Q457.663 170.634 458.636 169.8 Q459.608 168.967 460.788 165.865 L461.552 163.921 L451.066 138.412 L455.58 138.412 L463.682 158.689 L471.784 138.412 L476.298 138.412 L464.909 166.745 Z\" fill=\"#000000\" fill-rule=\"nonzero\" fill-opacity=\"1\" /><path clip-path=\"url(#clip800)\" d=\"M483.589 160.402 L491.228 160.402 L491.228 134.037 L482.918 135.703 L482.918 131.444 L491.182 129.778 L495.858 129.778 L495.858 160.402 L503.497 160.402 L503.497 164.338 L483.589 164.338 L483.589 160.402 Z\" fill=\"#000000\" fill-rule=\"nonzero\" fill-opacity=\"1\" /></svg>\n"
      ]
     },
     "metadata": {},
     "output_type": "display_data"
    }
   ],
   "source": [
    "plot(z_vals, x)"
   ]
  },
  {
   "cell_type": "code",
   "execution_count": null,
   "id": "688e18ac",
   "metadata": {},
   "outputs": [
    {
     "name": "stdout",
     "output_type": "stream",
     "text": [
      "(i, η) = (1, 100.0)\n",
      "(i, η) = (2, 0.8745055727127777)\n",
      "(i, η) = (3, 0.8039392154116598)\n",
      "(i, η) = (4, 0.7420196309352036)\n",
      "(i, η) = (5, 0.6863557675144136)\n",
      "(i, η) = (6, 0.6357303259703997)\n",
      "(i, η) = (7, 0.5893834611589739)\n",
      "(i, η) = (8, 0.5467788295507745)\n",
      "(i, η) = (9, 0.5075064367206039)\n",
      "(i, η) = (10, 0.47123561199263975)\n",
      "(i, η) = (11, 0.437689625121493)\n",
      "(i, η) = (12, 0.40663079574326844)\n",
      "(i, η) = (13, 0.37785115443597306)\n",
      "(i, η) = (14, 0.35116625055586326)\n",
      "(i, η) = (15, 0.3264108470714433)\n",
      "(i, η) = (16, 0.3034358018924195)\n",
      "(i, η) = (17, 0.28210572637031817)\n",
      "(i, η) = (18, 0.26229717151420573)\n",
      "(i, η) = (19, 0.24389718427180185)\n",
      "(i, η) = (20, 0.22680213103180336)\n",
      "(i, η) = (21, 0.21091671933263)\n",
      "(i, η) = (22, 0.1961531702695254)\n",
      "(i, η) = (23, 0.18243050812162664)\n",
      "(i, η) = (24, 0.1696739430832821)\n",
      "(i, η) = (25, 0.15781432936759643)\n",
      "(i, η) = (26, 0.1467876853816108)\n",
      "(i, η) = (27, 0.1365347658084488)\n",
      "(i, η) = (28, 0.12700067768642498)\n",
      "(i, η) = (29, 0.11813453422513476)\n",
      "(i, η) = (30, 0.10988914132451555)\n",
      "(i, η) = (31, 0.10222071268884747)\n",
      "(i, η) = (32, 0.09508861013856063)\n",
      "(i, η) = (33, 0.08845510627392628)\n",
      "(i, η) = (34, 0.08228516708270206)\n",
      "(i, η) = (35, 0.07654625243237945)\n",
      "(i, η) = (36, 0.07120813266934078)\n",
      "(i, η) = (37, 0.0662427197816271)\n",
      "(i, η) = (38, 0.06162391177082327)\n",
      "(i, η) = (39, 0.05732744904270248)\n",
      "(i, η) = (40, 0.05333078175934247)\n",
      "(i, η) = (41, 0.04961294721206855)\n",
      "(i, η) = (42, 0.0461544563734293)\n",
      "(i, η) = (43, 0.042937188873168)\n",
      "(i, η) = (44, 0.03994429571432079)\n",
      "(i, η) = (45, 0.0371601091156748)\n",
      "(i, η) = (46, 0.034570058918291124)\n",
      "(i, η) = (47, 0.032160595049376184)\n",
      "(i, η) = (48, 0.029919115578493916)\n",
      "(i, η) = (49, 0.027833899942251605)\n",
      "(i, η) = (50, 0.02589404694923303)\n",
      "(i, η) = (51, 0.02408941720909752)\n",
      "(i, η) = (52, 0.022410579658895813)\n",
      "(i, η) = (53, 0.020848761885616796)\n",
      "(i, η) = (54, 0.019395803967270808)\n",
      "(i, η) = (55, 0.018044115578533138)\n",
      "(i, η) = (56, 0.016786636122716914)\n",
      "(i, η) = (57, 0.015616797674539384)\n",
      "(i, η) = (58, 0.014528490530182125)\n",
      "(i, η) = (59, 0.01351603118014566)\n",
      "(i, η) = (60, 0.012574132530417614)\n",
      "(i, η) = (61, 0.011697876213418112)\n",
      "(i, η) = (62, 0.010882686840346878)\n",
      "(i, η) = (63, 0.010124308056859377)\n",
      "(i, η) = (64, 0.009418780275595395)\n",
      "(i, η) = (65, 0.008762419966444668)\n",
      "(i, η) = (66, 0.008151800395523878)\n",
      "(i, η) = (67, 0.007583733710731622)\n",
      "(i, η) = (68, 0.007055254279137557)\n",
      "(i, η) = (69, 0.006563603188098455)\n",
      "(i, η) = (70, 0.0061062138294118995)\n",
      "(i, η) = (71, 0.005680698489442193)\n",
      "(i, η) = (72, 0.00528483587577)\n",
      "(i, η) = (73, 0.004916559513858942)\n",
      "(i, η) = (74, 0.00457394695399671)\n",
      "(i, η) = (75, 0.004255209730544607)\n",
      "(i, η) = (76, 0.003958684022279613)\n",
      "(i, η) = (77, 0.003682821963565175)\n",
      "(i, η) = (78, 0.003426183561956009)\n",
      "(i, η) = (79, 0.0031874291792206577)\n",
      "(i, η) = (80, 0.002965312536460374)\n",
      "(i, η) = (81, 0.0027586742074419135)\n",
      "(i, η) = (82, 0.002566435565086067)\n",
      "(i, η) = (83, 0.002387593150160683)\n",
      "(i, η) = (84, 0.0022212134325343413)\n",
      "(i, η) = (85, 0.002066427937648996)\n",
      "(i, η) = (86, 0.0019224287128309925)\n",
      "(i, η) = (87, 0.0017884641089978004)\n",
      "(i, η) = (88, 0.0016638348573110306)\n",
      "(i, η) = (89, 0.001547890418606812)\n",
      "(i, η) = (90, 0.00144002558742784)\n",
      "(i, η) = (91, 0.0013396773328082645)\n",
      "(i, η) = (92, 0.0012463218592984049)\n",
      "(i, η) = (93, 0.0011594718725405073)\n",
      "(i, η) = (94, 0.0010786740358668112)\n",
      "(i, η) = (95, 0.0010035066035953832)\n",
      "(i, η) = (96, 0.0009335772196266134)\n",
      "(i, η) = (97, 0.0008685208696164182)\n",
      "(i, η) = (98, 0.0008079979752722011)\n",
      "(i, η) = (99, 0.0007516926220034748)\n",
      "(i, η) = (100, 0.0006993109099369121)\n",
      "(i, η) = (101, 0.0006505794195987846)\n",
      "(i, η) = (102, 0.0006052437849746184)\n",
      "(i, η) = (103, 0.000563067365433767)\n",
      "(i, η) = (104, 0.0005238300109198235)\n",
      "(i, η) = (105, 0.0004873269124345825)\n",
      "(i, η) = (106, 0.00045336753311175926)\n",
      "(i, η) = (107, 0.00042177461376979863)\n",
      "(i, η) = (108, 0.00039238324761470267)\n",
      "(i, η) = (109, 0.0003650400191332892)\n",
      "(i, η) = (110, 0.0003396022039368063)\n",
      "(i, η) = (111, 0.00031593702317422867)\n",
      "(i, η) = (112, 0.0002939209508241447)\n",
      "(i, η) = (113, 0.00027343906855037403)\n",
      "(i, η) = (114, 0.0002543844664586459)\n",
      "(i, η) = (115, 0.00023665768443947854)\n",
      "(i, η) = (116, 0.00022016619332987375)\n",
      "(i, η) = (117, 0.00020482391185794313)\n",
      "(i, η) = (118, 0.00019055075732410387)\n",
      "(i, η) = (119, 0.0001772722276314198)\n",
      "(i, η) = (120, 0.00016491901232029704)\n",
      "(i, η) = (121, 0.000153426630845388)\n",
      "(i, η) = (122, 0.00014273509599149747)\n",
      "(i, η) = (123, 0.00013278860076582077)\n",
      "(i, η) = (124, 0.00012353522711805454)\n",
      "(i, η) = (125, 0.0001149266747972888)\n",
      "(i, η) = (126, 0.00010691800946460717)\n",
      "(i, η) = (127, 9.946742795818864e-5)\n",
      "(i, η) = (128, 9.253604025616369e-5)\n",
      "(i, η) = (129, 8.608766631823528e-5)\n",
      "(i, η) = (130, 8.008864732289567e-5)\n",
      "(i, η) = (131, 7.450766992178615e-5)\n",
      "(i, η) = (132, 6.931560294276551e-5)\n",
      "(i, η) = (133, 6.448534522007776e-5)\n",
      "(i, η) = (134, 5.999168394055232e-5)\n",
      "(i, η) = (135, 5.5811163448993284e-5)\n",
      "(i, η) = (136, 5.192196262271409e-5)\n",
      "(i, η) = (137, 4.830378060205476e-5)\n",
      "(i, η) = (138, 4.4937731686900406e-5)\n",
      "(i, η) = (139, 4.1806245860698255e-5)\n",
      "(i, η) = (140, 3.8892977642035476e-5)\n",
      "(i, η) = (141, 3.618272053529381e-5)\n",
      "(i, η) = (142, 3.3661327691447696e-5)\n",
      "(i, η) = (143, 3.131563806846316e-5)\n",
      "(i, η) = (144, 2.9133407835502112e-5)\n",
      "(i, η) = (145, 2.710324632460015e-5)\n",
      "(i, η) = (146, 2.521455662929384e-5)\n",
      "(i, η) = (147, 2.345748022491989e-5)\n",
      "(i, η) = (148, 2.1822845752694775e-5)\n",
      "(i, η) = (149, 2.0302120759652098e-5)\n",
      "(i, η) = (150, 1.8887367531306154e-5)\n",
      "(i, η) = (151, 1.7571201269106496e-5)\n",
      "(i, η) = (152, 1.6346752147455845e-5)\n",
      "(i, η) = (153, 1.5207628763391767e-5)\n",
      "(i, η) = (154, 1.4147885167403729e-5)\n",
      "(i, η) = (155, 1.3161989770082982e-5)\n",
      "(i, η) = (156, 1.224479653672006e-5)\n",
      "(i, η) = (157, 1.1391517887204827e-5)\n",
      "(i, η) = (158, 1.059769995492843e-5)\n",
      "(i, η) = (159, 9.859199252559847e-6)\n",
      "(i, η) = (160, 9.172160957859887e-6)\n",
      "(i, η) = (161, 8.53299890479775e-6)\n",
      "(i, η) = (162, 7.938376953120496e-6)\n",
      "(i, η) = (163, 7.385191096886956e-6)\n",
      "(i, η) = (164, 6.870554059901224e-6)\n",
      "(i, η) = (165, 6.391779507453066e-6)\n",
      "(i, η) = (166, 5.946368432319105e-6)\n",
      "(i, η) = (167, 5.531995682872548e-6)\n",
      "(i, η) = (168, 5.1464985659777085e-6)\n",
      "(i, η) = (169, 4.787864824606913e-6)\n",
      "(i, η) = (170, 4.454222462868529e-6)\n",
      "(i, η) = (171, 4.143829954728062e-6)\n",
      "(i, η) = (172, 3.855067220115416e-6)\n",
      "(i, η) = (173, 3.58642682840582e-6)\n",
      "(i, η) = (174, 3.336506679829654e-6)\n",
      "(i, η) = (175, 3.104002232134917e-6)\n",
      "(i, η) = (176, 2.8876998072746574e-6)\n",
      "(i, η) = (177, 2.6864704381068805e-6)\n",
      "(i, η) = (178, 2.4992638003595857e-6)\n",
      "(i, η) = (179, 2.3251025851322993e-6)\n",
      "(i, η) = (180, 2.1630777951031632e-6)\n",
      "(i, η) = (181, 2.0123437565189306e-6)\n",
      "(i, η) = (182, 1.872113600143166e-6)\n",
      "(i, η) = (183, 1.7416553248494893e-6)\n",
      "(i, η) = (184, 1.6202880601667857e-6)\n",
      "(i, η) = (185, 1.507378314613561e-6)\n",
      "(i, η) = (186, 1.4023366361470835e-6)\n",
      "(i, η) = (187, 1.3046148978901329e-6)\n",
      "(i, η) = (188, 1.2137027312064674e-6)\n",
      "(i, η) = (189, 1.1291258772416768e-6)\n",
      "(i, η) = (190, 1.0504427621071954e-6)\n",
      "(i, η) = (191, 9.772426352583352e-7)\n",
      "(i, η) = (192, 9.091434662877873e-7)\n",
      "(i, η) = (193, 8.457897990865604e-7)\n",
      "(i, η) = (194, 7.868509612762864e-7)\n",
      "(i, η) = (195, 7.320192452198171e-7)\n",
      "(i, η) = (196, 6.81008557990026e-7)\n",
      "(i, η) = (197, 6.33552403428439e-7)\n",
      "(i, η) = (198, 5.894033137110455e-7)\n",
      "(i, η) = (199, 5.483307461418008e-7)\n",
      "(i, η) = (200, 5.101203015556166e-7)\n",
      "(i, η) = (201, 4.745726016608387e-7)\n",
      "(i, η) = (202, 4.4150198164061294e-7)\n",
      "(i, η) = (203, 4.107359359295515e-7)\n",
      "(i, η) = (204, 3.8211378239338956e-7)\n",
      "(i, η) = (205, 3.554861933707798e-7)\n",
      "(i, η) = (206, 3.3071417249175283e-7)\n",
      "(i, η) = (207, 3.0766834413498145e-7)\n",
      "(i, η) = (208, 2.862284560478656e-7)\n",
      "(i, η) = (209, 2.6628264038208727e-7)\n",
      "(i, η) = (210, 2.4772674578343867e-7)\n",
      "(i, η) = (211, 2.3046386843361688e-7)\n",
      "(i, η) = (212, 2.1440401098971051e-7)\n",
      "(i, η) = (213, 1.9946327256548102e-7)\n",
      "(i, η) = (214, 1.8556366399025137e-7)\n",
      "(i, η) = (215, 1.726326672724099e-7)\n",
      "(i, η) = (216, 1.6060279506291408e-7)\n",
      "(i, η) = (217, 1.4941116432964918e-7)\n",
      "(i, η) = (218, 1.38999453724864e-7)\n",
      "(i, η) = (219, 1.2931326409670874e-7)\n",
      "(i, η) = (220, 1.2030207585667085e-7)\n",
      "(i, η) = (221, 1.1191883686478832e-7)\n",
      "(i, η) = (222, 1.0411976347768359e-7)\n",
      "(i, η) = (223, 9.686419844001648e-8)\n",
      "(i, η) = (224, 9.01141987696974e-8)\n",
      "(i, η) = (225, 8.383460681216093e-8)\n",
      "(i, η) = (226, 7.799259549301496e-8)\n",
      "(i, η) = (227, 7.255766831804067e-8)\n",
      "(i, η) = (228, 6.750147463208123e-8)\n",
      "(i, η) = (229, 6.279766751049465e-8)\n",
      "(i, η) = (230, 5.842159112035006e-8)\n",
      "(i, η) = (231, 5.4350479672393703e-8)\n",
      "(i, η) = (232, 5.05631305713905e-8)\n",
      "(i, η) = (233, 4.703959177732031e-8)\n",
      "(i, η) = (234, 4.3761630763583526e-8)\n",
      "(i, η) = (235, 4.071208081768418e-8)\n",
      "(i, η) = (236, 3.7875082625760115e-8)\n",
      "(i, η) = (237, 3.523581426634337e-8)\n",
      "(i, η) = (238, 3.2780377523522475e-8)\n",
      "(i, η) = (239, 3.049601104976318e-8)\n",
      "(i, η) = (240, 2.837093404650659e-8)\n",
      "(i, η) = (241, 2.6393934149382403e-8)\n",
      "(i, η) = (242, 2.4554637434448523e-8)\n",
      "(i, η) = (243, 2.284353683990048e-8)\n",
      "(i, η) = (244, 2.1251736370686558e-8)\n",
      "(i, η) = (245, 1.9770794779105927e-8)\n",
      "(i, η) = (246, 1.8393080836176523e-8)\n",
      "(i, η) = (247, 1.7111347005993593e-8)\n",
      "(i, η) = (248, 1.591892839769571e-8)\n",
      "(i, η) = (249, 1.4809614867772325e-8)\n",
      "(i, η) = (250, 1.3777622598354355e-8)\n",
      "(i, η) = (251, 1.2817523042940593e-8)\n",
      "(i, η) = (252, 1.1924370824090147e-8)\n",
      "(i, η) = (253, 1.109339109461871e-8)\n",
      "(i, η) = (254, 1.0320334808966436e-8)\n",
      "(i, η) = (255, 9.601180295248923e-9)\n",
      "  0.942600 seconds (15.37 k allocations: 80.817 MiB, 2.29% gc time)\n"
     ]
    },
    {
     "data": {
      "text/plain": [
       "(V_O_1 = [86.94196176607045, 87.02159767318138, 87.10498448391486, 87.19201959354565, 87.28258199104064, 87.37653506135277, 87.47372952826018, 87.57400643871564, 87.6772000962614, 87.7831408613774  …  112.21685913863661, 112.32279990375257, 112.42599356129821, 112.52627047175383, 112.62346493866123, 112.71741800897325, 112.80798040646829, 112.89501551609904, 112.9784023268325, 113.05803823394346], V_E_1 = [100.0, 100.0, 100.0, 100.0, 100.0, 100.0, 100.0, 100.0, 100.0, 100.0  …  100.0, 100.0, 100.0, 100.0, 100.0, 100.0, 100.0, 100.0, 100.0, 100.0], x_1 = Bool[0, 0, 0, 0, 0, 0, 0, 0, 0, 0  …  1, 1, 1, 1, 1, 1, 1, 1, 1, 1])"
      ]
     },
     "metadata": {},
     "output_type": "display_data"
    }
   ],
   "source": [
    "@time value_function_iteration(V_O_0, V_E_0)\n",
    "# since the control is just 0 or 1, we can use policy iteration\n"
   ]
  },
  {
   "cell_type": "code",
   "execution_count": null,
   "id": "d47ec0dc",
   "metadata": {},
   "outputs": [],
   "source": []
  }
 ],
 "metadata": {
  "kernelspec": {
   "display_name": "Julia 1.11.2",
   "language": "julia",
   "name": "julia-1.11"
  },
  "language_info": {
   "file_extension": ".jl",
   "mimetype": "application/julia",
   "name": "julia",
   "version": "1.11.2"
  }
 },
 "nbformat": 4,
 "nbformat_minor": 5
}
