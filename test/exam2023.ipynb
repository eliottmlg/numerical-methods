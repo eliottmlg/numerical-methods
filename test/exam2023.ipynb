{
 "cells": [
  {
   "cell_type": "code",
   "execution_count": 1,
   "id": "3df566a9",
   "metadata": {},
   "outputs": [],
   "source": [
    "using LinearAlgebra"
   ]
  },
  {
   "cell_type": "code",
   "execution_count": 2,
   "id": "d2ddd9dc",
   "metadata": {},
   "outputs": [
    {
     "data": {
      "text/plain": [
       "3×3 Matrix{Float64}:\n",
       " 0.870428  0.589587  0.570376\n",
       " 0.506538  0.99412   0.22049\n",
       " 0.638107  0.768843  0.938411"
      ]
     },
     "metadata": {},
     "output_type": "display_data"
    }
   ],
   "source": [
    "M = rand(3,3)"
   ]
  },
  {
   "cell_type": "code",
   "execution_count": 5,
   "id": "68d87acf",
   "metadata": {},
   "outputs": [
    {
     "data": {
      "text/plain": [
       "3-element Vector{Float64}:\n",
       " 0.3782543523092411\n",
       " 0.4351378109647986\n",
       " 1.9895670046721172"
      ]
     },
     "metadata": {},
     "output_type": "display_data"
    }
   ],
   "source": [
    "eigenval = LinearAlgebra.eigvals(M)"
   ]
  },
  {
   "cell_type": "code",
   "execution_count": 6,
   "id": "999c13f3",
   "metadata": {},
   "outputs": [
    {
     "data": {
      "text/plain": [
       "norm2 (generic function with 1 method)"
      ]
     },
     "metadata": {},
     "output_type": "display_data"
    }
   ],
   "source": [
    "function norm2(vec)\n",
    "    N = length(vec)\n",
    "    enorm = sum( vec[i]^2 for i in 1:N)\n",
    "    return enorm\n",
    "end"
   ]
  },
  {
   "cell_type": "code",
   "execution_count": 14,
   "id": "0abce097",
   "metadata": {},
   "outputs": [
    {
     "data": {
      "text/plain": [
       "0.233056873892769"
      ]
     },
     "metadata": {},
     "output_type": "display_data"
    }
   ],
   "source": [
    "norm2(eigenval/norm2(eigenval))"
   ]
  },
  {
   "cell_type": "code",
   "execution_count": 18,
   "id": "dcc30afb",
   "metadata": {},
   "outputs": [
    {
     "data": {
      "text/plain": [
       "iteration_step (generic function with 1 method)"
      ]
     },
     "metadata": {},
     "output_type": "display_data"
    }
   ],
   "source": [
    "function iteration_step(M, u)\n",
    "    Mu = M*u\n",
    "    ratio = Mu/norm2(Mu)\n",
    "    return (; Mu, ratio)\n",
    "end"
   ]
  },
  {
   "cell_type": "code",
   "execution_count": null,
   "id": "0a02a370",
   "metadata": {},
   "outputs": [
    {
     "data": {
      "text/plain": [
       "(Mu = [1.720596794472713, 1.0628595952128475, 2.4429513315341342], ratio = [0.17106519099240217, 0.1056716368630178, 0.2428831307000656])"
      ]
     },
     "metadata": {},
     "output_type": "display_data"
    }
   ],
   "source": [
    "iteration_step(M, eigenval)"
   ]
  },
  {
   "cell_type": "code",
   "execution_count": null,
   "id": "2e125adf",
   "metadata": {},
   "outputs": [],
   "source": [
    "function power_iteration(M; N=1000)\n",
    "    vec = rand(3)\n",
    "    vec_n vec/norm2(vec)\n",
    "\n",
    "    for i in 1:N\n",
    "    \n",
    "        Mu, ratio = iteration_step(M, vec_n) \n",
    "        vec_n = ratio/norm2(ratio)\n",
    "\n",
    "    end\n",
    "    maxeig = LinearAlgebra.eigenval()\n",
    "    return\n",
    "    \n",
    "end"
   ]
  },
  {
   "cell_type": "code",
   "execution_count": 21,
   "id": "c3ed9d48",
   "metadata": {},
   "outputs": [
    {
     "data": {
      "text/plain": [
       "(α = 0.9, β = 0.9, γ = 0.1, αpi = 0.5, αy = 0.5, ρ = 0.9, σ = 0.1)"
      ]
     },
     "metadata": {},
     "output_type": "display_data"
    }
   ],
   "source": [
    "# NK\n",
    "model = (; α = 0.9, β = 0.9, γ = 0.1, αpi = 0.5, αy = 0.5, ρ = 0.9, σ = 0.1)"
   ]
  },
  {
   "cell_type": "code",
   "execution_count": null,
   "id": "7edf88e9",
   "metadata": {},
   "outputs": [
    {
     "ename": "ErrorException",
     "evalue": "syntax: invalid assignment location \"α = 0.9\" around c:\\Users\\eliot\\OneDrive\\Documents\\Desktop\\University courses\\M2\\NM\\test\\jl_notebook_cell_df34fa98e69747e1a8f8a730347b8e2f_X14sZmlsZQ==.jl:3",
     "output_type": "error",
     "traceback": [
      "syntax: invalid assignment location \"α = 0.9\" around c:\\Users\\eliot\\OneDrive\\Documents\\Desktop\\University courses\\M2\\NM\\test\\jl_notebook_cell_df34fa98e69747e1a8f8a730347b8e2f_X14sZmlsZQ==.jl:3\n",
      "\n",
      "Stacktrace:\n",
      " [1] top-level scope\n",
      "   @ c:\\Users\\eliot\\OneDrive\\Documents\\Desktop\\University courses\\M2\\NM\\test\\jl_notebook_cell_df34fa98e69747e1a8f8a730347b8e2f_X14sZmlsZQ==.jl:2"
     ]
    }
   ],
   "source": [
    "# code\n",
    "function create_matrices(parameters)\n",
    "    (; α, β, γ, αpi, αy, ρ, σ) = parameters\n",
    "\n",
    "    πdiv = 1/( 1 - γ*(1-αy-αpi) )\n",
    "    ydiv = 1/( 1 - γ*(αpi+αy-1) )\n",
    "\n",
    "    A = [α*(1-γ*αy)*πdiv β*πdiv;\n",
    "        γ*(αpi-1)*α*ydiv β*ydiv]\n",
    "\n",
    "    B = [-δ*πdiv;\n",
    "        δ*ydiv]\n",
    "\n",
    "        return A, B\n",
    "    end"
   ]
  },
  {
   "cell_type": "code",
   "execution_count": null,
   "id": "0fd3a975",
   "metadata": {},
   "outputs": [],
   "source": []
  }
 ],
 "metadata": {
  "kernelspec": {
   "display_name": "Julia 1.11.2",
   "language": "julia",
   "name": "julia-1.11"
  },
  "language_info": {
   "file_extension": ".jl",
   "mimetype": "application/julia",
   "name": "julia",
   "version": "1.11.2"
  }
 },
 "nbformat": 4,
 "nbformat_minor": 5
}
