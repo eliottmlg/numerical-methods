{
 "cells": [
  {
   "cell_type": "code",
   "execution_count": 1,
   "id": "f60bd445",
   "metadata": {},
   "outputs": [],
   "source": [
    "using ForwardDiff"
   ]
  },
  {
   "cell_type": "code",
   "execution_count": 2,
   "id": "2afeeaa7",
   "metadata": {},
   "outputs": [],
   "source": [
    "import ForwardDiff"
   ]
  },
  {
   "cell_type": "code",
   "execution_count": 3,
   "id": "34f4b744",
   "metadata": {},
   "outputs": [
    {
     "data": {
      "text/plain": [
       "f (generic function with 1 method)"
      ]
     },
     "metadata": {},
     "output_type": "display_data"
    }
   ],
   "source": [
    "# function f(x::Vector{T}) where T <: Number\n",
    "function f(x)\n",
    "    a = x[1]\n",
    "    b = x[2]\n",
    "    x1 = a+b\n",
    "    x2 = a*exp(b)\n",
    "    return [x1,x2]\n",
    "end"
   ]
  },
  {
   "cell_type": "code",
   "execution_count": 4,
   "id": "3295d792",
   "metadata": {},
   "outputs": [
    {
     "data": {
      "text/plain": [
       "2-element Vector{Float64}:\n",
       " 3.0\n",
       " 7.38905609893065"
      ]
     },
     "metadata": {},
     "output_type": "display_data"
    }
   ],
   "source": [
    "vec = [1, 2]\n",
    "f(vec)"
   ]
  },
  {
   "cell_type": "code",
   "execution_count": 5,
   "id": "e2f4ad1b",
   "metadata": {},
   "outputs": [
    {
     "data": {
      "text/plain": [
       "2×2 Matrix{Float64}:\n",
       " 1.0      1.0\n",
       " 7.38906  7.38906"
      ]
     },
     "metadata": {},
     "output_type": "display_data"
    }
   ],
   "source": [
    "ForwardDiff.jacobian(f, vec)"
   ]
  },
  {
   "cell_type": "code",
   "execution_count": 6,
   "id": "d314f697",
   "metadata": {},
   "outputs": [
    {
     "data": {
      "text/plain": [
       "(α = 0.3, β = 0.96, ρ = 0.9, γ = 4.0, δ = 0.1)"
      ]
     },
     "metadata": {},
     "output_type": "display_data"
    }
   ],
   "source": [
    "model = (α = 0.3, β = 0.96,  ρ = 0.9, γ = 4.0, δ = 0.1,)"
   ]
  },
  {
   "cell_type": "code",
   "execution_count": 7,
   "id": "17f0ab3d",
   "metadata": {},
   "outputs": [
    {
     "data": {
      "text/plain": [
       "@NamedTuple{α::Float64, β::Float64, ρ::Float64, γ::Float64, δ::Float64}"
      ]
     },
     "metadata": {},
     "output_type": "display_data"
    }
   ],
   "source": [
    "typeof(model)"
   ]
  },
  {
   "cell_type": "code",
   "execution_count": 8,
   "id": "5235eb9d",
   "metadata": {},
   "outputs": [
    {
     "data": {
      "text/plain": [
       "transition (generic function with 1 method)"
      ]
     },
     "metadata": {},
     "output_type": "display_data"
    }
   ],
   "source": [
    "function transition(z, k, i, p)\n",
    "    (; δ, ρ, α) = p\n",
    "\n",
    "    k = (1-δ)*k + i\n",
    "\n",
    "    z = ρ*z\n",
    "\n",
    "    return z, k\n",
    "end"
   ]
  },
  {
   "cell_type": "code",
   "execution_count": 9,
   "id": "9f6f077a",
   "metadata": {},
   "outputs": [
    {
     "data": {
      "text/plain": [
       "(0.9, 4.8)"
      ]
     },
     "metadata": {},
     "output_type": "display_data"
    }
   ],
   "source": [
    "transition(1, 2, 3, model)"
   ]
  },
  {
   "cell_type": "code",
   "execution_count": 10,
   "id": "dff628c4",
   "metadata": {},
   "outputs": [
    {
     "data": {
      "text/plain": [
       "arbitrage (generic function with 1 method)"
      ]
     },
     "metadata": {},
     "output_type": "display_data"
    }
   ],
   "source": [
    "function arbitrage(z, k, i, Z, K, I, p)\n",
    "    (; δ, ρ, α, γ, β) = p\n",
    "\n",
    "    c = exp(z)*k^α - i\n",
    "    C = exp(Z)*K^α - I\n",
    "\n",
    "    resid = β*( (C/c)^(-γ) * ( exp(Z) * α*K^(α-1) + (1-δ) ) ) - 1\n",
    "\n",
    "    return resid\n",
    "end"
   ]
  },
  {
   "cell_type": "code",
   "execution_count": 11,
   "id": "9cc8120c",
   "metadata": {},
   "outputs": [
    {
     "data": {
      "text/plain": [
       "-0.9999999981417501"
      ]
     },
     "metadata": {},
     "output_type": "display_data"
    }
   ],
   "source": [
    "arbitrage(1, 2, 3, 4, 5, 6, model)"
   ]
  },
  {
   "cell_type": "code",
   "execution_count": 12,
   "id": "9ec3469e",
   "metadata": {},
   "outputs": [
    {
     "data": {
      "text/plain": [
       "transition (generic function with 2 methods)"
      ]
     },
     "metadata": {},
     "output_type": "display_data"
    }
   ],
   "source": [
    "function transition(s::Vector{T},x::Vector{U},model) where T<:Number where U<:Number\n",
    "\n",
    "    res = transition(s[1], s[2], x[1], model)\n",
    "\n",
    "    return [res...]\n",
    "end"
   ]
  },
  {
   "cell_type": "code",
   "execution_count": 13,
   "id": "a0a43e31",
   "metadata": {},
   "outputs": [
    {
     "data": {
      "text/plain": [
       "2-element Vector{Float64}:\n",
       " 0.9\n",
       " 2.8"
      ]
     },
     "metadata": {},
     "output_type": "display_data"
    }
   ],
   "source": [
    "svec = [1, 2]\n",
    "xvec = [1]\n",
    "transition(svec, xvec, model)"
   ]
  },
  {
   "cell_type": "code",
   "execution_count": 14,
   "id": "7d6931e1",
   "metadata": {},
   "outputs": [
    {
     "data": {
      "text/plain": [
       "arbitrage (generic function with 2 methods)"
      ]
     },
     "metadata": {},
     "output_type": "display_data"
    }
   ],
   "source": [
    "function arbitrage(s::Vector{}, x::Vector{}, S::Vector{}, X::Vector{}, p)\n",
    "\n",
    "    resid = arbitrage(s[1], s[2], x[1], S[1], S[2], X[1], p)\n",
    "    \n",
    "    return [resid]\n",
    "end "
   ]
  },
  {
   "cell_type": "code",
   "execution_count": 15,
   "id": "924ad18c",
   "metadata": {},
   "outputs": [
    {
     "data": {
      "text/plain": [
       "1-element Vector{Float64}:\n",
       " 0.34591003812862753"
      ]
     },
     "metadata": {},
     "output_type": "display_data"
    }
   ],
   "source": [
    "arbitrage(svec, xvec, svec, xvec, model)"
   ]
  },
  {
   "cell_type": "code",
   "execution_count": 16,
   "id": "d5fea592",
   "metadata": {},
   "outputs": [
    {
     "data": {
      "text/plain": [
       "steady_state (generic function with 1 method)"
      ]
     },
     "metadata": {},
     "output_type": "display_data"
    }
   ],
   "source": [
    "function steady_state(p)\n",
    "\n",
    "    (; δ, ρ, α, γ, β) = p\n",
    "\n",
    "    kss = ( (1/β - (1-δ)) / α )^(1/(α-1))\n",
    "    iss = δ*kss\n",
    "    zss = 0.0\n",
    "    css = kss^α - iss\n",
    "\n",
    "    return (;\n",
    "    s = [zss, kss], \n",
    "    x = [iss],\n",
    "    )\n",
    "    \n",
    "end"
   ]
  },
  {
   "cell_type": "code",
   "execution_count": 17,
   "id": "b3c7e9b7",
   "metadata": {},
   "outputs": [
    {
     "data": {
      "text/plain": [
       "(s = [0.0, 2.920822149964071], x = [0.29208221499640713])"
      ]
     },
     "metadata": {},
     "output_type": "display_data"
    }
   ],
   "source": [
    "ss = steady_state(model)"
   ]
  },
  {
   "cell_type": "code",
   "execution_count": 18,
   "id": "48a428c0",
   "metadata": {},
   "outputs": [
    {
     "data": {
      "text/plain": [
       "1-element Vector{Float64}:\n",
       " 0.0"
      ]
     },
     "metadata": {},
     "output_type": "display_data"
    }
   ],
   "source": [
    "r1 = arbitrage(ss.s, ss.x, ss.s, ss.x, model)"
   ]
  },
  {
   "cell_type": "code",
   "execution_count": 19,
   "id": "af17c58e",
   "metadata": {},
   "outputs": [
    {
     "data": {
      "text/plain": [
       "2-element Vector{Float64}:\n",
       " 0.0\n",
       " 0.0"
      ]
     },
     "metadata": {},
     "output_type": "display_data"
    }
   ],
   "source": [
    "r2 = transition(ss.s, ss.x, model) - ss.s"
   ]
  },
  {
   "cell_type": "code",
   "execution_count": 20,
   "id": "2a26b03b",
   "metadata": {},
   "outputs": [
    {
     "data": {
      "text/plain": [
       "0.0"
      ]
     },
     "metadata": {},
     "output_type": "display_data"
    }
   ],
   "source": [
    "maximum(abs, [r1; r2]) "
   ]
  },
  {
   "cell_type": "code",
   "execution_count": 21,
   "id": "ec201934",
   "metadata": {},
   "outputs": [],
   "source": [
    "import ForwardDiff: jacobian"
   ]
  },
  {
   "cell_type": "code",
   "execution_count": 22,
   "id": "eac82713",
   "metadata": {},
   "outputs": [
    {
     "data": {
      "text/plain": [
       "1×1 Matrix{Float64}:\n",
       " 3.679193085018409"
      ]
     },
     "metadata": {},
     "output_type": "display_data"
    }
   ],
   "source": [
    "A = jacobian(u->arbitrage(u, ss.x, ss.s, ss.x, model), ss.s)\n",
    "B = jacobian(u->arbitrage(ss.s, u, ss.s, ss.x, model), ss.x)\n",
    "C = jacobian(u->arbitrage(ss.s, ss.x, u, ss.x, model), ss.s)\n",
    "D = jacobian(u->arbitrage(ss.s, ss.x, ss.s, u, model), ss.x)"
   ]
  },
  {
   "cell_type": "code",
   "execution_count": 23,
   "id": "ddc8b270",
   "metadata": {},
   "outputs": [
    {
     "data": {
      "text/plain": [
       "2×1 Matrix{Float64}:\n",
       " 0.0\n",
       " 1.0"
      ]
     },
     "metadata": {},
     "output_type": "display_data"
    }
   ],
   "source": [
    "E = jacobian(u->transition(u, ss.x, model), ss.s)\n",
    "F = jacobian(u->transition(ss.s, u, model), ss.x)"
   ]
  },
  {
   "cell_type": "code",
   "execution_count": 26,
   "id": "2c760606",
   "metadata": {},
   "outputs": [
    {
     "data": {
      "text/plain": [
       "first_order_model (generic function with 1 method)"
      ]
     },
     "metadata": {},
     "output_type": "display_data"
    }
   ],
   "source": [
    "function first_order_model(s::Vector, x::Vector, model)\n",
    "    \n",
    "    (; δ, ρ, α, γ, β) = model\n",
    "\n",
    "    A = jacobian(u->arbitrage(u, ss.x, ss.s, ss.x, model), ss.s)\n",
    "    B = jacobian(u->arbitrage(ss.s, u, ss.s, ss.x, model), ss.x)\n",
    "    C = jacobian(u->arbitrage(ss.s, ss.x, u, ss.x, model), ss.s)\n",
    "    D = jacobian(u->arbitrage(ss.s, ss.x, ss.s, u, model), ss.x)\n",
    "    E = jacobian(u->transition(u, ss.x, model), ss.s)\n",
    "    F = jacobian(u->transition(ss.s, u, model), ss.x)\n",
    "\n",
    "    return (; A, B, C, D, E, F)\n",
    "end"
   ]
  },
  {
   "cell_type": "code",
   "execution_count": 27,
   "id": "05b4c084",
   "metadata": {},
   "outputs": [
    {
     "data": {
      "text/plain": [
       "(A = [5.074626865671641 0.5212190203776083], B = [-3.679193085018409;;], C = [-4.938626865671641 -0.5538125831185546], D = [3.679193085018409;;], E = [0.9 0.0; 0.0 0.9], F = [0.0; 1.0;;])"
      ]
     },
     "metadata": {},
     "output_type": "display_data"
    }
   ],
   "source": [
    "fo = first_order_model(ss.s, ss.x, model)"
   ]
  },
  {
   "cell_type": "code",
   "execution_count": 61,
   "id": "a007db99",
   "metadata": {},
   "outputs": [
    {
     "data": {
      "text/plain": [
       "residual (generic function with 1 method)"
      ]
     },
     "metadata": {},
     "output_type": "display_data"
    }
   ],
   "source": [
    "function residual(X, M)\n",
    "\n",
    "    (; A, B, C, D, E, F) = M\n",
    "\n",
    "    resid = (A+B*X) + (C+D*X) * (E+F*X) \n",
    "\n",
    "    return resid\n",
    "end"
   ]
  },
  {
   "cell_type": "code",
   "execution_count": 66,
   "id": "810fb87a",
   "metadata": {},
   "outputs": [
    {
     "data": {
      "text/plain": [
       "1×2 Matrix{Float64}:\n",
       " 1.0  2.0"
      ]
     },
     "metadata": {},
     "output_type": "display_data"
    }
   ],
   "source": [
    "# x = Xs \n",
    "# dim of X: nx,ns\n",
    "X0 = [1.0 2.0]"
   ]
  },
  {
   "cell_type": "code",
   "execution_count": null,
   "id": "bec91ea9",
   "metadata": {},
   "outputs": [
    {
     "data": {
      "text/plain": [
       "0.14149778291769888"
      ]
     },
     "metadata": {},
     "output_type": "display_data"
    }
   ],
   "source": [
    "residual(X0, fo)"
   ]
  },
  {
   "cell_type": "code",
   "execution_count": 103,
   "id": "0a2beaa7",
   "metadata": {},
   "outputs": [
    {
     "data": {
      "text/plain": [
       "T (generic function with 1 method)"
      ]
     },
     "metadata": {},
     "output_type": "display_data"
    }
   ],
   "source": [
    "function T(X, M)\n",
    "    \n",
    "    (; A, B, C, D, E, F) = M\n",
    "\n",
    "    # X is decision rule tmr, Xtilde in F(X, Xtilde)\n",
    "    Xprime = - inv(B + (C+D*X) * F) * (A + (C+D*X) * E)\n",
    "    \n",
    "    return Xprime # decision rule today\n",
    "end"
   ]
  },
  {
   "cell_type": "code",
   "execution_count": 104,
   "id": "1df38dfd",
   "metadata": {},
   "outputs": [
    {
     "data": {
      "text/plain": [
       "1×2 Matrix{Float64}:\n",
       " 0.435186  0.195785"
      ]
     },
     "metadata": {},
     "output_type": "display_data"
    }
   ],
   "source": [
    "T(X0,fo)"
   ]
  },
  {
   "cell_type": "code",
   "execution_count": 112,
   "id": "23fd60af",
   "metadata": {},
   "outputs": [
    {
     "data": {
      "text/plain": [
       "linear_time_iteration (generic function with 1 method)"
      ]
     },
     "metadata": {},
     "output_type": "display_data"
    }
   ],
   "source": [
    "function linear_time_iteration(X, M; N=1000, τ_ϵ=1e-8, τ_η=1e-8)\n",
    "     \n",
    "    global Xstar = X\n",
    "\n",
    "    η = []\n",
    "    ϵ = []\n",
    "    for n in 1:N\n",
    "\n",
    "        Xprime = T(X,M)\n",
    "        push!(η, maximum(abs, Xprime - X))\n",
    "        push!(ϵ, maximum(abs, residual(Xprime,M)))\n",
    "\n",
    "        if ϵ[end] < τ_ϵ || η[end] < τ_η\n",
    "            Xstar = Xprime\n",
    "            break\n",
    "        end\n",
    "        X = Xprime\n",
    "    end\n",
    "\n",
    "    return (; Xstar, η, ϵ)\n",
    "end"
   ]
  },
  {
   "cell_type": "code",
   "execution_count": 113,
   "id": "ef18d920",
   "metadata": {},
   "outputs": [
    {
     "data": {
      "text/plain": [
       "1×2 Matrix{Float64}:\n",
       " 0.486798  0.23388"
      ]
     },
     "metadata": {},
     "output_type": "display_data"
    }
   ],
   "source": [
    "X0 = rand(1,2)"
   ]
  },
  {
   "cell_type": "code",
   "execution_count": 116,
   "id": "d7a5ae24",
   "metadata": {},
   "outputs": [
    {
     "data": {
      "text/plain": [
       "(Xstar = [0.7686740081802743 0.027809726836878046], η = Any[0.17792368810589188, 0.17699745129099786, 0.17774002848330372, 0.18073228045853607, 0.18683690672652964, 0.19737854704434343, 0.21447584190895608, 0.2416923085045546, 0.2854116549625121, 0.35803326375120204  …  4.833978828333585e-8, 4.001382314378077e-8, 3.312018559409324e-8, 2.7412814462834945e-8, 2.2687851264358017e-8, 1.8776414867360813e-8, 1.553861195269235e-8, 1.2858569209406312e-8, 1.0640317293919566e-8, 8.80437689421143e-9], ϵ = Any[0.595292209777551, 0.5957493722238905, 0.6031837683135651, 0.6201760880722499, 0.6506205027480366, 0.7006112351387634, 0.7801211388292124, 0.9063976592010436, 1.1114210768951507, 1.4600950814254325  …  1.6528463264720017e-7, 1.3680916399749776e-7, 1.1323379256467092e-7, 9.371644216216168e-8, 7.755951747512313e-8, 6.4185162518271e-8, 5.3114741493942574e-8, 4.395183461625152e-8, 3.6368136502318293e-8, 3.0091773517426645e-8])"
      ]
     },
     "metadata": {},
     "output_type": "display_data"
    }
   ],
   "source": [
    "results = linear_time_iteration(X0, fo)"
   ]
  },
  {
   "cell_type": "code",
   "execution_count": 118,
   "id": "9004075c",
   "metadata": {},
   "outputs": [
    {
     "data": {
      "text/plain": [
       "113-element Vector{Any}:\n",
       " 0.595292209777551\n",
       " 0.5957493722238905\n",
       " 0.6031837683135651\n",
       " 0.6201760880722499\n",
       " 0.6506205027480366\n",
       " 0.7006112351387634\n",
       " 0.7801211388292124\n",
       " 0.9063976592010436\n",
       " 1.1114210768951507\n",
       " 1.4600950814254325\n",
       " ⋮\n",
       " 1.3680916399749776e-7\n",
       " 1.1323379256467092e-7\n",
       " 9.371644216216168e-8\n",
       " 7.755951747512313e-8\n",
       " 6.4185162518271e-8\n",
       " 5.3114741493942574e-8\n",
       " 4.395183461625152e-8\n",
       " 3.6368136502318293e-8\n",
       " 3.0091773517426645e-8"
      ]
     },
     "metadata": {},
     "output_type": "display_data"
    }
   ],
   "source": [
    "results.ϵ"
   ]
  },
  {
   "cell_type": "code",
   "execution_count": 120,
   "id": "e9f74253",
   "metadata": {},
   "outputs": [
    {
     "data": {
      "text/plain": [
       "1×2 Matrix{Float64}:\n",
       " 3.00918e-8  1.13228e-9"
      ]
     },
     "metadata": {},
     "output_type": "display_data"
    }
   ],
   "source": [
    "residual(results.Xstar, fo)"
   ]
  },
  {
   "cell_type": "code",
   "execution_count": null,
   "id": "b9e5a2f8",
   "metadata": {},
   "outputs": [],
   "source": []
  }
 ],
 "metadata": {
  "kernelspec": {
   "display_name": "Julia 1.11.2",
   "language": "julia",
   "name": "julia-1.11"
  },
  "language_info": {
   "file_extension": ".jl",
   "mimetype": "application/julia",
   "name": "julia",
   "version": "1.11.2"
  }
 },
 "nbformat": 4,
 "nbformat_minor": 5
}
