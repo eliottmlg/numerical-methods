{
 "cells": [
  {
   "cell_type": "code",
   "execution_count": 1,
   "id": "6472bbfa",
   "metadata": {},
   "outputs": [
    {
     "data": {
      "text/plain": [
       "2×2 Matrix{Float64}:\n",
       " 0.877  0.123\n",
       " 0.345  0.655"
      ]
     },
     "metadata": {},
     "output_type": "display_data"
    }
   ],
   "source": [
    "α = 0.123\n",
    "β = 0.345\n",
    "P = [1-α α ; β 1-β]"
   ]
  },
  {
   "cell_type": "code",
   "execution_count": 2,
   "id": "e972260e",
   "metadata": {},
   "outputs": [
    {
     "data": {
      "text/plain": [
       "2-element Vector{Float64}:\n",
       " 0.5\n",
       " 0.5"
      ]
     },
     "metadata": {},
     "output_type": "display_data"
    }
   ],
   "source": [
    "N=1000\n",
    "μ = [0.5; 0.5]"
   ]
  },
  {
   "cell_type": "code",
   "execution_count": 6,
   "id": "d4a6f427",
   "metadata": {},
   "outputs": [
    {
     "data": {
      "text/plain": [
       "2-element Vector{Float64}:\n",
       " 0.611\n",
       " 0.389"
      ]
     },
     "metadata": {},
     "output_type": "display_data"
    }
   ],
   "source": [
    "(μ' * P)'"
   ]
  },
  {
   "cell_type": "code",
   "execution_count": 9,
   "id": "0a7ffcd6",
   "metadata": {},
   "outputs": [],
   "source": [
    "for n in 1:N\n",
    "    μprime = (μ' * P)'\n",
    "    η = maximum(abs, μprime-μ)\n",
    "       if η < 1e-8\n",
    "            break\n",
    "       end\n",
    "    μ = μprime \n",
    "end"
   ]
  },
  {
   "cell_type": "code",
   "execution_count": 10,
   "id": "7550a005",
   "metadata": {},
   "outputs": [
    {
     "data": {
      "text/plain": [
       "2-element Vector{Float64}:\n",
       " 0.7371794694465953\n",
       " 0.2628205305534047"
      ]
     },
     "metadata": {},
     "output_type": "display_data"
    }
   ],
   "source": [
    "μ"
   ]
  },
  {
   "cell_type": "code",
   "execution_count": 11,
   "id": "1fcf6ec1",
   "metadata": {},
   "outputs": [],
   "source": [
    "using LinearAlgebra: I"
   ]
  },
  {
   "cell_type": "code",
   "execution_count": 12,
   "id": "0e47d81e",
   "metadata": {},
   "outputs": [
    {
     "data": {
      "text/plain": [
       "2×2 Matrix{Float64}:\n",
       " -0.123   0.345\n",
       "  0.123  -0.345"
      ]
     },
     "metadata": {},
     "output_type": "display_data"
    }
   ],
   "source": [
    "M = P' - I"
   ]
  },
  {
   "cell_type": "code",
   "execution_count": 15,
   "id": "404b73d7",
   "metadata": {},
   "outputs": [
    {
     "data": {
      "text/plain": [
       "2×2 Matrix{Float64}:\n",
       " -0.123   0.345\n",
       "  0.123  -0.345"
      ]
     },
     "metadata": {},
     "output_type": "display_data"
    }
   ],
   "source": [
    "M = cat( P' - I; dims=1)"
   ]
  },
  {
   "cell_type": "code",
   "execution_count": 16,
   "id": "36cee8c4",
   "metadata": {},
   "outputs": [
    {
     "data": {
      "text/plain": [
       "2×2 Matrix{Float64}:\n",
       " -0.123  0.345\n",
       "  1.0    1.0"
      ]
     },
     "metadata": {},
     "output_type": "display_data"
    }
   ],
   "source": [
    "M[end,:] .= 1.0\n",
    "M"
   ]
  },
  {
   "cell_type": "code",
   "execution_count": 19,
   "id": "0dbf3b32",
   "metadata": {},
   "outputs": [
    {
     "data": {
      "text/plain": [
       "2-element Vector{Float64}:\n",
       " 0.0\n",
       " 1.0"
      ]
     },
     "metadata": {},
     "output_type": "display_data"
    }
   ],
   "source": [
    "D = zeros(2)\n",
    "D[end] = 1.0\n",
    "D"
   ]
  },
  {
   "cell_type": "code",
   "execution_count": 20,
   "id": "76ee98da",
   "metadata": {},
   "outputs": [
    {
     "data": {
      "text/plain": [
       "2-element Vector{Float64}:\n",
       " 0.7371794871794872\n",
       " 0.26282051282051283"
      ]
     },
     "metadata": {},
     "output_type": "display_data"
    }
   ],
   "source": [
    "M\\D"
   ]
  },
  {
   "cell_type": "code",
   "execution_count": 59,
   "id": "ffbadd70",
   "metadata": {},
   "outputs": [
    {
     "data": {
      "text/plain": [
       "2-element Vector{Float64}:\n",
       " 0.5\n",
       " 0.5"
      ]
     },
     "metadata": {},
     "output_type": "display_data"
    }
   ],
   "source": [
    "ones(size(P,1))/size(P,1)"
   ]
  },
  {
   "cell_type": "code",
   "execution_count": 71,
   "id": "55fba532",
   "metadata": {},
   "outputs": [
    {
     "data": {
      "text/plain": [
       "forecast (generic function with 2 methods)"
      ]
     },
     "metadata": {},
     "output_type": "display_data"
    }
   ],
   "source": [
    "function forecast(P::Matrix; T=100, μ0=ones(size(P,1))/size(P,1))\n",
    "    sim = [μ0']\n",
    "    μ = μ0\n",
    "\n",
    "    for t in 1:T\n",
    "\n",
    "        μprime = μ' * P\n",
    "        push!(sim, μprime)\n",
    "        μ = μprime'\n",
    "        \n",
    "    end\n",
    "    return sim\n",
    "end"
   ]
  },
  {
   "cell_type": "code",
   "execution_count": 72,
   "id": "8864f47a",
   "metadata": {},
   "outputs": [
    {
     "data": {
      "text/plain": [
       "101-element Vector{LinearAlgebra.Adjoint{Float64, Vector{Float64}}}:\n",
       " [0.5 0.5]\n",
       " [0.5 0.5]\n",
       " [0.5 0.5]\n",
       " [0.5 0.5]\n",
       " [0.5 0.5]\n",
       " [0.5 0.5]\n",
       " [0.5 0.5]\n",
       " [0.5 0.5]\n",
       " [0.5 0.5]\n",
       " [0.5 0.5]\n",
       " ⋮\n",
       " [0.5 0.5]\n",
       " [0.5 0.5]\n",
       " [0.5 0.5]\n",
       " [0.5 0.5]\n",
       " [0.5 0.5]\n",
       " [0.5 0.5]\n",
       " [0.5 0.5]\n",
       " [0.5 0.5]\n",
       " [0.5 0.5]"
      ]
     },
     "metadata": {},
     "output_type": "display_data"
    }
   ],
   "source": [
    "X = forecast(P)"
   ]
  },
  {
   "cell_type": "code",
   "execution_count": 123,
   "id": "bdcc0cfa",
   "metadata": {},
   "outputs": [
    {
     "data": {
      "text/plain": [
       "2-element Vector{Float64}:\n",
       " 0.0\n",
       " 1.0"
      ]
     },
     "metadata": {},
     "output_type": "display_data"
    }
   ],
   "source": [
    "α = 0.1\n",
    "β = 0.1\n",
    "P = [1-α α ; β 1-β]\n",
    "T = 100\n",
    "μ0 = [0.0; 1.0]"
   ]
  },
  {
   "cell_type": "code",
   "execution_count": 124,
   "id": "d3b66ff1",
   "metadata": {},
   "outputs": [
    {
     "data": {
      "text/plain": [
       "forecast (generic function with 2 methods)"
      ]
     },
     "metadata": {},
     "output_type": "display_data"
    }
   ],
   "source": [
    "function forecast(P::Matrix; T=100, μ0=μ0)\n",
    "    sim = [μ0']\n",
    "    μ = μ0\n",
    "\n",
    "    for t in 1:T\n",
    "\n",
    "        μprime = μ' * P\n",
    "        push!(sim, μprime)\n",
    "        μ = μprime'\n",
    "        \n",
    "    end\n",
    "    return sim\n",
    "end"
   ]
  },
  {
   "cell_type": "code",
   "execution_count": 125,
   "id": "706a2fac",
   "metadata": {},
   "outputs": [],
   "source": [
    "using Plots"
   ]
  },
  {
   "cell_type": "code",
   "execution_count": 126,
   "id": "7a7bf281",
   "metadata": {},
   "outputs": [
    {
     "data": {
      "text/plain": [
       "101-element Vector{LinearAlgebra.Adjoint{Float64, Vector{Float64}}}:\n",
       " [0.0 1.0]\n",
       " [0.1 0.9]\n",
       " [0.18000000000000002 0.8200000000000001]\n",
       " [0.24400000000000005 0.7560000000000001]\n",
       " [0.2952000000000001 0.7048000000000001]\n",
       " [0.33616000000000007 0.6638400000000001]\n",
       " [0.3689280000000001 0.6310720000000001]\n",
       " [0.3951424000000001 0.6048576000000001]\n",
       " [0.41611392000000014 0.5838860800000002]\n",
       " [0.4328911360000002 0.5671088640000002]\n",
       " ⋮\n",
       " [0.49999999939291656 0.5000000006070845]\n",
       " [0.4999999995143334 0.5000000004856677]\n",
       " [0.49999999961146685 0.5000000003885343]\n",
       " [0.49999999968917364 0.5000000003108276]\n",
       " [0.499999999751339 0.5000000002486622]\n",
       " [0.49999999980107135 0.5000000001989299]\n",
       " [0.4999999998408572 0.500000000159144]\n",
       " [0.4999999998726859 0.5000000001273154]\n",
       " [0.49999999989814886 0.5000000001018524]"
      ]
     },
     "metadata": {},
     "output_type": "display_data"
    }
   ],
   "source": [
    "sim = forecast(P)\n"
   ]
  },
  {
   "cell_type": "code",
   "execution_count": 127,
   "id": "c24e2055",
   "metadata": {},
   "outputs": [
    {
     "data": {
      "text/plain": [
       "101-element Vector{Float64}:\n",
       " 1.0\n",
       " 0.9\n",
       " 0.8200000000000001\n",
       " 0.7560000000000001\n",
       " 0.7048000000000001\n",
       " 0.6638400000000001\n",
       " 0.6310720000000001\n",
       " 0.6048576000000001\n",
       " 0.5838860800000002\n",
       " 0.5671088640000002\n",
       " ⋮\n",
       " 0.5000000006070845\n",
       " 0.5000000004856677\n",
       " 0.5000000003885343\n",
       " 0.5000000003108276\n",
       " 0.5000000002486622\n",
       " 0.5000000001989299\n",
       " 0.500000000159144\n",
       " 0.5000000001273154\n",
       " 0.5000000001018524"
      ]
     },
     "metadata": {},
     "output_type": "display_data"
    }
   ],
   "source": [
    "second_col = [row[2] for row in sim]"
   ]
  },
  {
   "cell_type": "code",
   "execution_count": 128,
   "id": "b8d71e75",
   "metadata": {},
   "outputs": [
    {
     "data": {
      "text/plain": [
       "0:100"
      ]
     },
     "metadata": {},
     "output_type": "display_data"
    }
   ],
   "source": [
    "xvec = 0:T"
   ]
  },
  {
   "cell_type": "code",
   "execution_count": 129,
   "id": "34b8f85f",
   "metadata": {},
   "outputs": [
    {
     "data": {
      "image/png": "[encoded data removed]",
      "image/svg+xml": [
       "<?xml version=\"1.0\" encoding=\"utf-8\"?>\n",
       "<svg xmlns=\"http://www.w3.org/2000/svg\" xmlns:xlink=\"http://www.w3.org/1999/xlink\" width=\"600\" height=\"400\" viewBox=\"0 0 2400 1600\">\n",
       "<defs>\n",
       "  <clipPath id=\"clip630\">\n",
       "    <rect x=\"0\" y=\"0\" width=\"2400\" height=\"1600\"/>\n",
       "  </clipPath>\n",
       "</defs>\n",
       "<path clip-path=\"url(#clip630)\" d=\"M0 1600 L2400 1600 L2400 0 L0 0  Z\" fill=\"#ffffff\" fill-rule=\"evenodd\" fill-opacity=\"1\"/>\n",
       "<defs>\n",
       "  <clipPath id=\"clip631\">\n",
       "    <rect x=\"480\" y=\"0\" width=\"1681\" height=\"1600\"/>\n",
       "  </clipPath>\n",
       "</defs>\n",
       "<path clip-path=\"url(#clip630)\" d=\"M156.274 1486.45 L2352.76 1486.45 L2352.76 47.2441 L156.274 47.2441  Z\" fill=\"#ffffff\" fill-rule=\"evenodd\" fill-opacity=\"1\"/>\n",
       "<defs>\n",
       "  <clipPath id=\"clip632\">\n",
       "    <rect x=\"156\" y=\"47\" width=\"2197\" height=\"1440\"/>\n",
       "  </clipPath>\n",
       "</defs>\n",
       "<polyline clip-path=\"url(#clip632)\" style=\"stroke:#000000; stroke-linecap:round; stroke-linejoin:round; stroke-width:2; stroke-opacity:0.1; fill:none\" points=\"218.439,1486.45 218.439,47.2441 \"/>\n",
       "<polyline clip-path=\"url(#clip632)\" style=\"stroke:#000000; stroke-linecap:round; stroke-linejoin:round; stroke-width:2; stroke-opacity:0.1; fill:none\" points=\"736.477,1486.45 736.477,47.2441 \"/>\n",
       "<polyline clip-path=\"url(#clip632)\" style=\"stroke:#000000; stroke-linecap:round; stroke-linejoin:round; stroke-width:2; stroke-opacity:0.1; fill:none\" points=\"1254.52,1486.45 1254.52,47.2441 \"/>\n",
       "<polyline clip-path=\"url(#clip632)\" style=\"stroke:#000000; stroke-linecap:round; stroke-linejoin:round; stroke-width:2; stroke-opacity:0.1; fill:none\" points=\"1772.55,1486.45 1772.55,47.2441 \"/>\n",
       "<polyline clip-path=\"url(#clip632)\" style=\"stroke:#000000; stroke-linecap:round; stroke-linejoin:round; stroke-width:2; stroke-opacity:0.1; fill:none\" points=\"2290.59,1486.45 2290.59,47.2441 \"/>\n",
       "<polyline clip-path=\"url(#clip632)\" style=\"stroke:#000000; stroke-linecap:round; stroke-linejoin:round; stroke-width:2; stroke-opacity:0.1; fill:none\" points=\"156.274,1445.72 2352.76,1445.72 \"/>\n",
       "<polyline clip-path=\"url(#clip632)\" style=\"stroke:#000000; stroke-linecap:round; stroke-linejoin:round; stroke-width:2; stroke-opacity:0.1; fill:none\" points=\"156.274,1174.17 2352.76,1174.17 \"/>\n",
       "<polyline clip-path=\"url(#clip632)\" style=\"stroke:#000000; stroke-linecap:round; stroke-linejoin:round; stroke-width:2; stroke-opacity:0.1; fill:none\" points=\"156.274,902.62 2352.76,902.62 \"/>\n",
       "<polyline clip-path=\"url(#clip632)\" style=\"stroke:#000000; stroke-linecap:round; stroke-linejoin:round; stroke-width:2; stroke-opacity:0.1; fill:none\" points=\"156.274,631.072 2352.76,631.072 \"/>\n",
       "<polyline clip-path=\"url(#clip632)\" style=\"stroke:#000000; stroke-linecap:round; stroke-linejoin:round; stroke-width:2; stroke-opacity:0.1; fill:none\" points=\"156.274,359.524 2352.76,359.524 \"/>\n",
       "<polyline clip-path=\"url(#clip632)\" style=\"stroke:#000000; stroke-linecap:round; stroke-linejoin:round; stroke-width:2; stroke-opacity:0.1; fill:none\" points=\"156.274,87.9763 2352.76,87.9763 \"/>\n",
       "<polyline clip-path=\"url(#clip630)\" style=\"stroke:#000000; stroke-linecap:round; stroke-linejoin:round; stroke-width:4; stroke-opacity:1; fill:none\" points=\"156.274,1486.45 2352.76,1486.45 \"/>\n",
       "<polyline clip-path=\"url(#clip630)\" style=\"stroke:#000000; stroke-linecap:round; stroke-linejoin:round; stroke-width:4; stroke-opacity:1; fill:none\" points=\"218.439,1486.45 218.439,1467.55 \"/>\n",
       "<polyline clip-path=\"url(#clip630)\" style=\"stroke:#000000; stroke-linecap:round; stroke-linejoin:round; stroke-width:4; stroke-opacity:1; fill:none\" points=\"736.477,1486.45 736.477,1467.55 \"/>\n",
       "<polyline clip-path=\"url(#clip630)\" style=\"stroke:#000000; stroke-linecap:round; stroke-linejoin:round; stroke-width:4; stroke-opacity:1; fill:none\" points=\"1254.52,1486.45 1254.52,1467.55 \"/>\n",
       "<polyline clip-path=\"url(#clip630)\" style=\"stroke:#000000; stroke-linecap:round; stroke-linejoin:round; stroke-width:4; stroke-opacity:1; fill:none\" points=\"1772.55,1486.45 1772.55,1467.55 \"/>\n",
       "<polyline clip-path=\"url(#clip630)\" style=\"stroke:#000000; stroke-linecap:round; stroke-linejoin:round; stroke-width:4; stroke-opacity:1; fill:none\" points=\"2290.59,1486.45 2290.59,1467.55 \"/>\n",
       "<path clip-path=\"url(#clip630)\" d=\"M218.439 1517.37 Q214.828 1517.37 212.999 1520.93 Q211.193 1524.47 211.193 1531.6 Q211.193 1538.71 212.999 1542.27 Q214.828 1545.82 218.439 1545.82 Q222.073 1545.82 223.879 1542.27 Q225.707 1538.71 225.707 1531.6 Q225.707 1524.47 223.879 1520.93 Q222.073 1517.37 218.439 1517.37 M218.439 1513.66 Q224.249 1513.66 227.304 1518.27 Q230.383 1522.85 230.383 1531.6 Q230.383 1540.33 227.304 1544.94 Q224.249 1549.52 218.439 1549.52 Q212.629 1549.52 209.55 1544.94 Q206.494 1540.33 206.494 1531.6 Q206.494 1522.85 209.55 1518.27 Q212.629 1513.66 218.439 1513.66 Z\" fill=\"#000000\" fill-rule=\"nonzero\" fill-opacity=\"1\" /><path clip-path=\"url(#clip630)\" d=\"M715.748 1544.91 L732.067 1544.91 L732.067 1548.85 L710.123 1548.85 L710.123 1544.91 Q712.785 1542.16 717.368 1537.53 Q721.975 1532.88 723.155 1531.53 Q725.401 1529.01 726.28 1527.27 Q727.183 1525.51 727.183 1523.82 Q727.183 1521.07 725.239 1519.33 Q723.317 1517.6 720.215 1517.6 Q718.016 1517.6 715.563 1518.36 Q713.132 1519.13 710.354 1520.68 L710.354 1515.95 Q713.178 1514.82 715.632 1514.24 Q718.086 1513.66 720.123 1513.66 Q725.493 1513.66 728.688 1516.35 Q731.882 1519.03 731.882 1523.52 Q731.882 1525.65 731.072 1527.57 Q730.285 1529.47 728.178 1532.07 Q727.6 1532.74 724.498 1535.95 Q721.396 1539.15 715.748 1544.91 Z\" fill=\"#000000\" fill-rule=\"nonzero\" fill-opacity=\"1\" /><path clip-path=\"url(#clip630)\" d=\"M741.928 1514.29 L760.285 1514.29 L760.285 1518.22 L746.211 1518.22 L746.211 1526.7 Q747.229 1526.35 748.248 1526.19 Q749.266 1526 750.285 1526 Q756.072 1526 759.451 1529.17 Q762.831 1532.34 762.831 1537.76 Q762.831 1543.34 759.359 1546.44 Q755.887 1549.52 749.567 1549.52 Q747.391 1549.52 745.123 1549.15 Q742.877 1548.78 740.47 1548.04 L740.47 1543.34 Q742.553 1544.47 744.775 1545.03 Q746.998 1545.58 749.475 1545.58 Q753.479 1545.58 755.817 1543.48 Q758.155 1541.37 758.155 1537.76 Q758.155 1534.15 755.817 1532.04 Q753.479 1529.94 749.475 1529.94 Q747.6 1529.94 745.725 1530.35 Q743.873 1530.77 741.928 1531.65 L741.928 1514.29 Z\" fill=\"#000000\" fill-rule=\"nonzero\" fill-opacity=\"1\" /><path clip-path=\"url(#clip630)\" d=\"M1229.21 1514.29 L1247.57 1514.29 L1247.57 1518.22 L1233.5 1518.22 L1233.5 1526.7 Q1234.52 1526.35 1235.53 1526.19 Q1236.55 1526 1237.57 1526 Q1243.36 1526 1246.74 1529.17 Q1250.12 1532.34 1250.12 1537.76 Q1250.12 1543.34 1246.64 1546.44 Q1243.17 1549.52 1236.85 1549.52 Q1234.68 1549.52 1232.41 1549.15 Q1230.16 1548.78 1227.76 1548.04 L1227.76 1543.34 Q1229.84 1544.47 1232.06 1545.03 Q1234.28 1545.58 1236.76 1545.58 Q1240.77 1545.58 1243.1 1543.48 Q1245.44 1541.37 1245.44 1537.76 Q1245.44 1534.15 1243.1 1532.04 Q1240.77 1529.94 1236.76 1529.94 Q1234.89 1529.94 1233.01 1530.35 Q1231.16 1530.77 1229.21 1531.65 L1229.21 1514.29 Z\" fill=\"#000000\" fill-rule=\"nonzero\" fill-opacity=\"1\" /><path clip-path=\"url(#clip630)\" d=\"M1269.33 1517.37 Q1265.72 1517.37 1263.89 1520.93 Q1262.08 1524.47 1262.08 1531.6 Q1262.08 1538.71 1263.89 1542.27 Q1265.72 1545.82 1269.33 1545.82 Q1272.96 1545.82 1274.77 1542.27 Q1276.6 1538.71 1276.6 1531.6 Q1276.6 1524.47 1274.77 1520.93 Q1272.96 1517.37 1269.33 1517.37 M1269.33 1513.66 Q1275.14 1513.66 1278.2 1518.27 Q1281.27 1522.85 1281.27 1531.6 Q1281.27 1540.33 1278.2 1544.94 Q1275.14 1549.52 1269.33 1549.52 Q1263.52 1549.52 1260.44 1544.94 Q1257.39 1540.33 1257.39 1531.6 Q1257.39 1522.85 1260.44 1518.27 Q1263.52 1513.66 1269.33 1513.66 Z\" fill=\"#000000\" fill-rule=\"nonzero\" fill-opacity=\"1\" /><path clip-path=\"url(#clip630)\" d=\"M1746.41 1514.29 L1768.63 1514.29 L1768.63 1516.28 L1756.08 1548.85 L1751.2 1548.85 L1763 1518.22 L1746.41 1518.22 L1746.41 1514.29 Z\" fill=\"#000000\" fill-rule=\"nonzero\" fill-opacity=\"1\" /><path clip-path=\"url(#clip630)\" d=\"M1777.8 1514.29 L1796.15 1514.29 L1796.15 1518.22 L1782.08 1518.22 L1782.08 1526.7 Q1783.1 1526.35 1784.12 1526.19 Q1785.13 1526 1786.15 1526 Q1791.94 1526 1795.32 1529.17 Q1798.7 1532.34 1798.7 1537.76 Q1798.7 1543.34 1795.23 1546.44 Q1791.75 1549.52 1785.44 1549.52 Q1783.26 1549.52 1780.99 1549.15 Q1778.75 1548.78 1776.34 1548.04 L1776.34 1543.34 Q1778.42 1544.47 1780.64 1545.03 Q1782.87 1545.58 1785.34 1545.58 Q1789.35 1545.58 1791.69 1543.48 Q1794.02 1541.37 1794.02 1537.76 Q1794.02 1534.15 1791.69 1532.04 Q1789.35 1529.94 1785.34 1529.94 Q1783.47 1529.94 1781.59 1530.35 Q1779.74 1530.77 1777.8 1531.65 L1777.8 1514.29 Z\" fill=\"#000000\" fill-rule=\"nonzero\" fill-opacity=\"1\" /><path clip-path=\"url(#clip630)\" d=\"M2250.2 1544.91 L2257.84 1544.91 L2257.84 1518.55 L2249.53 1520.21 L2249.53 1515.95 L2257.79 1514.29 L2262.47 1514.29 L2262.47 1544.91 L2270.11 1544.91 L2270.11 1548.85 L2250.2 1548.85 L2250.2 1544.91 Z\" fill=\"#000000\" fill-rule=\"nonzero\" fill-opacity=\"1\" /><path clip-path=\"url(#clip630)\" d=\"M2289.55 1517.37 Q2285.94 1517.37 2284.11 1520.93 Q2282.3 1524.47 2282.3 1531.6 Q2282.3 1538.71 2284.11 1542.27 Q2285.94 1545.82 2289.55 1545.82 Q2293.18 1545.82 2294.99 1542.27 Q2296.82 1538.71 2296.82 1531.6 Q2296.82 1524.47 2294.99 1520.93 Q2293.18 1517.37 2289.55 1517.37 M2289.55 1513.66 Q2295.36 1513.66 2298.42 1518.27 Q2301.49 1522.85 2301.49 1531.6 Q2301.49 1540.33 2298.42 1544.94 Q2295.36 1549.52 2289.55 1549.52 Q2283.74 1549.52 2280.66 1544.94 Q2277.61 1540.33 2277.61 1531.6 Q2277.61 1522.85 2280.66 1518.27 Q2283.74 1513.66 2289.55 1513.66 Z\" fill=\"#000000\" fill-rule=\"nonzero\" fill-opacity=\"1\" /><path clip-path=\"url(#clip630)\" d=\"M2319.71 1517.37 Q2316.1 1517.37 2314.27 1520.93 Q2312.47 1524.47 2312.47 1531.6 Q2312.47 1538.71 2314.27 1542.27 Q2316.1 1545.82 2319.71 1545.82 Q2323.35 1545.82 2325.15 1542.27 Q2326.98 1538.71 2326.98 1531.6 Q2326.98 1524.47 2325.15 1520.93 Q2323.35 1517.37 2319.71 1517.37 M2319.71 1513.66 Q2325.52 1513.66 2328.58 1518.27 Q2331.66 1522.85 2331.66 1531.6 Q2331.66 1540.33 2328.58 1544.94 Q2325.52 1549.52 2319.71 1549.52 Q2313.9 1549.52 2310.82 1544.94 Q2307.77 1540.33 2307.77 1531.6 Q2307.77 1522.85 2310.82 1518.27 Q2313.9 1513.66 2319.71 1513.66 Z\" fill=\"#000000\" fill-rule=\"nonzero\" fill-opacity=\"1\" /><polyline clip-path=\"url(#clip630)\" style=\"stroke:#000000; stroke-linecap:round; stroke-linejoin:round; stroke-width:4; stroke-opacity:1; fill:none\" points=\"156.274,1486.45 156.274,47.2441 \"/>\n",
       "<polyline clip-path=\"url(#clip630)\" style=\"stroke:#000000; stroke-linecap:round; stroke-linejoin:round; stroke-width:4; stroke-opacity:1; fill:none\" points=\"156.274,1445.72 175.172,1445.72 \"/>\n",
       "<polyline clip-path=\"url(#clip630)\" style=\"stroke:#000000; stroke-linecap:round; stroke-linejoin:round; stroke-width:4; stroke-opacity:1; fill:none\" points=\"156.274,1174.17 175.172,1174.17 \"/>\n",
       "<polyline clip-path=\"url(#clip630)\" style=\"stroke:#000000; stroke-linecap:round; stroke-linejoin:round; stroke-width:4; stroke-opacity:1; fill:none\" points=\"156.274,902.62 175.172,902.62 \"/>\n",
       "<polyline clip-path=\"url(#clip630)\" style=\"stroke:#000000; stroke-linecap:round; stroke-linejoin:round; stroke-width:4; stroke-opacity:1; fill:none\" points=\"156.274,631.072 175.172,631.072 \"/>\n",
       "<polyline clip-path=\"url(#clip630)\" style=\"stroke:#000000; stroke-linecap:round; stroke-linejoin:round; stroke-width:4; stroke-opacity:1; fill:none\" points=\"156.274,359.524 175.172,359.524 \"/>\n",
       "<polyline clip-path=\"url(#clip630)\" style=\"stroke:#000000; stroke-linecap:round; stroke-linejoin:round; stroke-width:4; stroke-opacity:1; fill:none\" points=\"156.274,87.9763 175.172,87.9763 \"/>\n",
       "<path clip-path=\"url(#clip630)\" d=\"M64.0939 1431.51 Q60.4828 1431.51 58.6541 1435.08 Q56.8486 1438.62 56.8486 1445.75 Q56.8486 1452.86 58.6541 1456.42 Q60.4828 1459.96 64.0939 1459.96 Q67.7281 1459.96 69.5337 1456.42 Q71.3624 1452.86 71.3624 1445.75 Q71.3624 1438.62 69.5337 1435.08 Q67.7281 1431.51 64.0939 1431.51 M64.0939 1427.81 Q69.9041 1427.81 72.9596 1432.42 Q76.0383 1437 76.0383 1445.75 Q76.0383 1454.48 72.9596 1459.08 Q69.9041 1463.67 64.0939 1463.67 Q58.2838 1463.67 55.2051 1459.08 Q52.1495 1454.48 52.1495 1445.75 Q52.1495 1437 55.2051 1432.42 Q58.2838 1427.81 64.0939 1427.81 Z\" fill=\"#000000\" fill-rule=\"nonzero\" fill-opacity=\"1\" /><path clip-path=\"url(#clip630)\" d=\"M84.2558 1457.12 L89.1401 1457.12 L89.1401 1463 L84.2558 1463 L84.2558 1457.12 Z\" fill=\"#000000\" fill-rule=\"nonzero\" fill-opacity=\"1\" /><path clip-path=\"url(#clip630)\" d=\"M99.3715 1428.44 L117.728 1428.44 L117.728 1432.37 L103.654 1432.37 L103.654 1440.84 Q104.672 1440.5 105.691 1440.33 Q106.709 1440.15 107.728 1440.15 Q113.515 1440.15 116.895 1443.32 Q120.274 1446.49 120.274 1451.91 Q120.274 1457.49 116.802 1460.59 Q113.33 1463.67 107.01 1463.67 Q104.834 1463.67 102.566 1463.3 Q100.321 1462.93 97.9132 1462.19 L97.9132 1457.49 Q99.9965 1458.62 102.219 1459.18 Q104.441 1459.73 106.918 1459.73 Q110.922 1459.73 113.26 1457.63 Q115.598 1455.52 115.598 1451.91 Q115.598 1448.3 113.26 1446.19 Q110.922 1444.08 106.918 1444.08 Q105.043 1444.08 103.168 1444.5 Q101.316 1444.92 99.3715 1445.8 L99.3715 1428.44 Z\" fill=\"#000000\" fill-rule=\"nonzero\" fill-opacity=\"1\" /><path clip-path=\"url(#clip630)\" d=\"M62.9365 1159.97 Q59.3254 1159.97 57.4967 1163.53 Q55.6912 1167.07 55.6912 1174.2 Q55.6912 1181.31 57.4967 1184.87 Q59.3254 1188.42 62.9365 1188.42 Q66.5707 1188.42 68.3763 1184.87 Q70.205 1181.31 70.205 1174.2 Q70.205 1167.07 68.3763 1163.53 Q66.5707 1159.97 62.9365 1159.97 M62.9365 1156.26 Q68.7467 1156.26 71.8022 1160.87 Q74.8809 1165.45 74.8809 1174.2 Q74.8809 1182.93 71.8022 1187.54 Q68.7467 1192.12 62.9365 1192.12 Q57.1264 1192.12 54.0477 1187.54 Q50.9921 1182.93 50.9921 1174.2 Q50.9921 1165.45 54.0477 1160.87 Q57.1264 1156.26 62.9365 1156.26 Z\" fill=\"#000000\" fill-rule=\"nonzero\" fill-opacity=\"1\" /><path clip-path=\"url(#clip630)\" d=\"M83.0984 1185.57 L87.9827 1185.57 L87.9827 1191.45 L83.0984 1191.45 L83.0984 1185.57 Z\" fill=\"#000000\" fill-rule=\"nonzero\" fill-opacity=\"1\" /><path clip-path=\"url(#clip630)\" d=\"M108.746 1172.3 Q105.598 1172.3 103.746 1174.46 Q101.918 1176.61 101.918 1180.36 Q101.918 1184.09 103.746 1186.26 Q105.598 1188.42 108.746 1188.42 Q111.895 1188.42 113.723 1186.26 Q115.575 1184.09 115.575 1180.36 Q115.575 1176.61 113.723 1174.46 Q111.895 1172.3 108.746 1172.3 M118.029 1157.65 L118.029 1161.91 Q116.27 1161.08 114.464 1160.64 Q112.682 1160.2 110.922 1160.2 Q106.293 1160.2 103.839 1163.32 Q101.409 1166.45 101.061 1172.77 Q102.427 1170.75 104.487 1169.69 Q106.547 1168.6 109.024 1168.6 Q114.233 1168.6 117.242 1171.77 Q120.274 1174.92 120.274 1180.36 Q120.274 1185.68 117.126 1188.9 Q113.978 1192.12 108.746 1192.12 Q102.751 1192.12 99.5798 1187.54 Q96.4085 1182.93 96.4085 1174.2 Q96.4085 1166.01 100.297 1161.15 Q104.186 1156.26 110.737 1156.26 Q112.496 1156.26 114.279 1156.61 Q116.084 1156.96 118.029 1157.65 Z\" fill=\"#000000\" fill-rule=\"nonzero\" fill-opacity=\"1\" /><path clip-path=\"url(#clip630)\" d=\"M64.0013 888.419 Q60.3902 888.419 58.5615 891.983 Q56.756 895.525 56.756 902.655 Q56.756 909.761 58.5615 913.326 Q60.3902 916.868 64.0013 916.868 Q67.6356 916.868 69.4411 913.326 Q71.2698 909.761 71.2698 902.655 Q71.2698 895.525 69.4411 891.983 Q67.6356 888.419 64.0013 888.419 M64.0013 884.715 Q69.8115 884.715 72.867 889.321 Q75.9457 893.905 75.9457 902.655 Q75.9457 911.381 72.867 915.988 Q69.8115 920.571 64.0013 920.571 Q58.1912 920.571 55.1125 915.988 Q52.0569 911.381 52.0569 902.655 Q52.0569 893.905 55.1125 889.321 Q58.1912 884.715 64.0013 884.715 Z\" fill=\"#000000\" fill-rule=\"nonzero\" fill-opacity=\"1\" /><path clip-path=\"url(#clip630)\" d=\"M84.1632 914.02 L89.0475 914.02 L89.0475 919.9 L84.1632 919.9 L84.1632 914.02 Z\" fill=\"#000000\" fill-rule=\"nonzero\" fill-opacity=\"1\" /><path clip-path=\"url(#clip630)\" d=\"M98.0521 885.34 L120.274 885.34 L120.274 887.331 L107.728 919.9 L102.844 919.9 L114.649 889.275 L98.0521 889.275 L98.0521 885.34 Z\" fill=\"#000000\" fill-rule=\"nonzero\" fill-opacity=\"1\" /><path clip-path=\"url(#clip630)\" d=\"M63.1911 616.871 Q59.58 616.871 57.7513 620.436 Q55.9458 623.977 55.9458 631.107 Q55.9458 638.213 57.7513 641.778 Q59.58 645.32 63.1911 645.32 Q66.8254 645.32 68.6309 641.778 Q70.4596 638.213 70.4596 631.107 Q70.4596 623.977 68.6309 620.436 Q66.8254 616.871 63.1911 616.871 M63.1911 613.167 Q69.0013 613.167 72.0568 617.774 Q75.1355 622.357 75.1355 631.107 Q75.1355 639.834 72.0568 644.44 Q69.0013 649.023 63.1911 649.023 Q57.381 649.023 54.3023 644.44 Q51.2468 639.834 51.2468 631.107 Q51.2468 622.357 54.3023 617.774 Q57.381 613.167 63.1911 613.167 Z\" fill=\"#000000\" fill-rule=\"nonzero\" fill-opacity=\"1\" /><path clip-path=\"url(#clip630)\" d=\"M83.3531 642.472 L88.2373 642.472 L88.2373 648.352 L83.3531 648.352 L83.3531 642.472 Z\" fill=\"#000000\" fill-rule=\"nonzero\" fill-opacity=\"1\" /><path clip-path=\"url(#clip630)\" d=\"M108.422 631.94 Q105.089 631.94 103.168 633.722 Q101.27 635.505 101.27 638.63 Q101.27 641.755 103.168 643.537 Q105.089 645.32 108.422 645.32 Q111.756 645.32 113.677 643.537 Q115.598 641.732 115.598 638.63 Q115.598 635.505 113.677 633.722 Q111.779 631.94 108.422 631.94 M103.746 629.949 Q100.737 629.209 99.0474 627.148 Q97.3808 625.088 97.3808 622.125 Q97.3808 617.982 100.321 615.574 Q103.284 613.167 108.422 613.167 Q113.584 613.167 116.524 615.574 Q119.464 617.982 119.464 622.125 Q119.464 625.088 117.774 627.148 Q116.108 629.209 113.121 629.949 Q116.501 630.736 118.376 633.028 Q120.274 635.32 120.274 638.63 Q120.274 643.653 117.195 646.338 Q114.14 649.023 108.422 649.023 Q102.705 649.023 99.6261 646.338 Q96.5706 643.653 96.5706 638.63 Q96.5706 635.32 98.4687 633.028 Q100.367 630.736 103.746 629.949 M102.034 622.565 Q102.034 625.25 103.7 626.755 Q105.39 628.26 108.422 628.26 Q111.432 628.26 113.121 626.755 Q114.834 625.25 114.834 622.565 Q114.834 619.88 113.121 618.375 Q111.432 616.871 108.422 616.871 Q105.39 616.871 103.7 618.375 Q102.034 619.88 102.034 622.565 Z\" fill=\"#000000\" fill-rule=\"nonzero\" fill-opacity=\"1\" /><path clip-path=\"url(#clip630)\" d=\"M63.2837 345.323 Q59.6726 345.323 57.8439 348.888 Q56.0384 352.429 56.0384 359.559 Q56.0384 366.665 57.8439 370.23 Q59.6726 373.772 63.2837 373.772 Q66.918 373.772 68.7235 370.23 Q70.5522 366.665 70.5522 359.559 Q70.5522 352.429 68.7235 348.888 Q66.918 345.323 63.2837 345.323 M63.2837 341.619 Q69.0939 341.619 72.1494 346.226 Q75.2281 350.809 75.2281 359.559 Q75.2281 368.286 72.1494 372.892 Q69.0939 377.475 63.2837 377.475 Q57.4736 377.475 54.3949 372.892 Q51.3393 368.286 51.3393 359.559 Q51.3393 350.809 54.3949 346.226 Q57.4736 341.619 63.2837 341.619 Z\" fill=\"#000000\" fill-rule=\"nonzero\" fill-opacity=\"1\" /><path clip-path=\"url(#clip630)\" d=\"M83.4457 370.925 L88.3299 370.925 L88.3299 376.804 L83.4457 376.804 L83.4457 370.925 Z\" fill=\"#000000\" fill-rule=\"nonzero\" fill-opacity=\"1\" /><path clip-path=\"url(#clip630)\" d=\"M98.6539 376.087 L98.6539 371.827 Q100.413 372.661 102.219 373.1 Q104.024 373.54 105.76 373.54 Q110.39 373.54 112.82 370.438 Q115.274 367.313 115.621 360.971 Q114.279 362.962 112.219 364.026 Q110.158 365.091 107.658 365.091 Q102.473 365.091 99.4409 361.966 Q96.4317 358.818 96.4317 353.378 Q96.4317 348.054 99.5798 344.837 Q102.728 341.619 107.959 341.619 Q113.955 341.619 117.103 346.226 Q120.274 350.809 120.274 359.559 Q120.274 367.73 116.385 372.614 Q112.52 377.475 105.969 377.475 Q104.209 377.475 102.404 377.128 Q100.598 376.781 98.6539 376.087 M107.959 361.434 Q111.108 361.434 112.936 359.281 Q114.788 357.128 114.788 353.378 Q114.788 349.652 112.936 347.499 Q111.108 345.323 107.959 345.323 Q104.811 345.323 102.959 347.499 Q101.131 349.652 101.131 353.378 Q101.131 357.128 102.959 359.281 Q104.811 361.434 107.959 361.434 Z\" fill=\"#000000\" fill-rule=\"nonzero\" fill-opacity=\"1\" /><path clip-path=\"url(#clip630)\" d=\"M53.9088 101.321 L61.5476 101.321 L61.5476 74.9555 L53.2375 76.6222 L53.2375 72.3629 L61.5013 70.6963 L66.1772 70.6963 L66.1772 101.321 L73.8161 101.321 L73.8161 105.256 L53.9088 105.256 L53.9088 101.321 Z\" fill=\"#000000\" fill-rule=\"nonzero\" fill-opacity=\"1\" /><path clip-path=\"url(#clip630)\" d=\"M83.2605 99.3767 L88.1447 99.3767 L88.1447 105.256 L83.2605 105.256 L83.2605 99.3767 Z\" fill=\"#000000\" fill-rule=\"nonzero\" fill-opacity=\"1\" /><path clip-path=\"url(#clip630)\" d=\"M108.33 73.775 Q104.719 73.775 102.89 77.3398 Q101.084 80.8814 101.084 88.011 Q101.084 95.1174 102.89 98.6822 Q104.719 102.224 108.33 102.224 Q111.964 102.224 113.77 98.6822 Q115.598 95.1174 115.598 88.011 Q115.598 80.8814 113.77 77.3398 Q111.964 73.775 108.33 73.775 M108.33 70.0713 Q114.14 70.0713 117.195 74.6777 Q120.274 79.261 120.274 88.011 Q120.274 96.7378 117.195 101.344 Q114.14 105.928 108.33 105.928 Q102.52 105.928 99.4409 101.344 Q96.3854 96.7378 96.3854 88.011 Q96.3854 79.261 99.4409 74.6777 Q102.52 70.0713 108.33 70.0713 Z\" fill=\"#000000\" fill-rule=\"nonzero\" fill-opacity=\"1\" /><polyline clip-path=\"url(#clip632)\" style=\"stroke:#009af9; stroke-linecap:round; stroke-linejoin:round; stroke-width:4; stroke-opacity:1; fill:none\" points=\"218.439,87.9763 239.16,359.524 259.882,576.762 280.603,750.553 301.325,889.586 322.046,1000.81 342.768,1089.79 363.489,1160.98 384.211,1217.92 404.932,1263.48 425.654,1299.93 446.376,1329.09 467.097,1352.41 487.819,1371.07 508.54,1386 529.262,1397.94 549.983,1407.5 570.705,1415.14 591.426,1421.26 612.148,1426.15 632.869,1430.06 653.591,1433.19 674.312,1435.7 695.034,1437.7 715.755,1439.3 736.477,1440.59 757.198,1441.61 777.92,1442.43 798.641,1443.09 819.363,1443.61 840.085,1444.03 860.806,1444.37 881.528,1444.64 902.249,1444.86 922.971,1445.03 943.692,1445.16 964.414,1445.28 985.135,1445.36 1005.86,1445.43 1026.58,1445.49 1047.3,1445.54 1068.02,1445.57 1088.74,1445.6 1109.46,1445.62 1130.19,1445.64 1150.91,1445.66 1171.63,1445.67 1192.35,1445.68 1213.07,1445.69 1233.79,1445.69 1254.52,1445.7 1275.24,1445.7 1295.96,1445.7 1316.68,1445.71 1337.4,1445.71 1358.12,1445.71 1378.84,1445.71 1399.57,1445.71 1420.29,1445.71 1441.01,1445.71 1461.73,1445.71 1482.45,1445.71 1503.17,1445.71 1523.89,1445.71 1544.62,1445.71 1565.34,1445.72 1586.06,1445.72 1606.78,1445.72 1627.5,1445.72 1648.22,1445.72 1668.95,1445.72 1689.67,1445.72 1710.39,1445.72 1731.11,1445.72 1751.83,1445.72 1772.55,1445.72 1793.27,1445.72 1814,1445.72 1834.72,1445.72 1855.44,1445.72 1876.16,1445.72 1896.88,1445.72 1917.6,1445.72 1938.33,1445.72 1959.05,1445.72 1979.77,1445.72 2000.49,1445.72 2021.21,1445.72 2041.93,1445.72 2062.65,1445.72 2083.38,1445.72 2104.1,1445.72 2124.82,1445.72 2145.54,1445.72 2166.26,1445.72 2186.98,1445.72 2207.71,1445.72 2228.43,1445.72 2249.15,1445.72 2269.87,1445.72 2290.59,1445.72 \"/>\n",
       "<path clip-path=\"url(#clip630)\" d=\"M2007.46 198.898 L2279.54 198.898 L2279.54 95.2176 L2007.46 95.2176  Z\" fill=\"#ffffff\" fill-rule=\"evenodd\" fill-opacity=\"1\"/>\n",
       "<polyline clip-path=\"url(#clip630)\" style=\"stroke:#000000; stroke-linecap:round; stroke-linejoin:round; stroke-width:4; stroke-opacity:1; fill:none\" points=\"2007.46,198.898 2279.54,198.898 2279.54,95.2176 2007.46,95.2176 2007.46,198.898 \"/>\n",
       "<polyline clip-path=\"url(#clip630)\" style=\"stroke:#009af9; stroke-linecap:round; stroke-linejoin:round; stroke-width:4; stroke-opacity:1; fill:none\" points=\"2031.87,147.058 2178.3,147.058 \"/>\n",
       "<path clip-path=\"url(#clip630)\" d=\"M2216.55 166.745 Q2214.74 171.375 2213.03 172.787 Q2211.32 174.199 2208.44 174.199 L2205.04 174.199 L2205.04 170.634 L2207.54 170.634 Q2209.3 170.634 2210.27 169.8 Q2211.25 168.967 2212.43 165.865 L2213.19 163.921 L2202.7 138.412 L2207.22 138.412 L2215.32 158.689 L2223.42 138.412 L2227.94 138.412 L2216.55 166.745 Z\" fill=\"#000000\" fill-rule=\"nonzero\" fill-opacity=\"1\" /><path clip-path=\"url(#clip630)\" d=\"M2235.23 160.402 L2242.87 160.402 L2242.87 134.037 L2234.56 135.703 L2234.56 131.444 L2242.82 129.778 L2247.5 129.778 L2247.5 160.402 L2255.13 160.402 L2255.13 164.338 L2235.23 164.338 L2235.23 160.402 Z\" fill=\"#000000\" fill-rule=\"nonzero\" fill-opacity=\"1\" /></svg>\n"
      ],
      "text/html": [
       "<?xml version=\"1.0\" encoding=\"utf-8\"?>\n",
       "<svg xmlns=\"http://www.w3.org/2000/svg\" xmlns:xlink=\"http://www.w3.org/1999/xlink\" width=\"600\" height=\"400\" viewBox=\"0 0 2400 1600\">\n",
       "<defs>\n",
       "  <clipPath id=\"clip680\">\n",
       "    <rect x=\"0\" y=\"0\" width=\"2400\" height=\"1600\"/>\n",
       "  </clipPath>\n",
       "</defs>\n",
       "<path clip-path=\"url(#clip680)\" d=\"M0 1600 L2400 1600 L2400 0 L0 0  Z\" fill=\"#ffffff\" fill-rule=\"evenodd\" fill-opacity=\"1\"/>\n",
       "<defs>\n",
       "  <clipPath id=\"clip681\">\n",
       "    <rect x=\"480\" y=\"0\" width=\"1681\" height=\"1600\"/>\n",
       "  </clipPath>\n",
       "</defs>\n",
       "<path clip-path=\"url(#clip680)\" d=\"M156.274 1486.45 L2352.76 1486.45 L2352.76 47.2441 L156.274 47.2441  Z\" fill=\"#ffffff\" fill-rule=\"evenodd\" fill-opacity=\"1\"/>\n",
       "<defs>\n",
       "  <clipPath id=\"clip682\">\n",
       "    <rect x=\"156\" y=\"47\" width=\"2197\" height=\"1440\"/>\n",
       "  </clipPath>\n",
       "</defs>\n",
       "<polyline clip-path=\"url(#clip682)\" style=\"stroke:#000000; stroke-linecap:round; stroke-linejoin:round; stroke-width:2; stroke-opacity:0.1; fill:none\" points=\"218.439,1486.45 218.439,47.2441 \"/>\n",
       "<polyline clip-path=\"url(#clip682)\" style=\"stroke:#000000; stroke-linecap:round; stroke-linejoin:round; stroke-width:2; stroke-opacity:0.1; fill:none\" points=\"736.477,1486.45 736.477,47.2441 \"/>\n",
       "<polyline clip-path=\"url(#clip682)\" style=\"stroke:#000000; stroke-linecap:round; stroke-linejoin:round; stroke-width:2; stroke-opacity:0.1; fill:none\" points=\"1254.52,1486.45 1254.52,47.2441 \"/>\n",
       "<polyline clip-path=\"url(#clip682)\" style=\"stroke:#000000; stroke-linecap:round; stroke-linejoin:round; stroke-width:2; stroke-opacity:0.1; fill:none\" points=\"1772.55,1486.45 1772.55,47.2441 \"/>\n",
       "<polyline clip-path=\"url(#clip682)\" style=\"stroke:#000000; stroke-linecap:round; stroke-linejoin:round; stroke-width:2; stroke-opacity:0.1; fill:none\" points=\"2290.59,1486.45 2290.59,47.2441 \"/>\n",
       "<polyline clip-path=\"url(#clip682)\" style=\"stroke:#000000; stroke-linecap:round; stroke-linejoin:round; stroke-width:2; stroke-opacity:0.1; fill:none\" points=\"156.274,1445.72 2352.76,1445.72 \"/>\n",
       "<polyline clip-path=\"url(#clip682)\" style=\"stroke:#000000; stroke-linecap:round; stroke-linejoin:round; stroke-width:2; stroke-opacity:0.1; fill:none\" points=\"156.274,1174.17 2352.76,1174.17 \"/>\n",
       "<polyline clip-path=\"url(#clip682)\" style=\"stroke:#000000; stroke-linecap:round; stroke-linejoin:round; stroke-width:2; stroke-opacity:0.1; fill:none\" points=\"156.274,902.62 2352.76,902.62 \"/>\n",
       "<polyline clip-path=\"url(#clip682)\" style=\"stroke:#000000; stroke-linecap:round; stroke-linejoin:round; stroke-width:2; stroke-opacity:0.1; fill:none\" points=\"156.274,631.072 2352.76,631.072 \"/>\n",
       "<polyline clip-path=\"url(#clip682)\" style=\"stroke:#000000; stroke-linecap:round; stroke-linejoin:round; stroke-width:2; stroke-opacity:0.1; fill:none\" points=\"156.274,359.524 2352.76,359.524 \"/>\n",
       "<polyline clip-path=\"url(#clip682)\" style=\"stroke:#000000; stroke-linecap:round; stroke-linejoin:round; stroke-width:2; stroke-opacity:0.1; fill:none\" points=\"156.274,87.9763 2352.76,87.9763 \"/>\n",
       "<polyline clip-path=\"url(#clip680)\" style=\"stroke:#000000; stroke-linecap:round; stroke-linejoin:round; stroke-width:4; stroke-opacity:1; fill:none\" points=\"156.274,1486.45 2352.76,1486.45 \"/>\n",
       "<polyline clip-path=\"url(#clip680)\" style=\"stroke:#000000; stroke-linecap:round; stroke-linejoin:round; stroke-width:4; stroke-opacity:1; fill:none\" points=\"218.439,1486.45 218.439,1467.55 \"/>\n",
       "<polyline clip-path=\"url(#clip680)\" style=\"stroke:#000000; stroke-linecap:round; stroke-linejoin:round; stroke-width:4; stroke-opacity:1; fill:none\" points=\"736.477,1486.45 736.477,1467.55 \"/>\n",
       "<polyline clip-path=\"url(#clip680)\" style=\"stroke:#000000; stroke-linecap:round; stroke-linejoin:round; stroke-width:4; stroke-opacity:1; fill:none\" points=\"1254.52,1486.45 1254.52,1467.55 \"/>\n",
       "<polyline clip-path=\"url(#clip680)\" style=\"stroke:#000000; stroke-linecap:round; stroke-linejoin:round; stroke-width:4; stroke-opacity:1; fill:none\" points=\"1772.55,1486.45 1772.55,1467.55 \"/>\n",
       "<polyline clip-path=\"url(#clip680)\" style=\"stroke:#000000; stroke-linecap:round; stroke-linejoin:round; stroke-width:4; stroke-opacity:1; fill:none\" points=\"2290.59,1486.45 2290.59,1467.55 \"/>\n",
       "<path clip-path=\"url(#clip680)\" d=\"M218.439 1517.37 Q214.828 1517.37 212.999 1520.93 Q211.193 1524.47 211.193 1531.6 Q211.193 1538.71 212.999 1542.27 Q214.828 1545.82 218.439 1545.82 Q222.073 1545.82 223.879 1542.27 Q225.707 1538.71 225.707 1531.6 Q225.707 1524.47 223.879 1520.93 Q222.073 1517.37 218.439 1517.37 M218.439 1513.66 Q224.249 1513.66 227.304 1518.27 Q230.383 1522.85 230.383 1531.6 Q230.383 1540.33 227.304 1544.94 Q224.249 1549.52 218.439 1549.52 Q212.629 1549.52 209.55 1544.94 Q206.494 1540.33 206.494 1531.6 Q206.494 1522.85 209.55 1518.27 Q212.629 1513.66 218.439 1513.66 Z\" fill=\"#000000\" fill-rule=\"nonzero\" fill-opacity=\"1\" /><path clip-path=\"url(#clip680)\" d=\"M715.748 1544.91 L732.067 1544.91 L732.067 1548.85 L710.123 1548.85 L710.123 1544.91 Q712.785 1542.16 717.368 1537.53 Q721.975 1532.88 723.155 1531.53 Q725.401 1529.01 726.28 1527.27 Q727.183 1525.51 727.183 1523.82 Q727.183 1521.07 725.239 1519.33 Q723.317 1517.6 720.215 1517.6 Q718.016 1517.6 715.563 1518.36 Q713.132 1519.13 710.354 1520.68 L710.354 1515.95 Q713.178 1514.82 715.632 1514.24 Q718.086 1513.66 720.123 1513.66 Q725.493 1513.66 728.688 1516.35 Q731.882 1519.03 731.882 1523.52 Q731.882 1525.65 731.072 1527.57 Q730.285 1529.47 728.178 1532.07 Q727.6 1532.74 724.498 1535.95 Q721.396 1539.15 715.748 1544.91 Z\" fill=\"#000000\" fill-rule=\"nonzero\" fill-opacity=\"1\" /><path clip-path=\"url(#clip680)\" d=\"M741.928 1514.29 L760.285 1514.29 L760.285 1518.22 L746.211 1518.22 L746.211 1526.7 Q747.229 1526.35 748.248 1526.19 Q749.266 1526 750.285 1526 Q756.072 1526 759.451 1529.17 Q762.831 1532.34 762.831 1537.76 Q762.831 1543.34 759.359 1546.44 Q755.887 1549.52 749.567 1549.52 Q747.391 1549.52 745.123 1549.15 Q742.877 1548.78 740.47 1548.04 L740.47 1543.34 Q742.553 1544.47 744.775 1545.03 Q746.998 1545.58 749.475 1545.58 Q753.479 1545.58 755.817 1543.48 Q758.155 1541.37 758.155 1537.76 Q758.155 1534.15 755.817 1532.04 Q753.479 1529.94 749.475 1529.94 Q747.6 1529.94 745.725 1530.35 Q743.873 1530.77 741.928 1531.65 L741.928 1514.29 Z\" fill=\"#000000\" fill-rule=\"nonzero\" fill-opacity=\"1\" /><path clip-path=\"url(#clip680)\" d=\"M1229.21 1514.29 L1247.57 1514.29 L1247.57 1518.22 L1233.5 1518.22 L1233.5 1526.7 Q1234.52 1526.35 1235.53 1526.19 Q1236.55 1526 1237.57 1526 Q1243.36 1526 1246.74 1529.17 Q1250.12 1532.34 1250.12 1537.76 Q1250.12 1543.34 1246.64 1546.44 Q1243.17 1549.52 1236.85 1549.52 Q1234.68 1549.52 1232.41 1549.15 Q1230.16 1548.78 1227.76 1548.04 L1227.76 1543.34 Q1229.84 1544.47 1232.06 1545.03 Q1234.28 1545.58 1236.76 1545.58 Q1240.77 1545.58 1243.1 1543.48 Q1245.44 1541.37 1245.44 1537.76 Q1245.44 1534.15 1243.1 1532.04 Q1240.77 1529.94 1236.76 1529.94 Q1234.89 1529.94 1233.01 1530.35 Q1231.16 1530.77 1229.21 1531.65 L1229.21 1514.29 Z\" fill=\"#000000\" fill-rule=\"nonzero\" fill-opacity=\"1\" /><path clip-path=\"url(#clip680)\" d=\"M1269.33 1517.37 Q1265.72 1517.37 1263.89 1520.93 Q1262.08 1524.47 1262.08 1531.6 Q1262.08 1538.71 1263.89 1542.27 Q1265.72 1545.82 1269.33 1545.82 Q1272.96 1545.82 1274.77 1542.27 Q1276.6 1538.71 1276.6 1531.6 Q1276.6 1524.47 1274.77 1520.93 Q1272.96 1517.37 1269.33 1517.37 M1269.33 1513.66 Q1275.14 1513.66 1278.2 1518.27 Q1281.27 1522.85 1281.27 1531.6 Q1281.27 1540.33 1278.2 1544.94 Q1275.14 1549.52 1269.33 1549.52 Q1263.52 1549.52 1260.44 1544.94 Q1257.39 1540.33 1257.39 1531.6 Q1257.39 1522.85 1260.44 1518.27 Q1263.52 1513.66 1269.33 1513.66 Z\" fill=\"#000000\" fill-rule=\"nonzero\" fill-opacity=\"1\" /><path clip-path=\"url(#clip680)\" d=\"M1746.41 1514.29 L1768.63 1514.29 L1768.63 1516.28 L1756.08 1548.85 L1751.2 1548.85 L1763 1518.22 L1746.41 1518.22 L1746.41 1514.29 Z\" fill=\"#000000\" fill-rule=\"nonzero\" fill-opacity=\"1\" /><path clip-path=\"url(#clip680)\" d=\"M1777.8 1514.29 L1796.15 1514.29 L1796.15 1518.22 L1782.08 1518.22 L1782.08 1526.7 Q1783.1 1526.35 1784.12 1526.19 Q1785.13 1526 1786.15 1526 Q1791.94 1526 1795.32 1529.17 Q1798.7 1532.34 1798.7 1537.76 Q1798.7 1543.34 1795.23 1546.44 Q1791.75 1549.52 1785.44 1549.52 Q1783.26 1549.52 1780.99 1549.15 Q1778.75 1548.78 1776.34 1548.04 L1776.34 1543.34 Q1778.42 1544.47 1780.64 1545.03 Q1782.87 1545.58 1785.34 1545.58 Q1789.35 1545.58 1791.69 1543.48 Q1794.02 1541.37 1794.02 1537.76 Q1794.02 1534.15 1791.69 1532.04 Q1789.35 1529.94 1785.34 1529.94 Q1783.47 1529.94 1781.59 1530.35 Q1779.74 1530.77 1777.8 1531.65 L1777.8 1514.29 Z\" fill=\"#000000\" fill-rule=\"nonzero\" fill-opacity=\"1\" /><path clip-path=\"url(#clip680)\" d=\"M2250.2 1544.91 L2257.84 1544.91 L2257.84 1518.55 L2249.53 1520.21 L2249.53 1515.95 L2257.79 1514.29 L2262.47 1514.29 L2262.47 1544.91 L2270.11 1544.91 L2270.11 1548.85 L2250.2 1548.85 L2250.2 1544.91 Z\" fill=\"#000000\" fill-rule=\"nonzero\" fill-opacity=\"1\" /><path clip-path=\"url(#clip680)\" d=\"M2289.55 1517.37 Q2285.94 1517.37 2284.11 1520.93 Q2282.3 1524.47 2282.3 1531.6 Q2282.3 1538.71 2284.11 1542.27 Q2285.94 1545.82 2289.55 1545.82 Q2293.18 1545.82 2294.99 1542.27 Q2296.82 1538.71 2296.82 1531.6 Q2296.82 1524.47 2294.99 1520.93 Q2293.18 1517.37 2289.55 1517.37 M2289.55 1513.66 Q2295.36 1513.66 2298.42 1518.27 Q2301.49 1522.85 2301.49 1531.6 Q2301.49 1540.33 2298.42 1544.94 Q2295.36 1549.52 2289.55 1549.52 Q2283.74 1549.52 2280.66 1544.94 Q2277.61 1540.33 2277.61 1531.6 Q2277.61 1522.85 2280.66 1518.27 Q2283.74 1513.66 2289.55 1513.66 Z\" fill=\"#000000\" fill-rule=\"nonzero\" fill-opacity=\"1\" /><path clip-path=\"url(#clip680)\" d=\"M2319.71 1517.37 Q2316.1 1517.37 2314.27 1520.93 Q2312.47 1524.47 2312.47 1531.6 Q2312.47 1538.71 2314.27 1542.27 Q2316.1 1545.82 2319.71 1545.82 Q2323.35 1545.82 2325.15 1542.27 Q2326.98 1538.71 2326.98 1531.6 Q2326.98 1524.47 2325.15 1520.93 Q2323.35 1517.37 2319.71 1517.37 M2319.71 1513.66 Q2325.52 1513.66 2328.58 1518.27 Q2331.66 1522.85 2331.66 1531.6 Q2331.66 1540.33 2328.58 1544.94 Q2325.52 1549.52 2319.71 1549.52 Q2313.9 1549.52 2310.82 1544.94 Q2307.77 1540.33 2307.77 1531.6 Q2307.77 1522.85 2310.82 1518.27 Q2313.9 1513.66 2319.71 1513.66 Z\" fill=\"#000000\" fill-rule=\"nonzero\" fill-opacity=\"1\" /><polyline clip-path=\"url(#clip680)\" style=\"stroke:#000000; stroke-linecap:round; stroke-linejoin:round; stroke-width:4; stroke-opacity:1; fill:none\" points=\"156.274,1486.45 156.274,47.2441 \"/>\n",
       "<polyline clip-path=\"url(#clip680)\" style=\"stroke:#000000; stroke-linecap:round; stroke-linejoin:round; stroke-width:4; stroke-opacity:1; fill:none\" points=\"156.274,1445.72 175.172,1445.72 \"/>\n",
       "<polyline clip-path=\"url(#clip680)\" style=\"stroke:#000000; stroke-linecap:round; stroke-linejoin:round; stroke-width:4; stroke-opacity:1; fill:none\" points=\"156.274,1174.17 175.172,1174.17 \"/>\n",
       "<polyline clip-path=\"url(#clip680)\" style=\"stroke:#000000; stroke-linecap:round; stroke-linejoin:round; stroke-width:4; stroke-opacity:1; fill:none\" points=\"156.274,902.62 175.172,902.62 \"/>\n",
       "<polyline clip-path=\"url(#clip680)\" style=\"stroke:#000000; stroke-linecap:round; stroke-linejoin:round; stroke-width:4; stroke-opacity:1; fill:none\" points=\"156.274,631.072 175.172,631.072 \"/>\n",
       "<polyline clip-path=\"url(#clip680)\" style=\"stroke:#000000; stroke-linecap:round; stroke-linejoin:round; stroke-width:4; stroke-opacity:1; fill:none\" points=\"156.274,359.524 175.172,359.524 \"/>\n",
       "<polyline clip-path=\"url(#clip680)\" style=\"stroke:#000000; stroke-linecap:round; stroke-linejoin:round; stroke-width:4; stroke-opacity:1; fill:none\" points=\"156.274,87.9763 175.172,87.9763 \"/>\n",
       "<path clip-path=\"url(#clip680)\" d=\"M64.0939 1431.51 Q60.4828 1431.51 58.6541 1435.08 Q56.8486 1438.62 56.8486 1445.75 Q56.8486 1452.86 58.6541 1456.42 Q60.4828 1459.96 64.0939 1459.96 Q67.7281 1459.96 69.5337 1456.42 Q71.3624 1452.86 71.3624 1445.75 Q71.3624 1438.62 69.5337 1435.08 Q67.7281 1431.51 64.0939 1431.51 M64.0939 1427.81 Q69.9041 1427.81 72.9596 1432.42 Q76.0383 1437 76.0383 1445.75 Q76.0383 1454.48 72.9596 1459.08 Q69.9041 1463.67 64.0939 1463.67 Q58.2838 1463.67 55.2051 1459.08 Q52.1495 1454.48 52.1495 1445.75 Q52.1495 1437 55.2051 1432.42 Q58.2838 1427.81 64.0939 1427.81 Z\" fill=\"#000000\" fill-rule=\"nonzero\" fill-opacity=\"1\" /><path clip-path=\"url(#clip680)\" d=\"M84.2558 1457.12 L89.1401 1457.12 L89.1401 1463 L84.2558 1463 L84.2558 1457.12 Z\" fill=\"#000000\" fill-rule=\"nonzero\" fill-opacity=\"1\" /><path clip-path=\"url(#clip680)\" d=\"M99.3715 1428.44 L117.728 1428.44 L117.728 1432.37 L103.654 1432.37 L103.654 1440.84 Q104.672 1440.5 105.691 1440.33 Q106.709 1440.15 107.728 1440.15 Q113.515 1440.15 116.895 1443.32 Q120.274 1446.49 120.274 1451.91 Q120.274 1457.49 116.802 1460.59 Q113.33 1463.67 107.01 1463.67 Q104.834 1463.67 102.566 1463.3 Q100.321 1462.93 97.9132 1462.19 L97.9132 1457.49 Q99.9965 1458.62 102.219 1459.18 Q104.441 1459.73 106.918 1459.73 Q110.922 1459.73 113.26 1457.63 Q115.598 1455.52 115.598 1451.91 Q115.598 1448.3 113.26 1446.19 Q110.922 1444.08 106.918 1444.08 Q105.043 1444.08 103.168 1444.5 Q101.316 1444.92 99.3715 1445.8 L99.3715 1428.44 Z\" fill=\"#000000\" fill-rule=\"nonzero\" fill-opacity=\"1\" /><path clip-path=\"url(#clip680)\" d=\"M62.9365 1159.97 Q59.3254 1159.97 57.4967 1163.53 Q55.6912 1167.07 55.6912 1174.2 Q55.6912 1181.31 57.4967 1184.87 Q59.3254 1188.42 62.9365 1188.42 Q66.5707 1188.42 68.3763 1184.87 Q70.205 1181.31 70.205 1174.2 Q70.205 1167.07 68.3763 1163.53 Q66.5707 1159.97 62.9365 1159.97 M62.9365 1156.26 Q68.7467 1156.26 71.8022 1160.87 Q74.8809 1165.45 74.8809 1174.2 Q74.8809 1182.93 71.8022 1187.54 Q68.7467 1192.12 62.9365 1192.12 Q57.1264 1192.12 54.0477 1187.54 Q50.9921 1182.93 50.9921 1174.2 Q50.9921 1165.45 54.0477 1160.87 Q57.1264 1156.26 62.9365 1156.26 Z\" fill=\"#000000\" fill-rule=\"nonzero\" fill-opacity=\"1\" /><path clip-path=\"url(#clip680)\" d=\"M83.0984 1185.57 L87.9827 1185.57 L87.9827 1191.45 L83.0984 1191.45 L83.0984 1185.57 Z\" fill=\"#000000\" fill-rule=\"nonzero\" fill-opacity=\"1\" /><path clip-path=\"url(#clip680)\" d=\"M108.746 1172.3 Q105.598 1172.3 103.746 1174.46 Q101.918 1176.61 101.918 1180.36 Q101.918 1184.09 103.746 1186.26 Q105.598 1188.42 108.746 1188.42 Q111.895 1188.42 113.723 1186.26 Q115.575 1184.09 115.575 1180.36 Q115.575 1176.61 113.723 1174.46 Q111.895 1172.3 108.746 1172.3 M118.029 1157.65 L118.029 1161.91 Q116.27 1161.08 114.464 1160.64 Q112.682 1160.2 110.922 1160.2 Q106.293 1160.2 103.839 1163.32 Q101.409 1166.45 101.061 1172.77 Q102.427 1170.75 104.487 1169.69 Q106.547 1168.6 109.024 1168.6 Q114.233 1168.6 117.242 1171.77 Q120.274 1174.92 120.274 1180.36 Q120.274 1185.68 117.126 1188.9 Q113.978 1192.12 108.746 1192.12 Q102.751 1192.12 99.5798 1187.54 Q96.4085 1182.93 96.4085 1174.2 Q96.4085 1166.01 100.297 1161.15 Q104.186 1156.26 110.737 1156.26 Q112.496 1156.26 114.279 1156.61 Q116.084 1156.96 118.029 1157.65 Z\" fill=\"#000000\" fill-rule=\"nonzero\" fill-opacity=\"1\" /><path clip-path=\"url(#clip680)\" d=\"M64.0013 888.419 Q60.3902 888.419 58.5615 891.983 Q56.756 895.525 56.756 902.655 Q56.756 909.761 58.5615 913.326 Q60.3902 916.868 64.0013 916.868 Q67.6356 916.868 69.4411 913.326 Q71.2698 909.761 71.2698 902.655 Q71.2698 895.525 69.4411 891.983 Q67.6356 888.419 64.0013 888.419 M64.0013 884.715 Q69.8115 884.715 72.867 889.321 Q75.9457 893.905 75.9457 902.655 Q75.9457 911.381 72.867 915.988 Q69.8115 920.571 64.0013 920.571 Q58.1912 920.571 55.1125 915.988 Q52.0569 911.381 52.0569 902.655 Q52.0569 893.905 55.1125 889.321 Q58.1912 884.715 64.0013 884.715 Z\" fill=\"#000000\" fill-rule=\"nonzero\" fill-opacity=\"1\" /><path clip-path=\"url(#clip680)\" d=\"M84.1632 914.02 L89.0475 914.02 L89.0475 919.9 L84.1632 919.9 L84.1632 914.02 Z\" fill=\"#000000\" fill-rule=\"nonzero\" fill-opacity=\"1\" /><path clip-path=\"url(#clip680)\" d=\"M98.0521 885.34 L120.274 885.34 L120.274 887.331 L107.728 919.9 L102.844 919.9 L114.649 889.275 L98.0521 889.275 L98.0521 885.34 Z\" fill=\"#000000\" fill-rule=\"nonzero\" fill-opacity=\"1\" /><path clip-path=\"url(#clip680)\" d=\"M63.1911 616.871 Q59.58 616.871 57.7513 620.436 Q55.9458 623.977 55.9458 631.107 Q55.9458 638.213 57.7513 641.778 Q59.58 645.32 63.1911 645.32 Q66.8254 645.32 68.6309 641.778 Q70.4596 638.213 70.4596 631.107 Q70.4596 623.977 68.6309 620.436 Q66.8254 616.871 63.1911 616.871 M63.1911 613.167 Q69.0013 613.167 72.0568 617.774 Q75.1355 622.357 75.1355 631.107 Q75.1355 639.834 72.0568 644.44 Q69.0013 649.023 63.1911 649.023 Q57.381 649.023 54.3023 644.44 Q51.2468 639.834 51.2468 631.107 Q51.2468 622.357 54.3023 617.774 Q57.381 613.167 63.1911 613.167 Z\" fill=\"#000000\" fill-rule=\"nonzero\" fill-opacity=\"1\" /><path clip-path=\"url(#clip680)\" d=\"M83.3531 642.472 L88.2373 642.472 L88.2373 648.352 L83.3531 648.352 L83.3531 642.472 Z\" fill=\"#000000\" fill-rule=\"nonzero\" fill-opacity=\"1\" /><path clip-path=\"url(#clip680)\" d=\"M108.422 631.94 Q105.089 631.94 103.168 633.722 Q101.27 635.505 101.27 638.63 Q101.27 641.755 103.168 643.537 Q105.089 645.32 108.422 645.32 Q111.756 645.32 113.677 643.537 Q115.598 641.732 115.598 638.63 Q115.598 635.505 113.677 633.722 Q111.779 631.94 108.422 631.94 M103.746 629.949 Q100.737 629.209 99.0474 627.148 Q97.3808 625.088 97.3808 622.125 Q97.3808 617.982 100.321 615.574 Q103.284 613.167 108.422 613.167 Q113.584 613.167 116.524 615.574 Q119.464 617.982 119.464 622.125 Q119.464 625.088 117.774 627.148 Q116.108 629.209 113.121 629.949 Q116.501 630.736 118.376 633.028 Q120.274 635.32 120.274 638.63 Q120.274 643.653 117.195 646.338 Q114.14 649.023 108.422 649.023 Q102.705 649.023 99.6261 646.338 Q96.5706 643.653 96.5706 638.63 Q96.5706 635.32 98.4687 633.028 Q100.367 630.736 103.746 629.949 M102.034 622.565 Q102.034 625.25 103.7 626.755 Q105.39 628.26 108.422 628.26 Q111.432 628.26 113.121 626.755 Q114.834 625.25 114.834 622.565 Q114.834 619.88 113.121 618.375 Q111.432 616.871 108.422 616.871 Q105.39 616.871 103.7 618.375 Q102.034 619.88 102.034 622.565 Z\" fill=\"#000000\" fill-rule=\"nonzero\" fill-opacity=\"1\" /><path clip-path=\"url(#clip680)\" d=\"M63.2837 345.323 Q59.6726 345.323 57.8439 348.888 Q56.0384 352.429 56.0384 359.559 Q56.0384 366.665 57.8439 370.23 Q59.6726 373.772 63.2837 373.772 Q66.918 373.772 68.7235 370.23 Q70.5522 366.665 70.5522 359.559 Q70.5522 352.429 68.7235 348.888 Q66.918 345.323 63.2837 345.323 M63.2837 341.619 Q69.0939 341.619 72.1494 346.226 Q75.2281 350.809 75.2281 359.559 Q75.2281 368.286 72.1494 372.892 Q69.0939 377.475 63.2837 377.475 Q57.4736 377.475 54.3949 372.892 Q51.3393 368.286 51.3393 359.559 Q51.3393 350.809 54.3949 346.226 Q57.4736 341.619 63.2837 341.619 Z\" fill=\"#000000\" fill-rule=\"nonzero\" fill-opacity=\"1\" /><path clip-path=\"url(#clip680)\" d=\"M83.4457 370.925 L88.3299 370.925 L88.3299 376.804 L83.4457 376.804 L83.4457 370.925 Z\" fill=\"#000000\" fill-rule=\"nonzero\" fill-opacity=\"1\" /><path clip-path=\"url(#clip680)\" d=\"M98.6539 376.087 L98.6539 371.827 Q100.413 372.661 102.219 373.1 Q104.024 373.54 105.76 373.54 Q110.39 373.54 112.82 370.438 Q115.274 367.313 115.621 360.971 Q114.279 362.962 112.219 364.026 Q110.158 365.091 107.658 365.091 Q102.473 365.091 99.4409 361.966 Q96.4317 358.818 96.4317 353.378 Q96.4317 348.054 99.5798 344.837 Q102.728 341.619 107.959 341.619 Q113.955 341.619 117.103 346.226 Q120.274 350.809 120.274 359.559 Q120.274 367.73 116.385 372.614 Q112.52 377.475 105.969 377.475 Q104.209 377.475 102.404 377.128 Q100.598 376.781 98.6539 376.087 M107.959 361.434 Q111.108 361.434 112.936 359.281 Q114.788 357.128 114.788 353.378 Q114.788 349.652 112.936 347.499 Q111.108 345.323 107.959 345.323 Q104.811 345.323 102.959 347.499 Q101.131 349.652 101.131 353.378 Q101.131 357.128 102.959 359.281 Q104.811 361.434 107.959 361.434 Z\" fill=\"#000000\" fill-rule=\"nonzero\" fill-opacity=\"1\" /><path clip-path=\"url(#clip680)\" d=\"M53.9088 101.321 L61.5476 101.321 L61.5476 74.9555 L53.2375 76.6222 L53.2375 72.3629 L61.5013 70.6963 L66.1772 70.6963 L66.1772 101.321 L73.8161 101.321 L73.8161 105.256 L53.9088 105.256 L53.9088 101.321 Z\" fill=\"#000000\" fill-rule=\"nonzero\" fill-opacity=\"1\" /><path clip-path=\"url(#clip680)\" d=\"M83.2605 99.3767 L88.1447 99.3767 L88.1447 105.256 L83.2605 105.256 L83.2605 99.3767 Z\" fill=\"#000000\" fill-rule=\"nonzero\" fill-opacity=\"1\" /><path clip-path=\"url(#clip680)\" d=\"M108.33 73.775 Q104.719 73.775 102.89 77.3398 Q101.084 80.8814 101.084 88.011 Q101.084 95.1174 102.89 98.6822 Q104.719 102.224 108.33 102.224 Q111.964 102.224 113.77 98.6822 Q115.598 95.1174 115.598 88.011 Q115.598 80.8814 113.77 77.3398 Q111.964 73.775 108.33 73.775 M108.33 70.0713 Q114.14 70.0713 117.195 74.6777 Q120.274 79.261 120.274 88.011 Q120.274 96.7378 117.195 101.344 Q114.14 105.928 108.33 105.928 Q102.52 105.928 99.4409 101.344 Q96.3854 96.7378 96.3854 88.011 Q96.3854 79.261 99.4409 74.6777 Q102.52 70.0713 108.33 70.0713 Z\" fill=\"#000000\" fill-rule=\"nonzero\" fill-opacity=\"1\" /><polyline clip-path=\"url(#clip682)\" style=\"stroke:#009af9; stroke-linecap:round; stroke-linejoin:round; stroke-width:4; stroke-opacity:1; fill:none\" points=\"218.439,87.9763 239.16,359.524 259.882,576.762 280.603,750.553 301.325,889.586 322.046,1000.81 342.768,1089.79 363.489,1160.98 384.211,1217.92 404.932,1263.48 425.654,1299.93 446.376,1329.09 467.097,1352.41 487.819,1371.07 508.54,1386 529.262,1397.94 549.983,1407.5 570.705,1415.14 591.426,1421.26 612.148,1426.15 632.869,1430.06 653.591,1433.19 674.312,1435.7 695.034,1437.7 715.755,1439.3 736.477,1440.59 757.198,1441.61 777.92,1442.43 798.641,1443.09 819.363,1443.61 840.085,1444.03 860.806,1444.37 881.528,1444.64 902.249,1444.86 922.971,1445.03 943.692,1445.16 964.414,1445.28 985.135,1445.36 1005.86,1445.43 1026.58,1445.49 1047.3,1445.54 1068.02,1445.57 1088.74,1445.6 1109.46,1445.62 1130.19,1445.64 1150.91,1445.66 1171.63,1445.67 1192.35,1445.68 1213.07,1445.69 1233.79,1445.69 1254.52,1445.7 1275.24,1445.7 1295.96,1445.7 1316.68,1445.71 1337.4,1445.71 1358.12,1445.71 1378.84,1445.71 1399.57,1445.71 1420.29,1445.71 1441.01,1445.71 1461.73,1445.71 1482.45,1445.71 1503.17,1445.71 1523.89,1445.71 1544.62,1445.71 1565.34,1445.72 1586.06,1445.72 1606.78,1445.72 1627.5,1445.72 1648.22,1445.72 1668.95,1445.72 1689.67,1445.72 1710.39,1445.72 1731.11,1445.72 1751.83,1445.72 1772.55,1445.72 1793.27,1445.72 1814,1445.72 1834.72,1445.72 1855.44,1445.72 1876.16,1445.72 1896.88,1445.72 1917.6,1445.72 1938.33,1445.72 1959.05,1445.72 1979.77,1445.72 2000.49,1445.72 2021.21,1445.72 2041.93,1445.72 2062.65,1445.72 2083.38,1445.72 2104.1,1445.72 2124.82,1445.72 2145.54,1445.72 2166.26,1445.72 2186.98,1445.72 2207.71,1445.72 2228.43,1445.72 2249.15,1445.72 2269.87,1445.72 2290.59,1445.72 \"/>\n",
       "<path clip-path=\"url(#clip680)\" d=\"M2007.46 198.898 L2279.54 198.898 L2279.54 95.2176 L2007.46 95.2176  Z\" fill=\"#ffffff\" fill-rule=\"evenodd\" fill-opacity=\"1\"/>\n",
       "<polyline clip-path=\"url(#clip680)\" style=\"stroke:#000000; stroke-linecap:round; stroke-linejoin:round; stroke-width:4; stroke-opacity:1; fill:none\" points=\"2007.46,198.898 2279.54,198.898 2279.54,95.2176 2007.46,95.2176 2007.46,198.898 \"/>\n",
       "<polyline clip-path=\"url(#clip680)\" style=\"stroke:#009af9; stroke-linecap:round; stroke-linejoin:round; stroke-width:4; stroke-opacity:1; fill:none\" points=\"2031.87,147.058 2178.3,147.058 \"/>\n",
       "<path clip-path=\"url(#clip680)\" d=\"M2216.55 166.745 Q2214.74 171.375 2213.03 172.787 Q2211.32 174.199 2208.44 174.199 L2205.04 174.199 L2205.04 170.634 L2207.54 170.634 Q2209.3 170.634 2210.27 169.8 Q2211.25 168.967 2212.43 165.865 L2213.19 163.921 L2202.7 138.412 L2207.22 138.412 L2215.32 158.689 L2223.42 138.412 L2227.94 138.412 L2216.55 166.745 Z\" fill=\"#000000\" fill-rule=\"nonzero\" fill-opacity=\"1\" /><path clip-path=\"url(#clip680)\" d=\"M2235.23 160.402 L2242.87 160.402 L2242.87 134.037 L2234.56 135.703 L2234.56 131.444 L2242.82 129.778 L2247.5 129.778 L2247.5 160.402 L2255.13 160.402 L2255.13 164.338 L2235.23 164.338 L2235.23 160.402 Z\" fill=\"#000000\" fill-rule=\"nonzero\" fill-opacity=\"1\" /></svg>\n"
      ]
     },
     "metadata": {},
     "output_type": "display_data"
    }
   ],
   "source": [
    "display(plot(xvec, second_col))"
   ]
  },
  {
   "cell_type": "code",
   "execution_count": null,
   "id": "54603356",
   "metadata": {},
   "outputs": [],
   "source": []
  }
 ],
 "metadata": {
  "kernelspec": {
   "display_name": "Julia 1.11.2",
   "language": "julia",
   "name": "julia-1.11"
  },
  "language_info": {
   "file_extension": ".jl",
   "mimetype": "application/julia",
   "name": "julia",
   "version": "1.11.2"
  }
 },
 "nbformat": 4,
 "nbformat_minor": 5
}
